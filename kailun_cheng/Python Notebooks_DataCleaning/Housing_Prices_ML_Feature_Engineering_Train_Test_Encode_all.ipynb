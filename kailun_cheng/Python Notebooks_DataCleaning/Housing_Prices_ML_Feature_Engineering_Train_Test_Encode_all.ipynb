{
  "nbformat": 4,
  "nbformat_minor": 0,
  "metadata": {
    "colab": {
      "name": "Housing Prices ML_Feature Engineering_Train_Test_Encode_all.ipynb",
      "provenance": [],
      "collapsed_sections": [
        "mrahcmKhIsi6",
        "T1gHKrnTIsjm",
        "lCVzBgemIsju",
        "rp4y3UqeIsj3",
        "cUWSj72LIskC",
        "j8HqljlGVIkQ",
        "SbAue4r8ekIt",
        "QNReSN1PRcJI",
        "7dEiyu25-AtY",
        "aebkOqmE3rUG",
        "U8Cq0iGtldVu",
        "2brQpHx5Isl0"
      ],
      "include_colab_link": true
    },
    "kernelspec": {
      "name": "python3",
      "display_name": "Python 3"
    }
  },
  "cells": [
    {
      "cell_type": "markdown",
      "metadata": {
        "id": "view-in-github",
        "colab_type": "text"
      },
      "source": [
        "<a href=\"https://colab.research.google.com/github/Kailunwrites/Kaggle-Machine-Learning-Housing-Project-/blob/master/kailun_cheng/Python%20Notebooks_DataCleaning/Housing_Prices_ML_Feature_Engineering_Train_Test_Encode_all.ipynb\" target=\"_parent\"><img src=\"https://colab.research.google.com/assets/colab-badge.svg\" alt=\"Open In Colab\"/></a>"
      ]
    },
    {
      "cell_type": "markdown",
      "metadata": {
        "colab_type": "text",
        "id": "ToU46FrmIsiy"
      },
      "source": [
        "#Kailun Section Categorical Only"
      ]
    },
    {
      "cell_type": "markdown",
      "metadata": {
        "colab_type": "text",
        "id": "mrahcmKhIsi6"
      },
      "source": [
        "##Load Data and Import Libs"
      ]
    },
    {
      "cell_type": "code",
      "metadata": {
        "colab_type": "code",
        "outputId": "61774b96-ba7d-4a3e-e145-33098902d7be",
        "id": "8PftWFrrIsi9",
        "colab": {
          "base_uri": "https://localhost:8080/",
          "height": 124
        }
      },
      "source": [
        "from google.colab import drive\n",
        "drive.mount('/content/drive')"
      ],
      "execution_count": 1,
      "outputs": [
        {
          "output_type": "stream",
          "text": [
            "Go to this URL in a browser: https://accounts.google.com/o/oauth2/auth?client_id=947318989803-6bn6qk8qdgf4n4g3pfee6491hc0brc4i.apps.googleusercontent.com&redirect_uri=urn%3aietf%3awg%3aoauth%3a2.0%3aoob&response_type=code&scope=email%20https%3a%2f%2fwww.googleapis.com%2fauth%2fdocs.test%20https%3a%2f%2fwww.googleapis.com%2fauth%2fdrive%20https%3a%2f%2fwww.googleapis.com%2fauth%2fdrive.photos.readonly%20https%3a%2f%2fwww.googleapis.com%2fauth%2fpeopleapi.readonly\n",
            "\n",
            "Enter your authorization code:\n",
            "··········\n",
            "Mounted at /content/drive\n"
          ],
          "name": "stdout"
        }
      ]
    },
    {
      "cell_type": "code",
      "metadata": {
        "colab_type": "code",
        "id": "hWaPyA-_IsjK",
        "colab": {}
      },
      "source": [
        "import pandas as pd\n",
        "import numpy as np \n",
        "import seaborn as sns\n",
        "import matplotlib.pyplot as plt\n",
        "import os "
      ],
      "execution_count": 0,
      "outputs": []
    },
    {
      "cell_type": "code",
      "metadata": {
        "id": "RuYj74LkJHHX",
        "colab_type": "code",
        "outputId": "0df30195-15d1-45ac-bc68-257edbd20a6b",
        "colab": {
          "base_uri": "https://localhost:8080/",
          "height": 35
        }
      },
      "source": [
        "cd /content/drive/My\\ Drive/Data Science Bootcamp 2019 /Housing_Project/"
      ],
      "execution_count": 3,
      "outputs": [
        {
          "output_type": "stream",
          "text": [
            "/content/drive/My Drive/Data Science Bootcamp 2019 /Housing_Project\n"
          ],
          "name": "stdout"
        }
      ]
    },
    {
      "cell_type": "code",
      "metadata": {
        "id": "pOyCtxX0JCev",
        "colab_type": "code",
        "outputId": "3855cd7e-59ad-49ec-dae6-f9447128c877",
        "colab": {
          "base_uri": "https://localhost:8080/",
          "height": 156
        }
      },
      "source": [
        "ls"
      ],
      "execution_count": 4,
      "outputs": [
        {
          "output_type": "stream",
          "text": [
            " DataExploration_jah.ipynb\n",
            "'Housing Prices ML_Feature Engineering_Train_Test_Encode_all.ipynb'\n",
            " test1.csv\n",
            " test_all0.csv\n",
            " test.csv\n",
            " train1.csv\n",
            " train_all0.csv\n",
            " train.csv\n"
          ],
          "name": "stdout"
        }
      ]
    },
    {
      "cell_type": "code",
      "metadata": {
        "colab_type": "code",
        "id": "5_agUbu8IsjY",
        "colab": {}
      },
      "source": [
        "filename= r'train.csv'\n",
        "filename2= r'test.csv'\n",
        "train_data = pd.read_csv(filename)\n",
        "test_data = pd.read_csv(filename2)"
      ],
      "execution_count": 0,
      "outputs": []
    },
    {
      "cell_type": "markdown",
      "metadata": {
        "colab_type": "text",
        "id": "T1gHKrnTIsjm"
      },
      "source": [
        "##Examine Data (Make sure data loaded correctly)"
      ]
    },
    {
      "cell_type": "code",
      "metadata": {
        "colab_type": "code",
        "id": "2CIN9vmSIsjn",
        "colab": {}
      },
      "source": [
        "#train_data.drop(\"Id\", 1, inplace=True)  # remove ID column, uncomment if doing modelling on its own \n",
        "train_data.head()"
      ],
      "execution_count": 0,
      "outputs": []
    },
    {
      "cell_type": "code",
      "metadata": {
        "colab_type": "code",
        "id": "_t6ZmRAoIsjs",
        "colab": {}
      },
      "source": [
        "#test_data.drop(\"Id\", 1, inplace=True)  # remove ID column\n",
        "test_data.head()  # exactly the same features "
      ],
      "execution_count": 0,
      "outputs": []
    },
    {
      "cell_type": "markdown",
      "metadata": {
        "colab_type": "text",
        "id": "lCVzBgemIsju"
      },
      "source": [
        "## Kailun Data Description and comments \n"
      ]
    },
    {
      "cell_type": "markdown",
      "metadata": {
        "colab_type": "text",
        "id": "ba6QtJmwIsju"
      },
      "source": [
        "\n",
        "BsmtCond: Evaluates the general condition of the basement   \n",
        "\n",
        "       Ex\tExcellent\n",
        "       Gd\tGood\n",
        "       TA\tTypical - slight dampness allowed\n",
        "       Fa\tFair - dampness or some cracking or settling\n",
        "       Po\tPoor - Severe cracking, settling, or wetness\n",
        "       NA\tNo Basement\n",
        "\t\n",
        "BsmtExposure: Refers to walkout or garden level walls\n",
        "\n",
        "       Gd\tGood Exposure\n",
        "       Av\tAverage Exposure (split levels or foyers typically score average or above)\t\n",
        "       Mn\tMimimum Exposure\n",
        "       No\tNo Exposure\n",
        "       NA\tNo Basement\n",
        "\t\n",
        "BsmtFinType1: Rating of basement finished area\n",
        "\n",
        "       GLQ\tGood Living Quarters\n",
        "       ALQ\tAverage Living Quarters\n",
        "       BLQ\tBelow Average Living Quarters\t\n",
        "       Rec\tAverage Rec Room\n",
        "       LwQ\tLow Quality\n",
        "       Unf\tUnfinshed\n",
        "       NA\tNo Basement\n",
        "\n",
        "BsmtFinType2: Rating of basement finished area (if multiple types)\n",
        "\n",
        "       GLQ\tGood Living Quarters\n",
        "       ALQ\tAverage Living Quarters\n",
        "       BLQ\tBelow Average Living Quarters\t\n",
        "       Rec\tAverage Rec Room\n",
        "       LwQ\tLow Quality\n",
        "       Unf\tUnfinshed\n",
        "       NA\tNo Basement\n",
        "\n",
        "#########################################################\n",
        "\n",
        "Heating: Type of heating\n",
        "\t\t\n",
        "       Floor\tFloor Furnace\n",
        "       GasA\tGas forced warm air furnace\n",
        "       GasW\tGas hot water or steam heat\n",
        "       Grav\tGravity furnace\t\n",
        "       OthW\tHot water or steam heat other than gas\n",
        "       Wall\tWall furnace\n",
        "\t\t\n",
        "HeatingQC: Heating quality and condition\n",
        "\n",
        "       Ex\tExcellent\n",
        "       Gd\tGood\n",
        "       TA\tAverage/Typical\n",
        "       Fa\tFair\n",
        "       Po\tPoor\n",
        "\t\t\n",
        "CentralAir: Central air conditioning\n",
        "\n",
        "       N\tNo\n",
        "       Y\tYes\n",
        "\t\t\n",
        "Electrical: Electrical system\n",
        "\n",
        "       SBrkr\tStandard Circuit Breakers & Romex\n",
        "       FuseA\tFuse Box over 60 AMP and all Romex wiring (Average)\t\n",
        "       FuseF\t60 AMP Fuse Box and mostly Romex wiring (Fair)\n",
        "       FuseP\t60 AMP Fuse Box and mostly knob & tube wiring (poor)\n",
        "       Mix\tMixed\n",
        "\t\t\n",
        "\n",
        "KitchenQual: Kitchen quality\n",
        "\n",
        "       Ex\tExcellent\n",
        "       Gd\tGood\n",
        "       TA\tTypical/Average\n",
        "       Fa\tFair\n",
        "       Po\tPoor\n",
        "       \t\n",
        "\n",
        "Functional: Home functionality (Assume typical unless deductions are warranted)\n",
        "\n",
        "       Typ\tTypical Functionality\n",
        "       Min1\tMinor Deductions 1\n",
        "       Min2\tMinor Deductions 2\n",
        "       Mod\tModerate Deductions\n",
        "       Maj1\tMajor Deductions 1\n",
        "       Maj2\tMajor Deductions 2\n",
        "       Sev\tSeverely Damaged\n",
        "       Sal\tSalvage only\n",
        "\t\t\n",
        "FireplaceQu: Fireplace quality\n",
        "\n",
        "       Ex\tExcellent - Exceptional Masonry Fireplace\n",
        "       Gd\tGood - Masonry Fireplace in main level\n",
        "       TA\tAverage - Prefabricated Fireplace in main living area or Masonry Fireplace in basement\n",
        "       Fa\tFair - Prefabricated Fireplace in basement\n",
        "       Po\tPoor - Ben Franklin Stove\n",
        "       NA\tNo Fireplace\n",
        "\t\t\n",
        "GarageType: Garage location\n",
        "\t\t\n",
        "       2Types\tMore than one type of garage\n",
        "       Attchd\tAttached to home\n",
        "       Basment\tBasement Garage\n",
        "       BuiltIn\tBuilt-In (Garage part of house - typically has room above garage)\n",
        "       CarPort\tCar Port\n",
        "       Detchd\tDetached from home\n",
        "       NA\tNo Garage\n",
        "\t\t\n",
        "\t\t\n",
        "GarageFinish: Interior finish of the garage\n",
        "\n",
        "       Fin\tFinished\n",
        "       RFn\tRough Finished\t\n",
        "       Unf\tUnfinished\n",
        "       NA\tNo Garage\n",
        "\t\t\n",
        "\n",
        "GarageQual: Garage quality\n",
        "\n",
        "       Ex\tExcellent\n",
        "       Gd\tGood\n",
        "       TA\tTypical/Average\n",
        "       Fa\tFair\n",
        "       Po\tPoor\n",
        "       NA\tNo Garage\n",
        "\t\t\n",
        "GarageCond: Garage condition\n",
        "\n",
        "       Ex\tExcellent\n",
        "       Gd\tGood\n",
        "       TA\tTypical/Average\n",
        "       Fa\tFair\n",
        "       Po\tPoor\n",
        "       NA\tNo Garage\n",
        "\t\t\n",
        "PavedDrive: Paved driveway\n",
        "\n",
        "       Y\tPaved \n",
        "       P\tPartial Pavement\n",
        "       N\tDirt/Gravel\n",
        "\t\t\n",
        "PoolQC: Pool quality\n",
        "\t\t\n",
        "       Ex\tExcellent\n",
        "       Gd\tGood\n",
        "       TA\tAverage/Typical\n",
        "       Fa\tFair\n",
        "       NA\tNo Pool\n",
        "\t\t\n",
        "Fence: Fence quality\n",
        "\t\t\n",
        "       GdPrv\tGood Privacy\n",
        "       MnPrv\tMinimum Privacy\n",
        "       GdWo\tGood Wood\n",
        "       MnWw\tMinimum Wood/Wire\n",
        "       NA\tNo Fence\n",
        "\t\n",
        "MiscFeature: Miscellaneous feature not covered in other categories\n",
        "\t\t\n",
        "       Elev\tElevator\n",
        "       Gar2\t2nd Garage (if not described in garage section)\n",
        "       Othr\tOther\n",
        "       Shed\tShed (over 100 SF)\n",
        "       TenC\tTennis Court\n",
        "       NA\tNone\n",
        "\n",
        "SaleType: Type of sale\n",
        "\t\t\n",
        "       WD \tWarranty Deed - Conventional\n",
        "       CWD\tWarranty Deed - Cash\n",
        "       VWD\tWarranty Deed - VA Loan\n",
        "       New\tHome just constructed and sold\n",
        "       COD\tCourt Officer Deed/Estate\n",
        "       Con\tContract 15% Down payment regular terms\n",
        "       ConLw\tContract Low Down payment and low interest\n",
        "       ConLI\tContract Low Interest\n",
        "       ConLD\tContract Low Down\n",
        "       Oth\tOther\n",
        "\t\t\n",
        "SaleCondition: Condition of sale\n",
        "\n",
        "       Normal\tNormal Sale\n",
        "       Abnorml\tAbnormal Sale -  trade, foreclosure, short sale\n",
        "       AdjLand\tAdjoining Land Purchase\n",
        "       Alloca\tAllocation - two linked properties with separate deeds, typically condo with a garage unit\t\n",
        "       Family\tSale between family members\n",
        "       Partial\tHome was not completed when last assessed (associated with New Homes)\n"
      ]
    },
    {
      "cell_type": "code",
      "metadata": {
        "colab_type": "code",
        "id": "VKb1f6NQIsj1",
        "colab": {}
      },
      "source": [
        ""
      ],
      "execution_count": 0,
      "outputs": []
    },
    {
      "cell_type": "markdown",
      "metadata": {
        "colab_type": "text",
        "id": "rp4y3UqeIsj3"
      },
      "source": [
        "## Response Variable  (+ transformation)\n",
        "\n"
      ]
    },
    {
      "cell_type": "markdown",
      "metadata": {
        "colab_type": "text",
        "id": "L82-uFE_Isj6"
      },
      "source": [
        "visualize the log transform of the response variable.  Log transform able to normalize the response variable "
      ]
    },
    {
      "cell_type": "code",
      "metadata": {
        "colab_type": "code",
        "id": "mlrtnQ2LIsj_",
        "colab": {}
      },
      "source": [
        "train_data_plot['SalePrice_log']= np.log(train_data_plot['SalePrice'])"
      ],
      "execution_count": 0,
      "outputs": []
    },
    {
      "cell_type": "code",
      "metadata": {
        "id": "qrh_Ol8D4oJp",
        "colab_type": "code",
        "colab": {}
      },
      "source": [
        "sns.distplot(train_data_cat_var['SalePrice_log'])"
      ],
      "execution_count": 0,
      "outputs": []
    },
    {
      "cell_type": "markdown",
      "metadata": {
        "colab_type": "text",
        "id": "cUWSj72LIskC"
      },
      "source": [
        "##Categorical Indep. Variables All data cleaning train\n",
        "\n"
      ]
    },
    {
      "cell_type": "code",
      "metadata": {
        "colab_type": "code",
        "id": "1bQGt-QgIskD",
        "outputId": "4b5eef73-a65e-469c-e5b5-4d897b389510",
        "colab": {
          "base_uri": "https://localhost:8080/",
          "height": 0
        }
      },
      "source": [
        "cat_var_all= ['BsmtQual', 'BsmtCond', 'BsmtExposure', 'BsmtFinType1', 'BsmtFinType2', 'Heating', 'HeatingQC', 'CentralAir', 'Electrical',\n",
        "              'KitchenQual', 'Functional', 'FireplaceQu', 'GarageType', 'GarageFinish', 'GarageQual', 'GarageCond', 'PavedDrive', \n",
        "              'PoolQC', 'Fence', 'MiscFeature','SaleType', 'SaleCondition', 'SalePrice_log', 'SalePrice']\n",
        "len(cat_var_all)  #should return 24"
      ],
      "execution_count": 8,
      "outputs": [
        {
          "output_type": "execute_result",
          "data": {
            "text/plain": [
              "24"
            ]
          },
          "metadata": {
            "tags": []
          },
          "execution_count": 8
        }
      ]
    },
    {
      "cell_type": "code",
      "metadata": {
        "colab_type": "code",
        "id": "SMAWIwFEIskF",
        "colab": {}
      },
      "source": [
        "train_data_cat_var= pd.DataFrame(train_data, columns=cat_var_all)"
      ],
      "execution_count": 0,
      "outputs": []
    },
    {
      "cell_type": "code",
      "metadata": {
        "colab_type": "code",
        "id": "wc6BOKrMIskH",
        "colab": {}
      },
      "source": [
        "train_data_cat_var.sample(10)"
      ],
      "execution_count": 0,
      "outputs": []
    },
    {
      "cell_type": "markdown",
      "metadata": {
        "colab_type": "text",
        "id": "CAIUPYOQIskP"
      },
      "source": [
        "### Null columns? or NA?"
      ]
    },
    {
      "cell_type": "code",
      "metadata": {
        "colab_type": "code",
        "outputId": "382fa837-c60d-449a-c30b-b46211410ff0",
        "id": "gBo6SY8MIskJ",
        "colab": {
          "base_uri": "https://localhost:8080/",
          "height": 0
        }
      },
      "source": [
        "train_data_cat_var.info()  #initial info with all null values"
      ],
      "execution_count": 10,
      "outputs": [
        {
          "output_type": "stream",
          "text": [
            "<class 'pandas.core.frame.DataFrame'>\n",
            "RangeIndex: 1460 entries, 0 to 1459\n",
            "Data columns (total 24 columns):\n",
            "BsmtQual         1423 non-null object\n",
            "BsmtCond         1423 non-null object\n",
            "BsmtExposure     1422 non-null object\n",
            "BsmtFinType1     1423 non-null object\n",
            "BsmtFinType2     1422 non-null object\n",
            "Heating          1460 non-null object\n",
            "HeatingQC        1460 non-null object\n",
            "CentralAir       1460 non-null object\n",
            "Electrical       1459 non-null object\n",
            "KitchenQual      1460 non-null object\n",
            "Functional       1460 non-null object\n",
            "FireplaceQu      770 non-null object\n",
            "GarageType       1379 non-null object\n",
            "GarageFinish     1379 non-null object\n",
            "GarageQual       1379 non-null object\n",
            "GarageCond       1379 non-null object\n",
            "PavedDrive       1460 non-null object\n",
            "PoolQC           7 non-null object\n",
            "Fence            281 non-null object\n",
            "MiscFeature      54 non-null object\n",
            "SaleType         1460 non-null object\n",
            "SaleCondition    1460 non-null object\n",
            "SalePrice_log    1460 non-null float64\n",
            "SalePrice        1460 non-null int64\n",
            "dtypes: float64(1), int64(1), object(22)\n",
            "memory usage: 273.9+ KB\n"
          ],
          "name": "stdout"
        }
      ]
    },
    {
      "cell_type": "markdown",
      "metadata": {
        "id": "j8HqljlGVIkQ",
        "colab_type": "text"
      },
      "source": [
        "#### Bsmt related \n",
        "Replace null with NA \n",
        "\n",
        "if BsmtQual!=null & BsmtCond!= null & BsmtExposure==null:\n",
        "  BsmtExposure= No\n"
      ]
    },
    {
      "cell_type": "code",
      "metadata": {
        "id": "X5ln1qqkRbNn",
        "colab_type": "code",
        "colab": {}
      },
      "source": [
        "#mask=train_data_cat_var['BsmtCond'].isnull()\n",
        "#obtain the index with the rows that are null \n",
        "# make sure all of the no Bsmt houses line up \n",
        "bsmt_null_list=np.array(train_data_cat_var['BsmtCond'][train_data_cat_var['BsmtCond'].isnull()].index)\n",
        "bsmt_null_list2=np.array(train_data_cat_var['BsmtQual'][train_data_cat_var['BsmtQual'].isnull()].index)\n",
        "bsmt_null_list3=np.array(train_data_cat_var['BsmtExposure'][train_data_cat_var['BsmtExposure'].isnull()].index)\n",
        "bsmt_null_list4=np.array(train_data_cat_var['BsmtFinType1'][train_data_cat_var['BsmtFinType1'].isnull()].index)\n",
        "bsmt_null_list5=np.array(train_data_cat_var['BsmtFinType2'][train_data_cat_var['BsmtFinType2'].isnull()].index)"
      ],
      "execution_count": 0,
      "outputs": []
    },
    {
      "cell_type": "code",
      "metadata": {
        "id": "peucJL1_ZlaM",
        "colab_type": "code",
        "outputId": "18207469-6af5-41ef-812e-a7549f89f36f",
        "colab": {
          "base_uri": "https://localhost:8080/",
          "height": 0
        }
      },
      "source": [
        "import collections\n",
        "if collections.Counter(bsmt_null_list)==collections.Counter(bsmt_null_list2)==collections.Counter(bsmt_null_list3)==collections.Counter(bsmt_null_list4):\n",
        "    print(\"same\")\n",
        "else:\n",
        "  print(\"no\")\n",
        "\n",
        "print(list(set(bsmt_null_list3)- set(bsmt_null_list5)))"
      ],
      "execution_count": 12,
      "outputs": [
        {
          "output_type": "stream",
          "text": [
            "no\n",
            "[948]\n"
          ],
          "name": "stdout"
        }
      ]
    },
    {
      "cell_type": "code",
      "metadata": {
        "colab_type": "code",
        "outputId": "8e8d02ca-da51-4c81-cd33-7f1941143fae",
        "id": "KUIqVvV4PfXi",
        "colab": {
          "base_uri": "https://localhost:8080/",
          "height": 0
        }
      },
      "source": [
        "# check the length of the BsmtFinSF that's not 0 \n",
        "len(np.array(train_data['BsmtFinSF2'][train_data['BsmtFinSF2']!=0].index))/ len(train_data['BsmtFinSF2'])"
      ],
      "execution_count": 13,
      "outputs": [
        {
          "output_type": "execute_result",
          "data": {
            "text/plain": [
              "0.11438356164383562"
            ]
          },
          "metadata": {
            "tags": []
          },
          "execution_count": 13
        }
      ]
    },
    {
      "cell_type": "code",
      "metadata": {
        "id": "mYtGOQ-URTm3",
        "colab_type": "code",
        "colab": {}
      },
      "source": [
        "train_data_cat_var['BsmtQual'].fillna(\"None\", inplace=True)\n",
        "train_data_cat_var['BsmtCond'].fillna(\"None\", inplace=True)\n",
        "train_data_cat_var['BsmtExposure'].fillna(\"None\", inplace=True)\n",
        "train_data_cat_var['BsmtFinType1'].fillna(\"None\", inplace=True)\n",
        "train_data_cat_var['BsmtFinType2'].fillna(\"None\", inplace=True)\n",
        "train_data_cat_var.at[948,'BsmtExposure']='No'"
      ],
      "execution_count": 0,
      "outputs": []
    },
    {
      "cell_type": "markdown",
      "metadata": {
        "id": "xRKExRJ21Io8",
        "colab_type": "text"
      },
      "source": [
        "#### Electrical Fill with Mode"
      ]
    },
    {
      "cell_type": "code",
      "metadata": {
        "id": "_jsfrmoQ1USE",
        "colab_type": "code",
        "colab": {}
      },
      "source": [
        "train_data_cat_var['Electrical'].fillna(train_data_cat_var['Electrical'].mode()[0], inplace=True)"
      ],
      "execution_count": 0,
      "outputs": []
    },
    {
      "cell_type": "markdown",
      "metadata": {
        "id": "Od_TySecz6F1",
        "colab_type": "text"
      },
      "source": [
        "#### FireplaceQu"
      ]
    },
    {
      "cell_type": "code",
      "metadata": {
        "id": "t-dYx0Rd0Gzp",
        "colab_type": "code",
        "colab": {}
      },
      "source": [
        "fireplace_null_list=np.array(train_data_cat_var['FireplaceQu'][train_data_cat_var['FireplaceQu'].isnull()].index)"
      ],
      "execution_count": 0,
      "outputs": []
    },
    {
      "cell_type": "code",
      "metadata": {
        "id": "ye-L1BLqJGXj",
        "colab_type": "code",
        "outputId": "fa6de748-ee93-4cf0-82b1-f88ca2efda3d",
        "colab": {
          "base_uri": "https://localhost:8080/",
          "height": 0
        }
      },
      "source": [
        "len(train_data_cat_var['FireplaceQu'][fireplace_null_list]) # 690 is what we want "
      ],
      "execution_count": 355,
      "outputs": [
        {
          "output_type": "execute_result",
          "data": {
            "text/plain": [
              "690"
            ]
          },
          "metadata": {
            "tags": []
          },
          "execution_count": 355
        }
      ]
    },
    {
      "cell_type": "code",
      "metadata": {
        "id": "pZUfz4sgJ2Rf",
        "colab_type": "code",
        "colab": {}
      },
      "source": [
        "train_data_cat_var['FireplaceQu'].fillna(\"None\", inplace=True)"
      ],
      "execution_count": 0,
      "outputs": []
    },
    {
      "cell_type": "markdown",
      "metadata": {
        "id": "IqE1t-MI9UO2",
        "colab_type": "text"
      },
      "source": [
        "#### Garage related "
      ]
    },
    {
      "cell_type": "code",
      "metadata": {
        "id": "3KgJW34CMu49",
        "colab_type": "code",
        "colab": {
          "base_uri": "https://localhost:8080/",
          "height": 0
        },
        "outputId": "d1dfdcc0-7447-4f36-c6fa-fdffe70b2626"
      },
      "source": [
        "# Need to first check whether the garage variables line up, if none garage lines up \n",
        "garage_null_list=np.array(train_data_cat_var['GarageType'][train_data_cat_var['GarageType'].isnull()].index)\n",
        "garage_null_list2=np.array(train_data_cat_var['GarageFinish'][train_data_cat_var['GarageFinish'].isnull()].index)\n",
        "garage_null_list3=np.array(train_data_cat_var['GarageQual'][train_data_cat_var['GarageQual'].isnull()].index)\n",
        "garage_null_list4=np.array(train_data_cat_var['GarageCond'][train_data_cat_var['GarageCond'].isnull()].index)\n",
        "\n",
        "import collections\n",
        "if collections.Counter(garage_null_list2)==collections.Counter(garage_null_list4)==collections.Counter(garage_null_list3):\n",
        "    print(\"same\")\n",
        "else:\n",
        "  print(\"no\")"
      ],
      "execution_count": 19,
      "outputs": [
        {
          "output_type": "stream",
          "text": [
            "same\n"
          ],
          "name": "stdout"
        }
      ]
    },
    {
      "cell_type": "code",
      "metadata": {
        "id": "o2wSLmcq9dgY",
        "colab_type": "code",
        "colab": {}
      },
      "source": [
        "train_data_cat_var['GarageType'].fillna(\"None\", inplace=True)\n",
        "train_data_cat_var['GarageFinish'].fillna(\"None\", inplace=True)\n",
        "train_data_cat_var['GarageQual'].fillna(\"None\", inplace=True)\n",
        "train_data_cat_var['GarageCond'].fillna(\"None\", inplace=True)"
      ],
      "execution_count": 0,
      "outputs": []
    },
    {
      "cell_type": "markdown",
      "metadata": {
        "id": "u_oDasQ89c1o",
        "colab_type": "text"
      },
      "source": [
        "#### PoolQC, Fence, MiscFeature turn into strict cat "
      ]
    },
    {
      "cell_type": "code",
      "metadata": {
        "id": "SWOinja8ExhI",
        "colab_type": "code",
        "colab": {}
      },
      "source": [
        "#mask= train_data_cat_var['PoolQC'].isnull\n",
        "train_data_cat_var['PoolQC'].fillna(\"None\", inplace=True)"
      ],
      "execution_count": 0,
      "outputs": []
    },
    {
      "cell_type": "code",
      "metadata": {
        "id": "5rYMwaEpY5sq",
        "colab_type": "code",
        "colab": {}
      },
      "source": [
        "train_data_cat_var['Fence'].fillna(\"None\", inplace=True)"
      ],
      "execution_count": 0,
      "outputs": []
    },
    {
      "cell_type": "code",
      "metadata": {
        "id": "d_QrPGd5ZEtf",
        "colab_type": "code",
        "colab": {}
      },
      "source": [
        "train_data_cat_var['MiscFeature'].fillna(\"None\", inplace=True)"
      ],
      "execution_count": 0,
      "outputs": []
    },
    {
      "cell_type": "code",
      "metadata": {
        "id": "X6TLUdp2KpQY",
        "colab_type": "code",
        "colab": {}
      },
      "source": [
        "#train_data_cat_var['MiscFeature'][train_data_cat_var['MiscFeature']==\"NoTFeat\"]= \"None\""
      ],
      "execution_count": 0,
      "outputs": []
    },
    {
      "cell_type": "markdown",
      "metadata": {
        "id": "4Qy6J_LoSZDS",
        "colab_type": "text"
      },
      "source": [
        "#### Check for null values NOW again by doing .info()"
      ]
    },
    {
      "cell_type": "code",
      "metadata": {
        "id": "G_q__V66SeZK",
        "colab_type": "code",
        "outputId": "3479d0b4-b2c9-41c0-fd90-e7523ed43a6d",
        "colab": {
          "base_uri": "https://localhost:8080/",
          "height": 0
        }
      },
      "source": [
        "train_data_cat_var.info()\n",
        "#train_data_cat_var.isnull().sum(axis=0)"
      ],
      "execution_count": 361,
      "outputs": [
        {
          "output_type": "stream",
          "text": [
            "<class 'pandas.core.frame.DataFrame'>\n",
            "RangeIndex: 1460 entries, 0 to 1459\n",
            "Data columns (total 24 columns):\n",
            "BsmtQual         1460 non-null object\n",
            "BsmtCond         1460 non-null object\n",
            "BsmtExposure     1460 non-null object\n",
            "BsmtFinType1     1460 non-null object\n",
            "BsmtFinType2     1460 non-null object\n",
            "Heating          1460 non-null object\n",
            "HeatingQC        1460 non-null object\n",
            "CentralAir       1460 non-null object\n",
            "Electrical       1460 non-null object\n",
            "KitchenQual      1460 non-null object\n",
            "Functional       1460 non-null object\n",
            "FireplaceQu      1460 non-null object\n",
            "GarageType       1460 non-null object\n",
            "GarageFinish     1460 non-null object\n",
            "GarageQual       1460 non-null object\n",
            "GarageCond       1460 non-null object\n",
            "PavedDrive       1460 non-null object\n",
            "PoolQC           1460 non-null object\n",
            "Fence            1460 non-null object\n",
            "MiscFeature      1460 non-null object\n",
            "SaleType         1460 non-null object\n",
            "SaleCondition    1460 non-null object\n",
            "SalePrice_log    1460 non-null float64\n",
            "SalePrice        1460 non-null int64\n",
            "dtypes: float64(1), int64(1), object(22)\n",
            "memory usage: 273.9+ KB\n"
          ],
          "name": "stdout"
        }
      ]
    },
    {
      "cell_type": "markdown",
      "metadata": {
        "colab_type": "text",
        "id": "SbAue4r8ekIt"
      },
      "source": [
        "##Categorical Indep. Variables All data cleaning testing\n",
        "\n"
      ]
    },
    {
      "cell_type": "code",
      "metadata": {
        "colab_type": "code",
        "outputId": "13c4bf96-8689-41ad-cf0e-e52281853b33",
        "id": "QEwj2bCMekIz",
        "colab": {
          "base_uri": "https://localhost:8080/",
          "height": 0
        }
      },
      "source": [
        "cat_var_all= ['BsmtQual', 'BsmtCond', 'BsmtExposure', 'BsmtFinType1', 'BsmtFinType2', 'Heating', 'HeatingQC', 'CentralAir', 'Electrical',\n",
        "              'KitchenQual', 'Functional', 'FireplaceQu', 'GarageType', 'GarageFinish', 'GarageQual', 'GarageCond', 'PavedDrive', \n",
        "              'PoolQC', 'Fence', 'MiscFeature','SaleType', 'SaleCondition', 'SalePrice_log', 'SalePrice']\n",
        "len(cat_var_all)  #should return 24"
      ],
      "execution_count": 24,
      "outputs": [
        {
          "output_type": "execute_result",
          "data": {
            "text/plain": [
              "24"
            ]
          },
          "metadata": {
            "tags": []
          },
          "execution_count": 24
        }
      ]
    },
    {
      "cell_type": "code",
      "metadata": {
        "colab_type": "code",
        "id": "95IY3Z03ekJC",
        "colab": {}
      },
      "source": [
        "test_data_cat_var= pd.DataFrame(test_data, columns=cat_var_all).drop(['SalePrice_log', 'SalePrice'], axis=1)"
      ],
      "execution_count": 0,
      "outputs": []
    },
    {
      "cell_type": "code",
      "metadata": {
        "colab_type": "code",
        "outputId": "9b4c3c79-4a2b-4d69-b952-cdb2fe5916ba",
        "id": "W-wjZ_moekJH",
        "colab": {
          "base_uri": "https://localhost:8080/",
          "height": 0
        }
      },
      "source": [
        "test_data_cat_var.shape"
      ],
      "execution_count": 30,
      "outputs": [
        {
          "output_type": "execute_result",
          "data": {
            "text/plain": [
              "(1459, 22)"
            ]
          },
          "metadata": {
            "tags": []
          },
          "execution_count": 30
        }
      ]
    },
    {
      "cell_type": "markdown",
      "metadata": {
        "colab_type": "text",
        "id": "oxymYFTiekJK"
      },
      "source": [
        "### Null columns? or NA?"
      ]
    },
    {
      "cell_type": "code",
      "metadata": {
        "colab_type": "code",
        "outputId": "167968c3-6e41-455a-8b34-65464522f56f",
        "id": "0RtQqSPoekJN",
        "colab": {
          "base_uri": "https://localhost:8080/",
          "height": 0
        }
      },
      "source": [
        "test_data_cat_var.info()"
      ],
      "execution_count": 31,
      "outputs": [
        {
          "output_type": "stream",
          "text": [
            "<class 'pandas.core.frame.DataFrame'>\n",
            "RangeIndex: 1459 entries, 0 to 1458\n",
            "Data columns (total 22 columns):\n",
            "BsmtQual         1415 non-null object\n",
            "BsmtCond         1414 non-null object\n",
            "BsmtExposure     1415 non-null object\n",
            "BsmtFinType1     1417 non-null object\n",
            "BsmtFinType2     1417 non-null object\n",
            "Heating          1459 non-null object\n",
            "HeatingQC        1459 non-null object\n",
            "CentralAir       1459 non-null object\n",
            "Electrical       1459 non-null object\n",
            "KitchenQual      1458 non-null object\n",
            "Functional       1457 non-null object\n",
            "FireplaceQu      729 non-null object\n",
            "GarageType       1383 non-null object\n",
            "GarageFinish     1381 non-null object\n",
            "GarageQual       1381 non-null object\n",
            "GarageCond       1381 non-null object\n",
            "PavedDrive       1459 non-null object\n",
            "PoolQC           3 non-null object\n",
            "Fence            290 non-null object\n",
            "MiscFeature      51 non-null object\n",
            "SaleType         1458 non-null object\n",
            "SaleCondition    1459 non-null object\n",
            "dtypes: object(22)\n",
            "memory usage: 250.9+ KB\n"
          ],
          "name": "stdout"
        }
      ]
    },
    {
      "cell_type": "markdown",
      "metadata": {
        "colab_type": "text",
        "id": "Biu42FV9ekJT"
      },
      "source": [
        "#### Bsmt related \n",
        "Replace null with NA \n",
        "\n",
        "if BsmtQual!=null & BsmtCond!= null & BsmtExposure==null:\n",
        "  BsmtExposure= No\n"
      ]
    },
    {
      "cell_type": "code",
      "metadata": {
        "colab_type": "code",
        "id": "7B7tv3m1ekJU",
        "colab": {}
      },
      "source": [
        "#mask=train_data_cat_var['BsmtCond'].isnull()\n",
        "#obtain the index with the rows that are null "
      ],
      "execution_count": 0,
      "outputs": []
    },
    {
      "cell_type": "code",
      "metadata": {
        "colab_type": "code",
        "id": "G_8jA7gVekJW",
        "colab": {}
      },
      "source": [
        "# make sure all of the no Bsmt houses line up \n",
        "bsmt_null_list=np.array(test_data_cat_var['BsmtCond'][test_data_cat_var['BsmtCond'].isnull()].index)\n",
        "bsmt_null_list2=np.array(test_data_cat_var['BsmtQual'][test_data_cat_var['BsmtQual'].isnull()].index)\n",
        "bsmt_null_list3=np.array(test_data_cat_var['BsmtExposure'][test_data_cat_var['BsmtExposure'].isnull()].index)\n",
        "bsmt_null_list4=np.array(test_data_cat_var['BsmtFinType1'][test_data_cat_var['BsmtFinType1'].isnull()].index)\n",
        "bsmt_null_list5=np.array(test_data_cat_var['BsmtFinType2'][test_data_cat_var['BsmtFinType2'].isnull()].index)"
      ],
      "execution_count": 0,
      "outputs": []
    },
    {
      "cell_type": "code",
      "metadata": {
        "colab_type": "code",
        "outputId": "8c7633c8-f9ec-4d43-9810-6af1fb02c9d0",
        "id": "v8bqtuKIekJZ",
        "colab": {
          "base_uri": "https://localhost:8080/",
          "height": 0
        }
      },
      "source": [
        "import collections\n",
        "if collections.Counter(bsmt_null_list)==collections.Counter(bsmt_null_list2)==collections.Counter(bsmt_null_list3)==collections.Counter(bsmt_null_list4):\n",
        "    print(\"same\")\n",
        "else:\n",
        "  print(\"no\")"
      ],
      "execution_count": 33,
      "outputs": [
        {
          "output_type": "stream",
          "text": [
            "no\n"
          ],
          "name": "stdout"
        }
      ]
    },
    {
      "cell_type": "code",
      "metadata": {
        "colab_type": "code",
        "outputId": "ad32a99c-d002-4cb0-9a91-7218c59ed2f6",
        "id": "32vh_RFaekJd",
        "colab": {
          "base_uri": "https://localhost:8080/",
          "height": 0
        }
      },
      "source": [
        "print(list(set(bsmt_null_list2)- set(bsmt_null_list3)))\n",
        "print(list(set(bsmt_null_list4)- set(bsmt_null_list5)))\n",
        "print(list(set(bsmt_null_list)- set(bsmt_null_list5)))"
      ],
      "execution_count": 35,
      "outputs": [
        {
          "output_type": "stream",
          "text": [
            "[757, 758]\n",
            "[]\n",
            "[1064, 580, 725]\n"
          ],
          "name": "stdout"
        }
      ]
    },
    {
      "cell_type": "code",
      "metadata": {
        "colab_type": "code",
        "id": "upuy7sAkekJg",
        "colab": {}
      },
      "source": [
        "test_data_cat_var.loc[1064] # should be No instead of NA "
      ],
      "execution_count": 0,
      "outputs": []
    },
    {
      "cell_type": "code",
      "metadata": {
        "colab_type": "code",
        "id": "7BEjlHJ9ekJs",
        "colab": {}
      },
      "source": [
        "# first replace Null with None \n",
        "test_data_cat_var['BsmtQual'].fillna(\"None\", inplace=True)\n",
        "test_data_cat_var['BsmtCond'].fillna(\"None\", inplace=True)\n",
        "test_data_cat_var['BsmtExposure'].fillna(\"None\", inplace=True)\n",
        "test_data_cat_var['BsmtFinType1'].fillna(\"None\", inplace=True)\n",
        "test_data_cat_var['BsmtFinType2'].fillna(\"None\", inplace=True)"
      ],
      "execution_count": 0,
      "outputs": []
    },
    {
      "cell_type": "code",
      "metadata": {
        "id": "zjnB0EX1jPOK",
        "colab_type": "code",
        "colab": {}
      },
      "source": [
        "# BsmtCond can be filled in with mode \n",
        "test_data_cat_var.at[1064,'BsmtCond']= test_data_cat_var['BsmtCond'].mode()[0]\n",
        "test_data_cat_var.at[580,'BsmtCond']= test_data_cat_var['BsmtCond'].mode()[0]\n",
        "test_data_cat_var.at[725,'BsmtCond']= test_data_cat_var['BsmtCond'].mode()[0]"
      ],
      "execution_count": 0,
      "outputs": []
    },
    {
      "cell_type": "code",
      "metadata": {
        "id": "luQL7GRN3VCp",
        "colab_type": "code",
        "colab": {}
      },
      "source": [
        "# BsmtQual can be filled in with mode \n",
        "test_data_cat_var.at[757,'BsmtQual']= test_data_cat_var['BsmtQual'].mode()[0]\n",
        "test_data_cat_var.at[758,'BsmtQual']= test_data_cat_var['BsmtQual'].mode()[0]"
      ],
      "execution_count": 0,
      "outputs": []
    },
    {
      "cell_type": "code",
      "metadata": {
        "id": "9e_xDK1L3uWX",
        "colab_type": "code",
        "colab": {}
      },
      "source": [
        "test_data_cat_var.at[888,'BsmtExposure']= test_data_cat_var['BsmtExposure'].mode()[0]\n",
        "test_data_cat_var.at[27,'BsmtExposure']= test_data_cat_var['BsmtExposure'].mode()[0]"
      ],
      "execution_count": 0,
      "outputs": []
    },
    {
      "cell_type": "code",
      "metadata": {
        "id": "VAYQnEdamn0k",
        "colab_type": "code",
        "outputId": "f3ad09a3-84cf-4378-924b-ac4752486738",
        "colab": {
          "base_uri": "https://localhost:8080/",
          "height": 0
        }
      },
      "source": [
        "test_data_cat_var.loc[580]"
      ],
      "execution_count": 40,
      "outputs": [
        {
          "output_type": "execute_result",
          "data": {
            "text/plain": [
              "BsmtQual             Gd\n",
              "BsmtCond             TA\n",
              "BsmtExposure         Mn\n",
              "BsmtFinType1        GLQ\n",
              "BsmtFinType2        Rec\n",
              "Heating            GasA\n",
              "HeatingQC            Ex\n",
              "CentralAir            Y\n",
              "Electrical        SBrkr\n",
              "KitchenQual          Ex\n",
              "Functional          Typ\n",
              "FireplaceQu          Gd\n",
              "GarageType       Attchd\n",
              "GarageFinish        RFn\n",
              "GarageQual           TA\n",
              "GarageCond           TA\n",
              "PavedDrive            Y\n",
              "PoolQC              NaN\n",
              "Fence              GdWo\n",
              "MiscFeature         NaN\n",
              "SaleType             WD\n",
              "SaleCondition    Normal\n",
              "Name: 580, dtype: object"
            ]
          },
          "metadata": {
            "tags": []
          },
          "execution_count": 40
        }
      ]
    },
    {
      "cell_type": "code",
      "metadata": {
        "colab_type": "code",
        "outputId": "1038f15a-2616-43e4-bf44-8a565d289528",
        "id": "0LAUQBpHQsuS",
        "colab": {
          "base_uri": "https://localhost:8080/",
          "height": 0
        }
      },
      "source": [
        "len(np.array(test_data['BsmtFinSF2'][test_data['BsmtFinSF2']!=0].index))/ len(test_data['BsmtFinSF2'])  # large percentage of BsmtFinSF2 is empty"
      ],
      "execution_count": 325,
      "outputs": [
        {
          "output_type": "execute_result",
          "data": {
            "text/plain": [
              "0.12405757368060315"
            ]
          },
          "metadata": {
            "tags": []
          },
          "execution_count": 325
        }
      ]
    },
    {
      "cell_type": "markdown",
      "metadata": {
        "id": "LjEKqkaw9XkF",
        "colab_type": "text"
      },
      "source": [
        "#### Kitchen Qual"
      ]
    },
    {
      "cell_type": "code",
      "metadata": {
        "id": "5WwARTob9b4f",
        "colab_type": "code",
        "colab": {}
      },
      "source": [
        "kitchen_null_list=test_data_cat_var['KitchenQual'][test_data_cat_var['KitchenQual'].isnull()].index"
      ],
      "execution_count": 0,
      "outputs": []
    },
    {
      "cell_type": "code",
      "metadata": {
        "id": "UMxk_dnvCIId",
        "colab_type": "code",
        "outputId": "24906206-5ffd-4945-facc-c9fbbddd56ee",
        "colab": {
          "base_uri": "https://localhost:8080/",
          "height": 0
        }
      },
      "source": [
        "test_data.loc[kitchen_null_list]"
      ],
      "execution_count": 50,
      "outputs": [
        {
          "output_type": "execute_result",
          "data": {
            "text/html": [
              "<div>\n",
              "<style scoped>\n",
              "    .dataframe tbody tr th:only-of-type {\n",
              "        vertical-align: middle;\n",
              "    }\n",
              "\n",
              "    .dataframe tbody tr th {\n",
              "        vertical-align: top;\n",
              "    }\n",
              "\n",
              "    .dataframe thead th {\n",
              "        text-align: right;\n",
              "    }\n",
              "</style>\n",
              "<table border=\"1\" class=\"dataframe\">\n",
              "  <thead>\n",
              "    <tr style=\"text-align: right;\">\n",
              "      <th></th>\n",
              "      <th>Id</th>\n",
              "      <th>MSSubClass</th>\n",
              "      <th>MSZoning</th>\n",
              "      <th>LotFrontage</th>\n",
              "      <th>LotArea</th>\n",
              "      <th>Street</th>\n",
              "      <th>Alley</th>\n",
              "      <th>LotShape</th>\n",
              "      <th>LandContour</th>\n",
              "      <th>Utilities</th>\n",
              "      <th>LotConfig</th>\n",
              "      <th>LandSlope</th>\n",
              "      <th>Neighborhood</th>\n",
              "      <th>Condition1</th>\n",
              "      <th>Condition2</th>\n",
              "      <th>BldgType</th>\n",
              "      <th>HouseStyle</th>\n",
              "      <th>OverallQual</th>\n",
              "      <th>OverallCond</th>\n",
              "      <th>YearBuilt</th>\n",
              "      <th>YearRemodAdd</th>\n",
              "      <th>RoofStyle</th>\n",
              "      <th>RoofMatl</th>\n",
              "      <th>Exterior1st</th>\n",
              "      <th>Exterior2nd</th>\n",
              "      <th>MasVnrType</th>\n",
              "      <th>MasVnrArea</th>\n",
              "      <th>ExterQual</th>\n",
              "      <th>ExterCond</th>\n",
              "      <th>Foundation</th>\n",
              "      <th>BsmtQual</th>\n",
              "      <th>BsmtCond</th>\n",
              "      <th>BsmtExposure</th>\n",
              "      <th>BsmtFinType1</th>\n",
              "      <th>BsmtFinSF1</th>\n",
              "      <th>BsmtFinType2</th>\n",
              "      <th>BsmtFinSF2</th>\n",
              "      <th>BsmtUnfSF</th>\n",
              "      <th>TotalBsmtSF</th>\n",
              "      <th>Heating</th>\n",
              "      <th>HeatingQC</th>\n",
              "      <th>CentralAir</th>\n",
              "      <th>Electrical</th>\n",
              "      <th>1stFlrSF</th>\n",
              "      <th>2ndFlrSF</th>\n",
              "      <th>LowQualFinSF</th>\n",
              "      <th>GrLivArea</th>\n",
              "      <th>BsmtFullBath</th>\n",
              "      <th>BsmtHalfBath</th>\n",
              "      <th>FullBath</th>\n",
              "      <th>HalfBath</th>\n",
              "      <th>BedroomAbvGr</th>\n",
              "      <th>KitchenAbvGr</th>\n",
              "      <th>KitchenQual</th>\n",
              "      <th>TotRmsAbvGrd</th>\n",
              "      <th>Functional</th>\n",
              "      <th>Fireplaces</th>\n",
              "      <th>FireplaceQu</th>\n",
              "      <th>GarageType</th>\n",
              "      <th>GarageYrBlt</th>\n",
              "      <th>GarageFinish</th>\n",
              "      <th>GarageCars</th>\n",
              "      <th>GarageArea</th>\n",
              "      <th>GarageQual</th>\n",
              "      <th>GarageCond</th>\n",
              "      <th>PavedDrive</th>\n",
              "      <th>WoodDeckSF</th>\n",
              "      <th>OpenPorchSF</th>\n",
              "      <th>EnclosedPorch</th>\n",
              "      <th>3SsnPorch</th>\n",
              "      <th>ScreenPorch</th>\n",
              "      <th>PoolArea</th>\n",
              "      <th>PoolQC</th>\n",
              "      <th>Fence</th>\n",
              "      <th>MiscFeature</th>\n",
              "      <th>MiscVal</th>\n",
              "      <th>MoSold</th>\n",
              "      <th>YrSold</th>\n",
              "      <th>SaleType</th>\n",
              "      <th>SaleCondition</th>\n",
              "    </tr>\n",
              "  </thead>\n",
              "  <tbody>\n",
              "    <tr>\n",
              "      <th>95</th>\n",
              "      <td>1556</td>\n",
              "      <td>50</td>\n",
              "      <td>RL</td>\n",
              "      <td>72.0</td>\n",
              "      <td>10632</td>\n",
              "      <td>Pave</td>\n",
              "      <td>NaN</td>\n",
              "      <td>IR1</td>\n",
              "      <td>Lvl</td>\n",
              "      <td>AllPub</td>\n",
              "      <td>Inside</td>\n",
              "      <td>Gtl</td>\n",
              "      <td>ClearCr</td>\n",
              "      <td>Norm</td>\n",
              "      <td>Norm</td>\n",
              "      <td>1Fam</td>\n",
              "      <td>1.5Fin</td>\n",
              "      <td>5</td>\n",
              "      <td>3</td>\n",
              "      <td>1917</td>\n",
              "      <td>1950</td>\n",
              "      <td>Gable</td>\n",
              "      <td>CompShg</td>\n",
              "      <td>Wd Sdng</td>\n",
              "      <td>Wd Sdng</td>\n",
              "      <td>None</td>\n",
              "      <td>0.0</td>\n",
              "      <td>TA</td>\n",
              "      <td>TA</td>\n",
              "      <td>BrkTil</td>\n",
              "      <td>Gd</td>\n",
              "      <td>Fa</td>\n",
              "      <td>No</td>\n",
              "      <td>Unf</td>\n",
              "      <td>0.0</td>\n",
              "      <td>Unf</td>\n",
              "      <td>0.0</td>\n",
              "      <td>689.0</td>\n",
              "      <td>689.0</td>\n",
              "      <td>GasA</td>\n",
              "      <td>Gd</td>\n",
              "      <td>N</td>\n",
              "      <td>SBrkr</td>\n",
              "      <td>725</td>\n",
              "      <td>499</td>\n",
              "      <td>0</td>\n",
              "      <td>1224</td>\n",
              "      <td>0.0</td>\n",
              "      <td>0.0</td>\n",
              "      <td>1</td>\n",
              "      <td>1</td>\n",
              "      <td>3</td>\n",
              "      <td>1</td>\n",
              "      <td>NaN</td>\n",
              "      <td>6</td>\n",
              "      <td>Mod</td>\n",
              "      <td>0</td>\n",
              "      <td>NaN</td>\n",
              "      <td>Detchd</td>\n",
              "      <td>1917.0</td>\n",
              "      <td>Unf</td>\n",
              "      <td>1.0</td>\n",
              "      <td>180.0</td>\n",
              "      <td>Fa</td>\n",
              "      <td>Fa</td>\n",
              "      <td>N</td>\n",
              "      <td>0</td>\n",
              "      <td>0</td>\n",
              "      <td>248</td>\n",
              "      <td>0</td>\n",
              "      <td>0</td>\n",
              "      <td>0</td>\n",
              "      <td>NaN</td>\n",
              "      <td>NaN</td>\n",
              "      <td>NaN</td>\n",
              "      <td>0</td>\n",
              "      <td>1</td>\n",
              "      <td>2010</td>\n",
              "      <td>COD</td>\n",
              "      <td>Normal</td>\n",
              "    </tr>\n",
              "  </tbody>\n",
              "</table>\n",
              "</div>"
            ],
            "text/plain": [
              "      Id  MSSubClass MSZoning  ...  YrSold  SaleType SaleCondition\n",
              "95  1556          50       RL  ...    2010       COD        Normal\n",
              "\n",
              "[1 rows x 80 columns]"
            ]
          },
          "metadata": {
            "tags": []
          },
          "execution_count": 50
        }
      ]
    },
    {
      "cell_type": "code",
      "metadata": {
        "id": "mXXKzWi2BrHX",
        "colab_type": "code",
        "colab": {}
      },
      "source": [
        "test_data_cat_var.at[95,'KitchenQual']= test_data_cat_var['KitchenQual'].mode()[0]"
      ],
      "execution_count": 0,
      "outputs": []
    },
    {
      "cell_type": "markdown",
      "metadata": {
        "colab_type": "text",
        "id": "ZlEni148ekJx"
      },
      "source": [
        "#### FireplaceQu"
      ]
    },
    {
      "cell_type": "code",
      "metadata": {
        "colab_type": "code",
        "id": "LqZwhtU3ekJ0",
        "colab": {}
      },
      "source": [
        "fireplace_null_list=test_data_cat_var['FireplaceQu'][test_data_cat_var['FireplaceQu'].isnull()].index"
      ],
      "execution_count": 0,
      "outputs": []
    },
    {
      "cell_type": "code",
      "metadata": {
        "id": "b6SpyPqy40Ok",
        "colab_type": "code",
        "colab": {}
      },
      "source": [
        "test_data.loc[fireplace_null_list]"
      ],
      "execution_count": 0,
      "outputs": []
    },
    {
      "cell_type": "code",
      "metadata": {
        "colab_type": "code",
        "outputId": "a62bd6ef-f417-4861-af73-0246eb3f1bfd",
        "id": "tnj2YwgOekKC",
        "colab": {
          "base_uri": "https://localhost:8080/",
          "height": 0
        }
      },
      "source": [
        "len(test_data_cat_var['FireplaceQu'][fireplace_null_list]) # 730 is what we want "
      ],
      "execution_count": 58,
      "outputs": [
        {
          "output_type": "execute_result",
          "data": {
            "text/plain": [
              "730"
            ]
          },
          "metadata": {
            "tags": []
          },
          "execution_count": 58
        }
      ]
    },
    {
      "cell_type": "code",
      "metadata": {
        "colab_type": "code",
        "id": "LEsxPDqRekKE",
        "colab": {}
      },
      "source": [
        "test_data_cat_var['FireplaceQu'].fillna(\"None\", inplace=True)"
      ],
      "execution_count": 0,
      "outputs": []
    },
    {
      "cell_type": "markdown",
      "metadata": {
        "colab_type": "text",
        "id": "TgTIHYN1ekKG"
      },
      "source": [
        "#### Garage related "
      ]
    },
    {
      "cell_type": "code",
      "metadata": {
        "id": "Xc91SKNP6XP8",
        "colab_type": "code",
        "colab": {
          "base_uri": "https://localhost:8080/",
          "height": 0
        },
        "outputId": "59d51770-61db-4f5d-bc89-2d776f3263f2"
      },
      "source": [
        "garage_null_list=np.array(test_data_cat_var['GarageType'][test_data_cat_var['GarageType'].isnull()].index)\n",
        "garage_null_list2=np.array(test_data_cat_var['GarageFinish'][test_data_cat_var['GarageFinish'].isnull()].index)\n",
        "garage_null_list3=np.array(test_data_cat_var['GarageQual'][test_data_cat_var['GarageQual'].isnull()].index)\n",
        "garage_null_list4=np.array(test_data_cat_var['GarageCond'][test_data_cat_var['GarageCond'].isnull()].index)\n",
        "\n",
        "import collections\n",
        "# GarageFinish, GarageQual and GarageCond all are lining up for \n",
        "if collections.Counter(garage_null_list2)==collections.Counter(garage_null_list4)==collections.Counter(garage_null_list3):\n",
        "    print(\"same\")\n",
        "else:\n",
        "  print(\"no\")"
      ],
      "execution_count": 44,
      "outputs": [
        {
          "output_type": "stream",
          "text": [
            "same\n"
          ],
          "name": "stdout"
        }
      ]
    },
    {
      "cell_type": "code",
      "metadata": {
        "id": "GrmYpMXb78wt",
        "colab_type": "code",
        "colab": {
          "base_uri": "https://localhost:8080/",
          "height": 0
        },
        "outputId": "1392fec3-0d44-4e8e-bfc9-ad5fdbb62f68"
      },
      "source": [
        "list(set(garage_null_list4)- set(garage_null_list))\n",
        "#list(set(garage_null_list4)- set(garage_null_list2))"
      ],
      "execution_count": 45,
      "outputs": [
        {
          "output_type": "execute_result",
          "data": {
            "text/plain": [
              "[666, 1116]"
            ]
          },
          "metadata": {
            "tags": []
          },
          "execution_count": 45
        }
      ]
    },
    {
      "cell_type": "code",
      "metadata": {
        "id": "kPZt9_gV8-yH",
        "colab_type": "code",
        "colab": {
          "base_uri": "https://localhost:8080/",
          "height": 0
        },
        "outputId": "2fbd40df-d99d-4f34-c918-81b00b11c7e1"
      },
      "source": [
        "test_data.loc[list(set(garage_null_list4)- set(garage_null_list))] # observe that for 666, there is sqfeet for garage"
      ],
      "execution_count": 54,
      "outputs": [
        {
          "output_type": "execute_result",
          "data": {
            "text/html": [
              "<div>\n",
              "<style scoped>\n",
              "    .dataframe tbody tr th:only-of-type {\n",
              "        vertical-align: middle;\n",
              "    }\n",
              "\n",
              "    .dataframe tbody tr th {\n",
              "        vertical-align: top;\n",
              "    }\n",
              "\n",
              "    .dataframe thead th {\n",
              "        text-align: right;\n",
              "    }\n",
              "</style>\n",
              "<table border=\"1\" class=\"dataframe\">\n",
              "  <thead>\n",
              "    <tr style=\"text-align: right;\">\n",
              "      <th></th>\n",
              "      <th>Id</th>\n",
              "      <th>MSSubClass</th>\n",
              "      <th>MSZoning</th>\n",
              "      <th>LotFrontage</th>\n",
              "      <th>LotArea</th>\n",
              "      <th>Street</th>\n",
              "      <th>Alley</th>\n",
              "      <th>LotShape</th>\n",
              "      <th>LandContour</th>\n",
              "      <th>Utilities</th>\n",
              "      <th>LotConfig</th>\n",
              "      <th>LandSlope</th>\n",
              "      <th>Neighborhood</th>\n",
              "      <th>Condition1</th>\n",
              "      <th>Condition2</th>\n",
              "      <th>BldgType</th>\n",
              "      <th>HouseStyle</th>\n",
              "      <th>OverallQual</th>\n",
              "      <th>OverallCond</th>\n",
              "      <th>YearBuilt</th>\n",
              "      <th>YearRemodAdd</th>\n",
              "      <th>RoofStyle</th>\n",
              "      <th>RoofMatl</th>\n",
              "      <th>Exterior1st</th>\n",
              "      <th>Exterior2nd</th>\n",
              "      <th>MasVnrType</th>\n",
              "      <th>MasVnrArea</th>\n",
              "      <th>ExterQual</th>\n",
              "      <th>ExterCond</th>\n",
              "      <th>Foundation</th>\n",
              "      <th>BsmtQual</th>\n",
              "      <th>BsmtCond</th>\n",
              "      <th>BsmtExposure</th>\n",
              "      <th>BsmtFinType1</th>\n",
              "      <th>BsmtFinSF1</th>\n",
              "      <th>BsmtFinType2</th>\n",
              "      <th>BsmtFinSF2</th>\n",
              "      <th>BsmtUnfSF</th>\n",
              "      <th>TotalBsmtSF</th>\n",
              "      <th>Heating</th>\n",
              "      <th>HeatingQC</th>\n",
              "      <th>CentralAir</th>\n",
              "      <th>Electrical</th>\n",
              "      <th>1stFlrSF</th>\n",
              "      <th>2ndFlrSF</th>\n",
              "      <th>LowQualFinSF</th>\n",
              "      <th>GrLivArea</th>\n",
              "      <th>BsmtFullBath</th>\n",
              "      <th>BsmtHalfBath</th>\n",
              "      <th>FullBath</th>\n",
              "      <th>HalfBath</th>\n",
              "      <th>BedroomAbvGr</th>\n",
              "      <th>KitchenAbvGr</th>\n",
              "      <th>KitchenQual</th>\n",
              "      <th>TotRmsAbvGrd</th>\n",
              "      <th>Functional</th>\n",
              "      <th>Fireplaces</th>\n",
              "      <th>FireplaceQu</th>\n",
              "      <th>GarageType</th>\n",
              "      <th>GarageYrBlt</th>\n",
              "      <th>GarageFinish</th>\n",
              "      <th>GarageCars</th>\n",
              "      <th>GarageArea</th>\n",
              "      <th>GarageQual</th>\n",
              "      <th>GarageCond</th>\n",
              "      <th>PavedDrive</th>\n",
              "      <th>WoodDeckSF</th>\n",
              "      <th>OpenPorchSF</th>\n",
              "      <th>EnclosedPorch</th>\n",
              "      <th>3SsnPorch</th>\n",
              "      <th>ScreenPorch</th>\n",
              "      <th>PoolArea</th>\n",
              "      <th>PoolQC</th>\n",
              "      <th>Fence</th>\n",
              "      <th>MiscFeature</th>\n",
              "      <th>MiscVal</th>\n",
              "      <th>MoSold</th>\n",
              "      <th>YrSold</th>\n",
              "      <th>SaleType</th>\n",
              "      <th>SaleCondition</th>\n",
              "    </tr>\n",
              "  </thead>\n",
              "  <tbody>\n",
              "    <tr>\n",
              "      <th>666</th>\n",
              "      <td>2127</td>\n",
              "      <td>60</td>\n",
              "      <td>RM</td>\n",
              "      <td>57.0</td>\n",
              "      <td>8094</td>\n",
              "      <td>Pave</td>\n",
              "      <td>Grvl</td>\n",
              "      <td>Reg</td>\n",
              "      <td>Lvl</td>\n",
              "      <td>AllPub</td>\n",
              "      <td>Inside</td>\n",
              "      <td>Gtl</td>\n",
              "      <td>OldTown</td>\n",
              "      <td>Norm</td>\n",
              "      <td>Norm</td>\n",
              "      <td>2fmCon</td>\n",
              "      <td>2.5Unf</td>\n",
              "      <td>6</td>\n",
              "      <td>8</td>\n",
              "      <td>1910</td>\n",
              "      <td>1983</td>\n",
              "      <td>Gable</td>\n",
              "      <td>CompShg</td>\n",
              "      <td>Wd Sdng</td>\n",
              "      <td>Wd Sdng</td>\n",
              "      <td>None</td>\n",
              "      <td>0.0</td>\n",
              "      <td>TA</td>\n",
              "      <td>TA</td>\n",
              "      <td>PConc</td>\n",
              "      <td>TA</td>\n",
              "      <td>TA</td>\n",
              "      <td>Mn</td>\n",
              "      <td>Rec</td>\n",
              "      <td>196.0</td>\n",
              "      <td>Unf</td>\n",
              "      <td>0.0</td>\n",
              "      <td>1046.0</td>\n",
              "      <td>1242.0</td>\n",
              "      <td>GasA</td>\n",
              "      <td>Gd</td>\n",
              "      <td>Y</td>\n",
              "      <td>SBrkr</td>\n",
              "      <td>1242</td>\n",
              "      <td>742</td>\n",
              "      <td>0</td>\n",
              "      <td>1984</td>\n",
              "      <td>0.0</td>\n",
              "      <td>0.0</td>\n",
              "      <td>2</td>\n",
              "      <td>0</td>\n",
              "      <td>5</td>\n",
              "      <td>1</td>\n",
              "      <td>TA</td>\n",
              "      <td>8</td>\n",
              "      <td>Typ</td>\n",
              "      <td>0</td>\n",
              "      <td>NaN</td>\n",
              "      <td>Detchd</td>\n",
              "      <td>NaN</td>\n",
              "      <td>NaN</td>\n",
              "      <td>1.0</td>\n",
              "      <td>360.0</td>\n",
              "      <td>NaN</td>\n",
              "      <td>NaN</td>\n",
              "      <td>Y</td>\n",
              "      <td>64</td>\n",
              "      <td>0</td>\n",
              "      <td>180</td>\n",
              "      <td>0</td>\n",
              "      <td>0</td>\n",
              "      <td>0</td>\n",
              "      <td>NaN</td>\n",
              "      <td>MnPrv</td>\n",
              "      <td>Shed</td>\n",
              "      <td>1000</td>\n",
              "      <td>9</td>\n",
              "      <td>2008</td>\n",
              "      <td>WD</td>\n",
              "      <td>Normal</td>\n",
              "    </tr>\n",
              "    <tr>\n",
              "      <th>1116</th>\n",
              "      <td>2577</td>\n",
              "      <td>70</td>\n",
              "      <td>RM</td>\n",
              "      <td>50.0</td>\n",
              "      <td>9060</td>\n",
              "      <td>Pave</td>\n",
              "      <td>NaN</td>\n",
              "      <td>Reg</td>\n",
              "      <td>Lvl</td>\n",
              "      <td>AllPub</td>\n",
              "      <td>Inside</td>\n",
              "      <td>Gtl</td>\n",
              "      <td>IDOTRR</td>\n",
              "      <td>Norm</td>\n",
              "      <td>Norm</td>\n",
              "      <td>1Fam</td>\n",
              "      <td>2Story</td>\n",
              "      <td>5</td>\n",
              "      <td>6</td>\n",
              "      <td>1923</td>\n",
              "      <td>1999</td>\n",
              "      <td>Gable</td>\n",
              "      <td>CompShg</td>\n",
              "      <td>Wd Sdng</td>\n",
              "      <td>Plywood</td>\n",
              "      <td>None</td>\n",
              "      <td>0.0</td>\n",
              "      <td>TA</td>\n",
              "      <td>TA</td>\n",
              "      <td>BrkTil</td>\n",
              "      <td>Gd</td>\n",
              "      <td>TA</td>\n",
              "      <td>No</td>\n",
              "      <td>ALQ</td>\n",
              "      <td>548.0</td>\n",
              "      <td>Unf</td>\n",
              "      <td>0.0</td>\n",
              "      <td>311.0</td>\n",
              "      <td>859.0</td>\n",
              "      <td>GasA</td>\n",
              "      <td>Ex</td>\n",
              "      <td>Y</td>\n",
              "      <td>SBrkr</td>\n",
              "      <td>942</td>\n",
              "      <td>886</td>\n",
              "      <td>0</td>\n",
              "      <td>1828</td>\n",
              "      <td>0.0</td>\n",
              "      <td>0.0</td>\n",
              "      <td>2</td>\n",
              "      <td>0</td>\n",
              "      <td>3</td>\n",
              "      <td>1</td>\n",
              "      <td>Gd</td>\n",
              "      <td>6</td>\n",
              "      <td>Typ</td>\n",
              "      <td>0</td>\n",
              "      <td>NaN</td>\n",
              "      <td>Detchd</td>\n",
              "      <td>NaN</td>\n",
              "      <td>NaN</td>\n",
              "      <td>NaN</td>\n",
              "      <td>NaN</td>\n",
              "      <td>NaN</td>\n",
              "      <td>NaN</td>\n",
              "      <td>Y</td>\n",
              "      <td>174</td>\n",
              "      <td>0</td>\n",
              "      <td>212</td>\n",
              "      <td>0</td>\n",
              "      <td>0</td>\n",
              "      <td>0</td>\n",
              "      <td>NaN</td>\n",
              "      <td>MnPrv</td>\n",
              "      <td>NaN</td>\n",
              "      <td>0</td>\n",
              "      <td>3</td>\n",
              "      <td>2007</td>\n",
              "      <td>WD</td>\n",
              "      <td>Alloca</td>\n",
              "    </tr>\n",
              "  </tbody>\n",
              "</table>\n",
              "</div>"
            ],
            "text/plain": [
              "        Id  MSSubClass MSZoning  ...  YrSold  SaleType SaleCondition\n",
              "666   2127          60       RM  ...    2008        WD        Normal\n",
              "1116  2577          70       RM  ...    2007        WD        Alloca\n",
              "\n",
              "[2 rows x 80 columns]"
            ]
          },
          "metadata": {
            "tags": []
          },
          "execution_count": 54
        }
      ]
    },
    {
      "cell_type": "code",
      "metadata": {
        "colab_type": "code",
        "id": "KOG8u7e5ekKI",
        "colab": {}
      },
      "source": [
        "# Fill with null first, then fill with \n",
        "test_data_cat_var['GarageType'].fillna(\"None\", inplace=True)\n",
        "test_data_cat_var['GarageFinish'].fillna(\"None\", inplace=True)\n",
        "test_data_cat_var['GarageQual'].fillna(\"None\", inplace=True)\n",
        "test_data_cat_var['GarageCond'].fillna(\"None\", inplace=True)"
      ],
      "execution_count": 0,
      "outputs": []
    },
    {
      "cell_type": "code",
      "metadata": {
        "id": "olcHHGnE-nCO",
        "colab_type": "code",
        "colab": {}
      },
      "source": [
        "test_data_cat_var.at[666,'GarageFinish']= test_data_cat_var['GarageFinish'].mode()[0]\n",
        "test_data_cat_var.at[666,'GarageQual']= test_data_cat_var['GarageQual'].mode()[0]\n",
        "test_data_cat_var.at[666,'GarageCond']= test_data_cat_var['GarageCond'].mode()[0]\n",
        "test_data_cat_var.at[1116,'GarageType']= \"None\""
      ],
      "execution_count": 0,
      "outputs": []
    },
    {
      "cell_type": "markdown",
      "metadata": {
        "colab_type": "text",
        "id": "VsUjw7ALekKM"
      },
      "source": [
        "#### PoolQC, Fence, MiscFeature, Functional, SaleType"
      ]
    },
    {
      "cell_type": "code",
      "metadata": {
        "colab_type": "code",
        "id": "2l5NUoMCekKN",
        "colab": {}
      },
      "source": [
        "#mask= train_data_cat_var['PoolQC'].isnull\n",
        "test_data_cat_var['PoolQC'].fillna(\"None\", inplace=True)"
      ],
      "execution_count": 0,
      "outputs": []
    },
    {
      "cell_type": "code",
      "metadata": {
        "colab_type": "code",
        "id": "hE-jOLUQekKP",
        "colab": {}
      },
      "source": [
        "test_data_cat_var['Fence'].fillna(\"None\", inplace=True)"
      ],
      "execution_count": 0,
      "outputs": []
    },
    {
      "cell_type": "code",
      "metadata": {
        "colab_type": "code",
        "id": "s5hzx3m7ekKT",
        "colab": {}
      },
      "source": [
        "test_data_cat_var['MiscFeature'].fillna(\"None\", inplace=True)"
      ],
      "execution_count": 0,
      "outputs": []
    },
    {
      "cell_type": "code",
      "metadata": {
        "id": "oJXUh9NEVrXI",
        "colab_type": "code",
        "colab": {}
      },
      "source": [
        "test_data_cat_var['Functional'].fillna(test_data_cat_var['Functional'].mode()[0], inplace=True)"
      ],
      "execution_count": 0,
      "outputs": []
    },
    {
      "cell_type": "code",
      "metadata": {
        "id": "0GlTVZkMWCbo",
        "colab_type": "code",
        "colab": {}
      },
      "source": [
        "test_data_cat_var['SaleType'].fillna(test_data_cat_var['SaleType'].mode()[0], inplace=True)"
      ],
      "execution_count": 0,
      "outputs": []
    },
    {
      "cell_type": "code",
      "metadata": {
        "colab_type": "code",
        "id": "4eTW__dDekKW",
        "colab": {}
      },
      "source": [
        "#train_data_cat_var['MiscFeature'][train_data_cat_var['MiscFeature']==\"NoTFeat\"]= \"None\""
      ],
      "execution_count": 0,
      "outputs": []
    },
    {
      "cell_type": "markdown",
      "metadata": {
        "colab_type": "text",
        "id": "FQKazTHrekKZ"
      },
      "source": [
        "#### Check for null values NOW again by doing .info()"
      ]
    },
    {
      "cell_type": "code",
      "metadata": {
        "colab_type": "code",
        "id": "AsC2-I1EekKZ",
        "colab": {}
      },
      "source": [
        "test_data_cat_var.info()\n",
        "#train_data_cat_var.isnull().sum(axis=0)"
      ],
      "execution_count": 0,
      "outputs": []
    },
    {
      "cell_type": "markdown",
      "metadata": {
        "id": "QNReSN1PRcJI",
        "colab_type": "text"
      },
      "source": [
        "## Count Plots for strictly categorical variables "
      ]
    },
    {
      "cell_type": "code",
      "metadata": {
        "id": "aqdVEvZsrWNn",
        "colab_type": "code",
        "colab": {
          "base_uri": "https://localhost:8080/",
          "height": 239
        },
        "outputId": "f14d30e0-5e4a-41cd-c1e1-de975d411094"
      },
      "source": [
        "train_data_plot.head()"
      ],
      "execution_count": 13,
      "outputs": [
        {
          "output_type": "execute_result",
          "data": {
            "text/html": [
              "<div>\n",
              "<style scoped>\n",
              "    .dataframe tbody tr th:only-of-type {\n",
              "        vertical-align: middle;\n",
              "    }\n",
              "\n",
              "    .dataframe tbody tr th {\n",
              "        vertical-align: top;\n",
              "    }\n",
              "\n",
              "    .dataframe thead th {\n",
              "        text-align: right;\n",
              "    }\n",
              "</style>\n",
              "<table border=\"1\" class=\"dataframe\">\n",
              "  <thead>\n",
              "    <tr style=\"text-align: right;\">\n",
              "      <th></th>\n",
              "      <th>Unnamed: 0</th>\n",
              "      <th>SalePrice_log</th>\n",
              "      <th>SalePrice</th>\n",
              "      <th>BsmtCond_Gd</th>\n",
              "      <th>BsmtCond_None</th>\n",
              "      <th>BsmtCond_Po</th>\n",
              "      <th>BsmtCond_TA</th>\n",
              "      <th>HeatingQC_Fa</th>\n",
              "      <th>HeatingQC_Gd</th>\n",
              "      <th>HeatingQC_Po</th>\n",
              "      <th>HeatingQC_TA</th>\n",
              "      <th>CentralAir_Y</th>\n",
              "      <th>KitchenQual_Fa</th>\n",
              "      <th>KitchenQual_Gd</th>\n",
              "      <th>KitchenQual_TA</th>\n",
              "      <th>FireplaceQu_Fa</th>\n",
              "      <th>FireplaceQu_Gd</th>\n",
              "      <th>FireplaceQu_None</th>\n",
              "      <th>FireplaceQu_Po</th>\n",
              "      <th>FireplaceQu_TA</th>\n",
              "      <th>GarageType_Attchd</th>\n",
              "      <th>GarageType_Basment</th>\n",
              "      <th>GarageType_BuiltIn</th>\n",
              "      <th>GarageType_CarPort</th>\n",
              "      <th>GarageType_Detchd</th>\n",
              "      <th>GarageType_None</th>\n",
              "      <th>GarageFinish_None</th>\n",
              "      <th>GarageFinish_RFn</th>\n",
              "      <th>GarageFinish_Unf</th>\n",
              "      <th>HasGasHeating_1</th>\n",
              "      <th>HasSBrkr_1</th>\n",
              "      <th>HasEx_1</th>\n",
              "      <th>HasGd_1</th>\n",
              "      <th>HasGLQ_1</th>\n",
              "      <th>HasPavedDrive_1</th>\n",
              "      <th>HasTA_1</th>\n",
              "    </tr>\n",
              "  </thead>\n",
              "  <tbody>\n",
              "    <tr>\n",
              "      <th>0</th>\n",
              "      <td>0</td>\n",
              "      <td>12.247694</td>\n",
              "      <td>208500</td>\n",
              "      <td>0</td>\n",
              "      <td>0</td>\n",
              "      <td>0</td>\n",
              "      <td>1</td>\n",
              "      <td>0</td>\n",
              "      <td>0</td>\n",
              "      <td>0</td>\n",
              "      <td>0</td>\n",
              "      <td>1</td>\n",
              "      <td>0</td>\n",
              "      <td>1</td>\n",
              "      <td>0</td>\n",
              "      <td>0</td>\n",
              "      <td>0</td>\n",
              "      <td>1</td>\n",
              "      <td>0</td>\n",
              "      <td>0</td>\n",
              "      <td>1</td>\n",
              "      <td>0</td>\n",
              "      <td>0</td>\n",
              "      <td>0</td>\n",
              "      <td>0</td>\n",
              "      <td>0</td>\n",
              "      <td>0</td>\n",
              "      <td>1</td>\n",
              "      <td>0</td>\n",
              "      <td>1</td>\n",
              "      <td>1</td>\n",
              "      <td>0</td>\n",
              "      <td>0</td>\n",
              "      <td>1</td>\n",
              "      <td>1</td>\n",
              "      <td>1</td>\n",
              "    </tr>\n",
              "    <tr>\n",
              "      <th>1</th>\n",
              "      <td>1</td>\n",
              "      <td>12.109011</td>\n",
              "      <td>181500</td>\n",
              "      <td>0</td>\n",
              "      <td>0</td>\n",
              "      <td>0</td>\n",
              "      <td>1</td>\n",
              "      <td>0</td>\n",
              "      <td>0</td>\n",
              "      <td>0</td>\n",
              "      <td>0</td>\n",
              "      <td>1</td>\n",
              "      <td>0</td>\n",
              "      <td>0</td>\n",
              "      <td>1</td>\n",
              "      <td>0</td>\n",
              "      <td>0</td>\n",
              "      <td>0</td>\n",
              "      <td>0</td>\n",
              "      <td>1</td>\n",
              "      <td>1</td>\n",
              "      <td>0</td>\n",
              "      <td>0</td>\n",
              "      <td>0</td>\n",
              "      <td>0</td>\n",
              "      <td>0</td>\n",
              "      <td>0</td>\n",
              "      <td>1</td>\n",
              "      <td>0</td>\n",
              "      <td>1</td>\n",
              "      <td>1</td>\n",
              "      <td>0</td>\n",
              "      <td>1</td>\n",
              "      <td>0</td>\n",
              "      <td>1</td>\n",
              "      <td>1</td>\n",
              "    </tr>\n",
              "    <tr>\n",
              "      <th>2</th>\n",
              "      <td>2</td>\n",
              "      <td>12.317167</td>\n",
              "      <td>223500</td>\n",
              "      <td>0</td>\n",
              "      <td>0</td>\n",
              "      <td>0</td>\n",
              "      <td>1</td>\n",
              "      <td>0</td>\n",
              "      <td>0</td>\n",
              "      <td>0</td>\n",
              "      <td>0</td>\n",
              "      <td>1</td>\n",
              "      <td>0</td>\n",
              "      <td>1</td>\n",
              "      <td>0</td>\n",
              "      <td>0</td>\n",
              "      <td>0</td>\n",
              "      <td>0</td>\n",
              "      <td>0</td>\n",
              "      <td>1</td>\n",
              "      <td>1</td>\n",
              "      <td>0</td>\n",
              "      <td>0</td>\n",
              "      <td>0</td>\n",
              "      <td>0</td>\n",
              "      <td>0</td>\n",
              "      <td>0</td>\n",
              "      <td>1</td>\n",
              "      <td>0</td>\n",
              "      <td>1</td>\n",
              "      <td>1</td>\n",
              "      <td>0</td>\n",
              "      <td>0</td>\n",
              "      <td>1</td>\n",
              "      <td>1</td>\n",
              "      <td>1</td>\n",
              "    </tr>\n",
              "    <tr>\n",
              "      <th>3</th>\n",
              "      <td>3</td>\n",
              "      <td>11.849398</td>\n",
              "      <td>140000</td>\n",
              "      <td>1</td>\n",
              "      <td>0</td>\n",
              "      <td>0</td>\n",
              "      <td>0</td>\n",
              "      <td>0</td>\n",
              "      <td>1</td>\n",
              "      <td>0</td>\n",
              "      <td>0</td>\n",
              "      <td>1</td>\n",
              "      <td>0</td>\n",
              "      <td>1</td>\n",
              "      <td>0</td>\n",
              "      <td>0</td>\n",
              "      <td>1</td>\n",
              "      <td>0</td>\n",
              "      <td>0</td>\n",
              "      <td>0</td>\n",
              "      <td>0</td>\n",
              "      <td>0</td>\n",
              "      <td>0</td>\n",
              "      <td>0</td>\n",
              "      <td>1</td>\n",
              "      <td>0</td>\n",
              "      <td>0</td>\n",
              "      <td>0</td>\n",
              "      <td>1</td>\n",
              "      <td>1</td>\n",
              "      <td>1</td>\n",
              "      <td>0</td>\n",
              "      <td>0</td>\n",
              "      <td>0</td>\n",
              "      <td>1</td>\n",
              "      <td>1</td>\n",
              "    </tr>\n",
              "    <tr>\n",
              "      <th>4</th>\n",
              "      <td>4</td>\n",
              "      <td>12.429216</td>\n",
              "      <td>250000</td>\n",
              "      <td>0</td>\n",
              "      <td>0</td>\n",
              "      <td>0</td>\n",
              "      <td>1</td>\n",
              "      <td>0</td>\n",
              "      <td>0</td>\n",
              "      <td>0</td>\n",
              "      <td>0</td>\n",
              "      <td>1</td>\n",
              "      <td>0</td>\n",
              "      <td>1</td>\n",
              "      <td>0</td>\n",
              "      <td>0</td>\n",
              "      <td>0</td>\n",
              "      <td>0</td>\n",
              "      <td>0</td>\n",
              "      <td>1</td>\n",
              "      <td>1</td>\n",
              "      <td>0</td>\n",
              "      <td>0</td>\n",
              "      <td>0</td>\n",
              "      <td>0</td>\n",
              "      <td>0</td>\n",
              "      <td>0</td>\n",
              "      <td>1</td>\n",
              "      <td>0</td>\n",
              "      <td>1</td>\n",
              "      <td>1</td>\n",
              "      <td>0</td>\n",
              "      <td>0</td>\n",
              "      <td>1</td>\n",
              "      <td>1</td>\n",
              "      <td>1</td>\n",
              "    </tr>\n",
              "  </tbody>\n",
              "</table>\n",
              "</div>"
            ],
            "text/plain": [
              "   Unnamed: 0  SalePrice_log  SalePrice  ...  HasGLQ_1  HasPavedDrive_1  HasTA_1\n",
              "0           0      12.247694     208500  ...         1                1        1\n",
              "1           1      12.109011     181500  ...         0                1        1\n",
              "2           2      12.317167     223500  ...         1                1        1\n",
              "3           3      11.849398     140000  ...         0                1        1\n",
              "4           4      12.429216     250000  ...         1                1        1\n",
              "\n",
              "[5 rows x 36 columns]"
            ]
          },
          "metadata": {
            "tags": []
          },
          "execution_count": 13
        }
      ]
    },
    {
      "cell_type": "code",
      "metadata": {
        "colab_type": "code",
        "outputId": "41f0e1c0-a9be-4768-9c6b-0e40d927cb1d",
        "id": "Sjp5aQJzIskQ",
        "colab": {
          "base_uri": "https://localhost:8080/",
          "height": 939
        }
      },
      "source": [
        "cat_var_only= ['Heating', 'CentralAir', 'Electrical', 'GarageType', 'Fence', 'MiscFeature', 'SaleType' ]  # The categories are strictly category\n",
        "\n",
        "cat_var_ordinal= ['BsmtQual', 'BsmtCond', 'BsmtExposure', 'BsmtFinType1', 'BsmtFinType2','HeatingQC', 'KitchenQual', 'Functional', 'FireplaceQu', \n",
        "                  'GarageFinish', 'GarageQual', 'GarageCond', 'PavedDrive', 'PoolQC',  'SaleCondition']\n",
        "\n",
        "#cat_var_only_eng= ['Bsmt_yes','Heating_Floor_yes', 'Central_Air_yes', 'Electrical_SBrkr_yes', \n",
        "                   #'Pool_yes', 'Fence_yes', 'Elev_yes', 'Gar2_yes', 'Shed_yes', 'TenC_yes']\n",
        "\n",
        "\n",
        "plt.figure(figsize=(16, 75))\n",
        "for idx, col in enumerate(cat_var_only):\n",
        "    plt.subplot(18, 2, idx + 1)\n",
        "    sns.countplot(test_data_cat_var[col])"
      ],
      "execution_count": 0,
      "outputs": [
        {
          "output_type": "display_data",
          "data": {
            "image/png": "[encoded data removed]",
            "text/plain": [
              "<Figure size 1152x5400 with 7 Axes>"
            ]
          },
          "metadata": {
            "tags": []
          }
        }
      ]
    },
    {
      "cell_type": "markdown",
      "metadata": {
        "colab_type": "text",
        "id": "7dEiyu25-AtY"
      },
      "source": [
        "## Count Plots for Ordinal variable\n"
      ]
    },
    {
      "cell_type": "code",
      "metadata": {
        "colab_type": "code",
        "outputId": "0bd69515-32de-4c76-9fdb-e2efe7b081fe",
        "id": "oiZOHoZ--Atk",
        "colab": {
          "base_uri": "https://localhost:8080/",
          "height": 719
        }
      },
      "source": [
        "cat_var_ordinal= ['BsmtQual', 'BsmtCond', 'BsmtExposure', 'BsmtFinType1', 'BsmtFinType2','HeatingQC', 'KitchenQual', 'Functional', 'FireplaceQu', \n",
        "                  'GarageFinish', 'GarageQual', 'GarageCond', 'PavedDrive', 'PoolQC',  'SaleCondition']\n",
        "\n",
        "sns.set(style=\"whitegrid\")\n",
        "plt.figure(figsize=(16, 75))\n",
        "for idx, col in enumerate(cat_var_ordinal[1:6]):\n",
        "    plt.subplot(18, 2, idx + 1)\n",
        "    sns.countplot(test_data_cat_var[col])"
      ],
      "execution_count": 0,
      "outputs": [
        {
          "output_type": "display_data",
          "data": {
            "image/png": "[encoded data removed]",
            "text/plain": [
              "<Figure size 1152x5400 with 5 Axes>"
            ]
          },
          "metadata": {
            "tags": []
          }
        }
      ]
    },
    {
      "cell_type": "markdown",
      "metadata": {
        "id": "aebkOqmE3rUG",
        "colab_type": "text"
      },
      "source": [
        "## Categorical Mapping Onto Numerical Training and testing STARTING FROM SCRATCH"
      ]
    },
    {
      "cell_type": "code",
      "metadata": {
        "id": "-xZ2Y8Aa4XA-",
        "colab_type": "code",
        "colab": {}
      },
      "source": [
        "drop_less_five= ['PoolQC', 'MiscFeature']\n",
        "train_data_cat_var_final = train_data_cat_var.drop(drop_less_five, axis=1)\n",
        "test_data_cat_var_final = test_data_cat_var.drop(drop_less_five, axis=1)"
      ],
      "execution_count": 0,
      "outputs": []
    },
    {
      "cell_type": "code",
      "metadata": {
        "id": "QYfus7yxn_99",
        "colab_type": "code",
        "colab": {}
      },
      "source": [
        "cols=list(test_data_cat_var_final.columns)  # use test here "
      ],
      "execution_count": 0,
      "outputs": []
    },
    {
      "cell_type": "code",
      "metadata": {
        "id": "P5_v8Drvw4ZM",
        "colab_type": "code",
        "colab": {
          "base_uri": "https://localhost:8080/",
          "height": 364
        },
        "outputId": "e35434a8-d882-4a8a-f5a4-68eeadd2961c"
      },
      "source": [
        "# For every column in testing and training sets, find the columns that do not match in subcategories \n",
        "for col in cols: \n",
        "  if list(train_data_cat_var[col].value_counts().index)==list(test_data_cat_var[col].value_counts().index):\n",
        "    print ('same proportions '+ col)\n",
        "  else:\n",
        "    print(col)"
      ],
      "execution_count": 97,
      "outputs": [
        {
          "output_type": "stream",
          "text": [
            "BsmtQual\n",
            "BsmtCond\n",
            "same proportions BsmtExposure\n",
            "BsmtFinType1\n",
            "BsmtFinType2\n",
            "Heating\n",
            "same proportions HeatingQC\n",
            "same proportions CentralAir\n",
            "Electrical\n",
            "same proportions KitchenQual\n",
            "same proportions Functional\n",
            "FireplaceQu\n",
            "GarageType\n",
            "same proportions GarageFinish\n",
            "GarageQual\n",
            "GarageCond\n",
            "same proportions PavedDrive\n",
            "same proportions Fence\n",
            "SaleType\n",
            "same proportions SaleCondition\n"
          ],
          "name": "stdout"
        }
      ]
    },
    {
      "cell_type": "code",
      "metadata": {
        "id": "Bux1ABJ4VNdF",
        "colab_type": "code",
        "colab": {
          "base_uri": "https://localhost:8080/",
          "height": 183
        },
        "outputId": "e615660a-ceb1-421f-9809-015d349e9fe6"
      },
      "source": [
        "print(train_data_cat_var_final['GarageQual'].value_counts())\n",
        "print(test_data_cat_var_final['GarageQual'].value_counts())"
      ],
      "execution_count": 1,
      "outputs": [
        {
          "output_type": "error",
          "ename": "NameError",
          "evalue": "ignored",
          "traceback": [
            "\u001b[0;31m---------------------------------------------------------------------------\u001b[0m",
            "\u001b[0;31mNameError\u001b[0m                                 Traceback (most recent call last)",
            "\u001b[0;32m<ipython-input-1-481044b4544f>\u001b[0m in \u001b[0;36m<module>\u001b[0;34m()\u001b[0m\n\u001b[0;32m----> 1\u001b[0;31m \u001b[0mprint\u001b[0m\u001b[0;34m(\u001b[0m\u001b[0mtrain_data_cat_var_final\u001b[0m\u001b[0;34m[\u001b[0m\u001b[0;34m'GarageQual'\u001b[0m\u001b[0;34m]\u001b[0m\u001b[0;34m.\u001b[0m\u001b[0mvalue_counts\u001b[0m\u001b[0;34m(\u001b[0m\u001b[0;34m)\u001b[0m\u001b[0;34m)\u001b[0m\u001b[0;34m\u001b[0m\u001b[0;34m\u001b[0m\u001b[0m\n\u001b[0m\u001b[1;32m      2\u001b[0m \u001b[0mprint\u001b[0m\u001b[0;34m(\u001b[0m\u001b[0mtest_data_cat_var_final\u001b[0m\u001b[0;34m[\u001b[0m\u001b[0;34m'GarageQual'\u001b[0m\u001b[0;34m]\u001b[0m\u001b[0;34m.\u001b[0m\u001b[0mvalue_counts\u001b[0m\u001b[0;34m(\u001b[0m\u001b[0;34m)\u001b[0m\u001b[0;34m)\u001b[0m\u001b[0;34m\u001b[0m\u001b[0;34m\u001b[0m\u001b[0m\n",
            "\u001b[0;31mNameError\u001b[0m: name 'train_data_cat_var_final' is not defined"
          ]
        }
      ]
    },
    {
      "cell_type": "code",
      "metadata": {
        "id": "n_wBVG-8Fh5Q",
        "colab_type": "code",
        "colab": {}
      },
      "source": [
        "# Do best to not combine categories that are ordinal\n",
        "# ONLY HAD to combine GarageQual because of different train and test proportions \n",
        "\n",
        "turn_ordinal = {\"BsmtQual\":     {\"None\": 1, \"Po\": 2, \"Fa\":3, \"TA\":4, \"Gd\":5, \"Ex\":6},\n",
        "                \"BsmtCond\":     {\"None\": 1, \"Po\": 2, \"Fa\":3, \"TA\":4, \"Gd\":5, \"Ex\":6},\n",
        "                \"BsmtExposure\": {\"None\": 1, \"No\": 2, \"Mn\": 3, \"Av\": 4, \"Gd\":5}, \n",
        "                \"BsmtFinType1\": {\"None\": 1, \"Unf\":2, \"LwQ\":3, \"Rec\":4, \"BLQ\":5, \"ALQ\":6,\"GLQ\":7}, \n",
        "                \"BsmtFinType2\": {\"None\": 1, \"Unf\":2, \"LwQ\":3, \"Rec\":4, \"BLQ\":5, \"ALQ\":6,\"GLQ\":7},\n",
        "                \"HeatingQC\":    {\"Po\": 1, \"Fa\":2, \"TA\":3, \"Gd\":4, \"Ex\":5},\n",
        "                \"KitchenQual\":  {\"Po\": 1, \"Fa\":2, \"TA\":3, \"Gd\":4, \"Ex\":5},\n",
        "                \"Functional\":    {\"Sal\":1, \"Sev\":2,\"Maj2\":3, \"Maj1\":4, \"Mod\":5, \"Min2\":6, \"Min1\":7, \"Typ\":8},\n",
        "                \"FireplaceQu\":   {\"None\":1, \"Po\": 2, \"Fa\":3, \"TA\":4, \"Gd\":5, \"Ex\":6},\n",
        "                \"GarageFinish\":  {\"None\":1, \"Unf\":2, \"RFn\":3, \"Fin\":4},\n",
        "                \"GarageCond\":    {\"None\": 1, \"Po\": 2, \"Fa\":3, \"TA\":4, \"Gd\":5, \"Ex\":6},\n",
        "                \"Fence\":         {\"None\":1, \"MnWw\":2, \"GdWo\":3, \"MnPrv\":4, \"GdPrv\":5}\n",
        "                }\n",
        "\n",
        "#https://pbpython.com/categorical-encoding.html"
      ],
      "execution_count": 0,
      "outputs": []
    },
    {
      "cell_type": "code",
      "metadata": {
        "id": "rLs6WvJnReXu",
        "colab_type": "code",
        "colab": {}
      },
      "source": [
        "train_data_cat_var_final.replace(turn_ordinal, inplace=True)"
      ],
      "execution_count": 0,
      "outputs": []
    },
    {
      "cell_type": "code",
      "metadata": {
        "id": "XCmQN4G1RiVy",
        "colab_type": "code",
        "colab": {
          "base_uri": "https://localhost:8080/",
          "height": 222
        },
        "outputId": "b74434df-9776-4ff0-f970-6d0a0863fa7d"
      },
      "source": [
        "test_data_cat_var_final.replace(turn_ordinal, inplace=True)\n",
        "test_data_cat_var_final.head()"
      ],
      "execution_count": 101,
      "outputs": [
        {
          "output_type": "execute_result",
          "data": {
            "text/html": [
              "<div>\n",
              "<style scoped>\n",
              "    .dataframe tbody tr th:only-of-type {\n",
              "        vertical-align: middle;\n",
              "    }\n",
              "\n",
              "    .dataframe tbody tr th {\n",
              "        vertical-align: top;\n",
              "    }\n",
              "\n",
              "    .dataframe thead th {\n",
              "        text-align: right;\n",
              "    }\n",
              "</style>\n",
              "<table border=\"1\" class=\"dataframe\">\n",
              "  <thead>\n",
              "    <tr style=\"text-align: right;\">\n",
              "      <th></th>\n",
              "      <th>BsmtQual</th>\n",
              "      <th>BsmtCond</th>\n",
              "      <th>BsmtExposure</th>\n",
              "      <th>BsmtFinType1</th>\n",
              "      <th>BsmtFinType2</th>\n",
              "      <th>Heating</th>\n",
              "      <th>HeatingQC</th>\n",
              "      <th>CentralAir</th>\n",
              "      <th>Electrical</th>\n",
              "      <th>KitchenQual</th>\n",
              "      <th>Functional</th>\n",
              "      <th>FireplaceQu</th>\n",
              "      <th>GarageType</th>\n",
              "      <th>GarageFinish</th>\n",
              "      <th>GarageQual</th>\n",
              "      <th>GarageCond</th>\n",
              "      <th>PavedDrive</th>\n",
              "      <th>Fence</th>\n",
              "      <th>SaleType</th>\n",
              "      <th>SaleCondition</th>\n",
              "    </tr>\n",
              "  </thead>\n",
              "  <tbody>\n",
              "    <tr>\n",
              "      <th>0</th>\n",
              "      <td>4</td>\n",
              "      <td>4</td>\n",
              "      <td>2</td>\n",
              "      <td>4</td>\n",
              "      <td>3</td>\n",
              "      <td>GasA</td>\n",
              "      <td>3</td>\n",
              "      <td>Y</td>\n",
              "      <td>SBrkr</td>\n",
              "      <td>3</td>\n",
              "      <td>8</td>\n",
              "      <td>1</td>\n",
              "      <td>Attchd</td>\n",
              "      <td>2</td>\n",
              "      <td>TA</td>\n",
              "      <td>4</td>\n",
              "      <td>Y</td>\n",
              "      <td>4</td>\n",
              "      <td>WD</td>\n",
              "      <td>Normal</td>\n",
              "    </tr>\n",
              "    <tr>\n",
              "      <th>1</th>\n",
              "      <td>4</td>\n",
              "      <td>4</td>\n",
              "      <td>2</td>\n",
              "      <td>6</td>\n",
              "      <td>2</td>\n",
              "      <td>GasA</td>\n",
              "      <td>3</td>\n",
              "      <td>Y</td>\n",
              "      <td>SBrkr</td>\n",
              "      <td>4</td>\n",
              "      <td>8</td>\n",
              "      <td>1</td>\n",
              "      <td>Attchd</td>\n",
              "      <td>2</td>\n",
              "      <td>TA</td>\n",
              "      <td>4</td>\n",
              "      <td>Y</td>\n",
              "      <td>1</td>\n",
              "      <td>WD</td>\n",
              "      <td>Normal</td>\n",
              "    </tr>\n",
              "    <tr>\n",
              "      <th>2</th>\n",
              "      <td>5</td>\n",
              "      <td>4</td>\n",
              "      <td>2</td>\n",
              "      <td>7</td>\n",
              "      <td>2</td>\n",
              "      <td>GasA</td>\n",
              "      <td>4</td>\n",
              "      <td>Y</td>\n",
              "      <td>SBrkr</td>\n",
              "      <td>3</td>\n",
              "      <td>8</td>\n",
              "      <td>4</td>\n",
              "      <td>Attchd</td>\n",
              "      <td>4</td>\n",
              "      <td>TA</td>\n",
              "      <td>4</td>\n",
              "      <td>Y</td>\n",
              "      <td>4</td>\n",
              "      <td>WD</td>\n",
              "      <td>Normal</td>\n",
              "    </tr>\n",
              "    <tr>\n",
              "      <th>3</th>\n",
              "      <td>4</td>\n",
              "      <td>4</td>\n",
              "      <td>2</td>\n",
              "      <td>7</td>\n",
              "      <td>2</td>\n",
              "      <td>GasA</td>\n",
              "      <td>5</td>\n",
              "      <td>Y</td>\n",
              "      <td>SBrkr</td>\n",
              "      <td>4</td>\n",
              "      <td>8</td>\n",
              "      <td>5</td>\n",
              "      <td>Attchd</td>\n",
              "      <td>4</td>\n",
              "      <td>TA</td>\n",
              "      <td>4</td>\n",
              "      <td>Y</td>\n",
              "      <td>1</td>\n",
              "      <td>WD</td>\n",
              "      <td>Normal</td>\n",
              "    </tr>\n",
              "    <tr>\n",
              "      <th>4</th>\n",
              "      <td>5</td>\n",
              "      <td>4</td>\n",
              "      <td>2</td>\n",
              "      <td>6</td>\n",
              "      <td>2</td>\n",
              "      <td>GasA</td>\n",
              "      <td>5</td>\n",
              "      <td>Y</td>\n",
              "      <td>SBrkr</td>\n",
              "      <td>4</td>\n",
              "      <td>8</td>\n",
              "      <td>1</td>\n",
              "      <td>Attchd</td>\n",
              "      <td>3</td>\n",
              "      <td>TA</td>\n",
              "      <td>4</td>\n",
              "      <td>Y</td>\n",
              "      <td>1</td>\n",
              "      <td>WD</td>\n",
              "      <td>Normal</td>\n",
              "    </tr>\n",
              "  </tbody>\n",
              "</table>\n",
              "</div>"
            ],
            "text/plain": [
              "   BsmtQual BsmtCond  BsmtExposure  ...  Fence  SaleType SaleCondition\n",
              "0         4        4             2  ...      4        WD        Normal\n",
              "1         4        4             2  ...      1        WD        Normal\n",
              "2         5        4             2  ...      4        WD        Normal\n",
              "3         4        4             2  ...      1        WD        Normal\n",
              "4         5        4             2  ...      1        WD        Normal\n",
              "\n",
              "[5 rows x 20 columns]"
            ]
          },
          "metadata": {
            "tags": []
          },
          "execution_count": 101
        }
      ]
    },
    {
      "cell_type": "code",
      "metadata": {
        "id": "592dwmZi0Hni",
        "colab_type": "code",
        "colab": {}
      },
      "source": [
        "# observed unequal proportions for GasHeating, all other proportions are less than 5%, GasW has higher means and medians\n",
        "train_data_cat_var_final['HasGasHeating'] = pd.Series(len(train_data_cat_var_final['Heating']), index=train_data_cat_var_final.index)\n",
        "train_data_cat_var_final['HasGasHeating'] = 0 \n",
        "train_data_cat_var_final.loc[train_data_cat_var_final['Heating']== 'GasA','HasGasHeating'] = 1\n",
        "train_data_cat_var_final.loc[train_data_cat_var_final['Heating']== 'GasW','HasGasHeating'] = 1"
      ],
      "execution_count": 0,
      "outputs": []
    },
    {
      "cell_type": "code",
      "metadata": {
        "id": "DZ5ndQ9e0wKN",
        "colab_type": "code",
        "colab": {}
      },
      "source": [
        "train_data_cat_var_final['Electrical_combined'] = pd.Series(len(train_data_cat_var_final['Electrical']), index=train_data_cat_var_final.index)\n",
        "train_data_cat_var_final['Electrical_combined'] = 0\n",
        "train_data_cat_var_final.loc[train_data_cat_var_final['Electrical']== 'SBrkr','Electrical_combined'] = 1\n",
        "train_data_cat_var_final.loc[train_data_cat_var_final['Electrical']== 'FuseA','Electrical_combined'] = 2"
      ],
      "execution_count": 0,
      "outputs": []
    },
    {
      "cell_type": "code",
      "metadata": {
        "id": "0Y-Mk5WIExRV",
        "colab_type": "code",
        "colab": {}
      },
      "source": [
        "train_data_cat_var_final['GarageType_combined'] = pd.Series(len(train_data_cat_var_final['GarageType']), index=train_data_cat_var_final.index)\n",
        "train_data_cat_var_final['GarageType_combined'] = 0 \n",
        "train_data_cat_var_final.loc[train_data_cat_var_final['GarageType']== 'Attchd','GarageType_combined'] = 1\n",
        "train_data_cat_var_final.loc[train_data_cat_var_final['GarageType']== 'Detchd','GarageType_combined'] = 2\n",
        "train_data_cat_var_final.loc[train_data_cat_var_final['GarageType']== 'BuiltIn','GarageType_combined'] = 3"
      ],
      "execution_count": 0,
      "outputs": []
    },
    {
      "cell_type": "code",
      "metadata": {
        "id": "7eArJUrCByVq",
        "colab_type": "code",
        "colab": {}
      },
      "source": [
        "# observed different group in GarageQual among testing and training, but still ordinal\n",
        "train_data_cat_var_final['GarageQual_combined'] = pd.Series(len(train_data_cat_var_final['GarageQual']), index=train_data_cat_var_final.index)\n",
        "train_data_cat_var_final['GarageQual_combined'] = 2\n",
        "train_data_cat_var_final.loc[train_data_cat_var_final['GarageQual']== 'TA','GarageQual_combined'] = 3\n",
        "train_data_cat_var_final.loc[train_data_cat_var_final['GarageQual']== 'None','GarageQual_combined'] = 1"
      ],
      "execution_count": 0,
      "outputs": []
    },
    {
      "cell_type": "code",
      "metadata": {
        "id": "RpPMFSEwLWNt",
        "colab_type": "code",
        "colab": {}
      },
      "source": [
        "train_data_cat_var_final['SaleType_combined'] = pd.Series(len(train_data_cat_var_final['SaleType']), index=train_data_cat_var_final.index)\n",
        "train_data_cat_var_final['SaleType_combined'] = 0\n",
        "train_data_cat_var_final.loc[train_data_cat_var_final['SaleType']== 'WD','SaleType_combined'] = 1\n",
        "train_data_cat_var_final.loc[train_data_cat_var_final['SaleType']== 'New','SaleType_combined'] = 2"
      ],
      "execution_count": 0,
      "outputs": []
    },
    {
      "cell_type": "code",
      "metadata": {
        "id": "YWqWCrCjWw6b",
        "colab_type": "code",
        "colab": {}
      },
      "source": [
        "train_data_cat_var_final['HasPavedDrive'] = pd.Series(len(train_data_cat_var_final['PavedDrive']), index=train_data_cat_var_final.index)\n",
        "train_data_cat_var_final['HasPavedDrive'] = 0\n",
        "train_data_cat_var_final.loc[train_data_cat_var_final['PavedDrive']== 'Y','HasPavedDrive'] = 1"
      ],
      "execution_count": 0,
      "outputs": []
    },
    {
      "cell_type": "code",
      "metadata": {
        "id": "M3nOL8XNbNhK",
        "colab_type": "code",
        "colab": {}
      },
      "source": [
        "train_data_cat_var_final['SaleCond_combined'] = pd.Series(len(train_data_cat_var_final['SaleCondition']), index=train_data_cat_var_final.index)\n",
        "train_data_cat_var_final['SaleCond_combined'] = 0\n",
        "train_data_cat_var_final.loc[train_data_cat_var_final['SaleCondition']== 'Normal','SaleCond_combined'] = 1"
      ],
      "execution_count": 0,
      "outputs": []
    },
    {
      "cell_type": "code",
      "metadata": {
        "id": "JLIonsOya_qj",
        "colab_type": "code",
        "colab": {}
      },
      "source": [
        "train_data_cat_var_final['HasCentralAir'] = pd.Series(len(train_data_cat_var_final['CentralAir']), index=train_data_cat_var_final.index)\n",
        "train_data_cat_var_final['HasCentralAir'] = 0\n",
        "train_data_cat_var_final.loc[train_data_cat_var_final['CentralAir']== 'Y','HasCentralAir'] = 1"
      ],
      "execution_count": 0,
      "outputs": []
    },
    {
      "cell_type": "code",
      "metadata": {
        "id": "npRp9o1OLs4T",
        "colab_type": "code",
        "colab": {
          "base_uri": "https://localhost:8080/",
          "height": 222
        },
        "outputId": "9d4c0dbb-02ce-48c2-9ac1-9a55e17f5561"
      },
      "source": [
        "train_data_cat_var_final.head()"
      ],
      "execution_count": 123,
      "outputs": [
        {
          "output_type": "execute_result",
          "data": {
            "text/html": [
              "<div>\n",
              "<style scoped>\n",
              "    .dataframe tbody tr th:only-of-type {\n",
              "        vertical-align: middle;\n",
              "    }\n",
              "\n",
              "    .dataframe tbody tr th {\n",
              "        vertical-align: top;\n",
              "    }\n",
              "\n",
              "    .dataframe thead th {\n",
              "        text-align: right;\n",
              "    }\n",
              "</style>\n",
              "<table border=\"1\" class=\"dataframe\">\n",
              "  <thead>\n",
              "    <tr style=\"text-align: right;\">\n",
              "      <th></th>\n",
              "      <th>BsmtQual</th>\n",
              "      <th>BsmtCond</th>\n",
              "      <th>BsmtExposure</th>\n",
              "      <th>BsmtFinType1</th>\n",
              "      <th>BsmtFinType2</th>\n",
              "      <th>HeatingQC</th>\n",
              "      <th>CentralAir</th>\n",
              "      <th>KitchenQual</th>\n",
              "      <th>Functional</th>\n",
              "      <th>FireplaceQu</th>\n",
              "      <th>GarageFinish</th>\n",
              "      <th>GarageCond</th>\n",
              "      <th>Fence</th>\n",
              "      <th>SalePrice_log</th>\n",
              "      <th>SalePrice</th>\n",
              "      <th>HasGasHeating</th>\n",
              "      <th>Electrical_combined</th>\n",
              "      <th>GarageType_combined</th>\n",
              "      <th>GarageQual_combined</th>\n",
              "      <th>SaleType_combined</th>\n",
              "      <th>HasPavedDrive</th>\n",
              "      <th>SaleCond_combined</th>\n",
              "      <th>HasCentralAir</th>\n",
              "    </tr>\n",
              "  </thead>\n",
              "  <tbody>\n",
              "    <tr>\n",
              "      <th>0</th>\n",
              "      <td>5</td>\n",
              "      <td>4</td>\n",
              "      <td>2</td>\n",
              "      <td>7</td>\n",
              "      <td>2</td>\n",
              "      <td>5</td>\n",
              "      <td>Y</td>\n",
              "      <td>4</td>\n",
              "      <td>8</td>\n",
              "      <td>1</td>\n",
              "      <td>3</td>\n",
              "      <td>4</td>\n",
              "      <td>1</td>\n",
              "      <td>12.247694</td>\n",
              "      <td>208500</td>\n",
              "      <td>1</td>\n",
              "      <td>1</td>\n",
              "      <td>1</td>\n",
              "      <td>3</td>\n",
              "      <td>1</td>\n",
              "      <td>1</td>\n",
              "      <td>1</td>\n",
              "      <td>1</td>\n",
              "    </tr>\n",
              "    <tr>\n",
              "      <th>1</th>\n",
              "      <td>5</td>\n",
              "      <td>4</td>\n",
              "      <td>5</td>\n",
              "      <td>6</td>\n",
              "      <td>2</td>\n",
              "      <td>5</td>\n",
              "      <td>Y</td>\n",
              "      <td>3</td>\n",
              "      <td>8</td>\n",
              "      <td>4</td>\n",
              "      <td>3</td>\n",
              "      <td>4</td>\n",
              "      <td>1</td>\n",
              "      <td>12.109011</td>\n",
              "      <td>181500</td>\n",
              "      <td>1</td>\n",
              "      <td>1</td>\n",
              "      <td>1</td>\n",
              "      <td>3</td>\n",
              "      <td>1</td>\n",
              "      <td>1</td>\n",
              "      <td>1</td>\n",
              "      <td>1</td>\n",
              "    </tr>\n",
              "    <tr>\n",
              "      <th>2</th>\n",
              "      <td>5</td>\n",
              "      <td>4</td>\n",
              "      <td>3</td>\n",
              "      <td>7</td>\n",
              "      <td>2</td>\n",
              "      <td>5</td>\n",
              "      <td>Y</td>\n",
              "      <td>4</td>\n",
              "      <td>8</td>\n",
              "      <td>4</td>\n",
              "      <td>3</td>\n",
              "      <td>4</td>\n",
              "      <td>1</td>\n",
              "      <td>12.317167</td>\n",
              "      <td>223500</td>\n",
              "      <td>1</td>\n",
              "      <td>1</td>\n",
              "      <td>1</td>\n",
              "      <td>3</td>\n",
              "      <td>1</td>\n",
              "      <td>1</td>\n",
              "      <td>1</td>\n",
              "      <td>1</td>\n",
              "    </tr>\n",
              "    <tr>\n",
              "      <th>3</th>\n",
              "      <td>4</td>\n",
              "      <td>5</td>\n",
              "      <td>2</td>\n",
              "      <td>6</td>\n",
              "      <td>2</td>\n",
              "      <td>4</td>\n",
              "      <td>Y</td>\n",
              "      <td>4</td>\n",
              "      <td>8</td>\n",
              "      <td>5</td>\n",
              "      <td>2</td>\n",
              "      <td>4</td>\n",
              "      <td>1</td>\n",
              "      <td>11.849398</td>\n",
              "      <td>140000</td>\n",
              "      <td>1</td>\n",
              "      <td>1</td>\n",
              "      <td>2</td>\n",
              "      <td>3</td>\n",
              "      <td>1</td>\n",
              "      <td>1</td>\n",
              "      <td>0</td>\n",
              "      <td>1</td>\n",
              "    </tr>\n",
              "    <tr>\n",
              "      <th>4</th>\n",
              "      <td>5</td>\n",
              "      <td>4</td>\n",
              "      <td>4</td>\n",
              "      <td>7</td>\n",
              "      <td>2</td>\n",
              "      <td>5</td>\n",
              "      <td>Y</td>\n",
              "      <td>4</td>\n",
              "      <td>8</td>\n",
              "      <td>4</td>\n",
              "      <td>3</td>\n",
              "      <td>4</td>\n",
              "      <td>1</td>\n",
              "      <td>12.429216</td>\n",
              "      <td>250000</td>\n",
              "      <td>1</td>\n",
              "      <td>1</td>\n",
              "      <td>1</td>\n",
              "      <td>3</td>\n",
              "      <td>1</td>\n",
              "      <td>1</td>\n",
              "      <td>1</td>\n",
              "      <td>1</td>\n",
              "    </tr>\n",
              "  </tbody>\n",
              "</table>\n",
              "</div>"
            ],
            "text/plain": [
              "   BsmtQual BsmtCond  ...  SaleCond_combined  HasCentralAir\n",
              "0         5        4  ...                  1              1\n",
              "1         5        4  ...                  1              1\n",
              "2         5        4  ...                  1              1\n",
              "3         4        5  ...                  0              1\n",
              "4         5        4  ...                  1              1\n",
              "\n",
              "[5 rows x 23 columns]"
            ]
          },
          "metadata": {
            "tags": []
          },
          "execution_count": 123
        }
      ]
    },
    {
      "cell_type": "code",
      "metadata": {
        "id": "Iw1NyWyFygDe",
        "colab_type": "code",
        "colab": {}
      },
      "source": [
        "# observed unequal proportions for GasHeating, all other proportions are less than 5%, GasW has higher means and medians  \n",
        "test_data_cat_var_final['HasGasHeating'] = pd.Series(len(test_data_cat_var_final['Heating']), index=test_data_cat_var_final.index)\n",
        "test_data_cat_var_final['HasGasHeating'] = 0 \n",
        "test_data_cat_var_final.loc[test_data_cat_var_final['Heating']== 'GasA','HasGasHeating'] = 1\n",
        "test_data_cat_var_final.loc[test_data_cat_var_final['Heating']== 'GasW','HasGasHeating'] = 1"
      ],
      "execution_count": 0,
      "outputs": []
    },
    {
      "cell_type": "code",
      "metadata": {
        "id": "nkZsKuou1g7y",
        "colab_type": "code",
        "colab": {}
      },
      "source": [
        "test_data_cat_var_final['Electrical_combined'] = pd.Series(len(test_data_cat_var_final['Electrical']), index=test_data_cat_var_final.index)\n",
        "test_data_cat_var_final['Electrical_combined'] = 0\n",
        "test_data_cat_var_final.loc[test_data_cat_var_final['Electrical']== 'SBrkr','Electrical_combined'] = 1\n",
        "test_data_cat_var_final.loc[test_data_cat_var_final['Electrical']== 'FuseA','Electrical_combined'] = 2"
      ],
      "execution_count": 0,
      "outputs": []
    },
    {
      "cell_type": "code",
      "metadata": {
        "id": "b3RaVKacC1Em",
        "colab_type": "code",
        "colab": {}
      },
      "source": [
        "test_data_cat_var_final['GarageType_combined'] = pd.Series(len(test_data_cat_var_final['GarageType']), index=test_data_cat_var_final.index)\n",
        "test_data_cat_var_final['GarageType_combined'] = 0 \n",
        "test_data_cat_var_final.loc[test_data_cat_var_final['GarageType']== 'Attchd','GarageType_combined'] = 1\n",
        "test_data_cat_var_final.loc[test_data_cat_var_final['GarageType']== 'Detchd','GarageType_combined'] = 2\n",
        "test_data_cat_var_final.loc[test_data_cat_var_final['GarageType']== 'BuiltIn','GarageType_combined'] = 3"
      ],
      "execution_count": 0,
      "outputs": []
    },
    {
      "cell_type": "code",
      "metadata": {
        "id": "pAIFhNEC53_i",
        "colab_type": "code",
        "colab": {}
      },
      "source": [
        "# observed different group in GarageQual among testing and training, but still ordinal\n",
        "test_data_cat_var_final['GarageQual_combined'] = pd.Series(len(test_data_cat_var_final['GarageQual']), index=test_data_cat_var_final.index)\n",
        "test_data_cat_var_final['GarageQual_combined'] = 2\n",
        "test_data_cat_var_final.loc[test_data_cat_var_final['GarageQual']== 'TA','GarageQual_combined'] = 3\n",
        "test_data_cat_var_final.loc[test_data_cat_var_final['GarageQual']== 'None','GarageQual_combined'] = 1"
      ],
      "execution_count": 0,
      "outputs": []
    },
    {
      "cell_type": "code",
      "metadata": {
        "id": "pUpFq6QjF6iI",
        "colab_type": "code",
        "colab": {}
      },
      "source": [
        "test_data_cat_var_final['SaleType_combined'] = pd.Series(len(test_data_cat_var_final['SaleType']), index=test_data_cat_var_final.index)\n",
        "test_data_cat_var_final['SaleType_combined'] = 0\n",
        "test_data_cat_var_final.loc[test_data_cat_var_final['SaleType']== 'WD','SaleType_combined'] = 1\n",
        "test_data_cat_var_final.loc[test_data_cat_var_final['SaleType']== 'New','SaleType_combined'] = 2"
      ],
      "execution_count": 0,
      "outputs": []
    },
    {
      "cell_type": "code",
      "metadata": {
        "id": "25wVPwTZXsW6",
        "colab_type": "code",
        "colab": {}
      },
      "source": [
        "test_data_cat_var_final['HasPavedDrive'] = pd.Series(len(test_data_cat_var_final['PavedDrive']), index=test_data_cat_var_final.index)\n",
        "test_data_cat_var_final['HasPavedDrive'] = 0\n",
        "test_data_cat_var_final.loc[test_data_cat_var_final['PavedDrive']== 'Y','HasPavedDrive'] = 1"
      ],
      "execution_count": 0,
      "outputs": []
    },
    {
      "cell_type": "code",
      "metadata": {
        "id": "C8QlfpraaBEg",
        "colab_type": "code",
        "colab": {}
      },
      "source": [
        "test_data_cat_var_final['SaleCond_combined'] = pd.Series(len(test_data_cat_var_final['SaleCondition']), index=test_data_cat_var_final.index)\n",
        "test_data_cat_var_final['SaleCond_combined'] = 0\n",
        "test_data_cat_var_final.loc[test_data_cat_var_final['SaleCondition']== 'Normal','SaleCond_combined'] = 1"
      ],
      "execution_count": 0,
      "outputs": []
    },
    {
      "cell_type": "code",
      "metadata": {
        "id": "BrSCEg31VMZK",
        "colab_type": "code",
        "colab": {}
      },
      "source": [
        "test_data_cat_var_final['HasCentralAir'] = pd.Series(len(test_data_cat_var_final['CentralAir']), index=test_data_cat_var_final.index)\n",
        "test_data_cat_var_final['HasCentralAir'] = 0\n",
        "test_data_cat_var_final.loc[test_data_cat_var_final['CentralAir']== 'Y','HasCentralAir'] = 1"
      ],
      "execution_count": 0,
      "outputs": []
    },
    {
      "cell_type": "code",
      "metadata": {
        "id": "SAhF6x4UMdOE",
        "colab_type": "code",
        "colab": {
          "base_uri": "https://localhost:8080/",
          "height": 222
        },
        "outputId": "917230b2-288c-4794-eea9-416026adb196"
      },
      "source": [
        "test_data_cat_var_final.head()"
      ],
      "execution_count": 125,
      "outputs": [
        {
          "output_type": "execute_result",
          "data": {
            "text/html": [
              "<div>\n",
              "<style scoped>\n",
              "    .dataframe tbody tr th:only-of-type {\n",
              "        vertical-align: middle;\n",
              "    }\n",
              "\n",
              "    .dataframe tbody tr th {\n",
              "        vertical-align: top;\n",
              "    }\n",
              "\n",
              "    .dataframe thead th {\n",
              "        text-align: right;\n",
              "    }\n",
              "</style>\n",
              "<table border=\"1\" class=\"dataframe\">\n",
              "  <thead>\n",
              "    <tr style=\"text-align: right;\">\n",
              "      <th></th>\n",
              "      <th>BsmtQual</th>\n",
              "      <th>BsmtCond</th>\n",
              "      <th>BsmtExposure</th>\n",
              "      <th>BsmtFinType1</th>\n",
              "      <th>BsmtFinType2</th>\n",
              "      <th>HeatingQC</th>\n",
              "      <th>CentralAir</th>\n",
              "      <th>KitchenQual</th>\n",
              "      <th>Functional</th>\n",
              "      <th>FireplaceQu</th>\n",
              "      <th>GarageFinish</th>\n",
              "      <th>GarageCond</th>\n",
              "      <th>Fence</th>\n",
              "      <th>HasGasHeating</th>\n",
              "      <th>Electrical_combined</th>\n",
              "      <th>GarageType_combined</th>\n",
              "      <th>GarageQual_combined</th>\n",
              "      <th>Garage_combined</th>\n",
              "      <th>SaleType_combined</th>\n",
              "      <th>HasPavedDrive</th>\n",
              "      <th>HasPavedDrive_combined</th>\n",
              "      <th>SaleCond_combined</th>\n",
              "      <th>HasCentralAir</th>\n",
              "    </tr>\n",
              "  </thead>\n",
              "  <tbody>\n",
              "    <tr>\n",
              "      <th>0</th>\n",
              "      <td>4</td>\n",
              "      <td>4</td>\n",
              "      <td>2</td>\n",
              "      <td>4</td>\n",
              "      <td>3</td>\n",
              "      <td>3</td>\n",
              "      <td>Y</td>\n",
              "      <td>3</td>\n",
              "      <td>8</td>\n",
              "      <td>1</td>\n",
              "      <td>2</td>\n",
              "      <td>4</td>\n",
              "      <td>4</td>\n",
              "      <td>1</td>\n",
              "      <td>1</td>\n",
              "      <td>1</td>\n",
              "      <td>2</td>\n",
              "      <td>3.0</td>\n",
              "      <td>1</td>\n",
              "      <td>0</td>\n",
              "      <td>1.0</td>\n",
              "      <td>1</td>\n",
              "      <td>1</td>\n",
              "    </tr>\n",
              "    <tr>\n",
              "      <th>1</th>\n",
              "      <td>4</td>\n",
              "      <td>4</td>\n",
              "      <td>2</td>\n",
              "      <td>6</td>\n",
              "      <td>2</td>\n",
              "      <td>3</td>\n",
              "      <td>Y</td>\n",
              "      <td>4</td>\n",
              "      <td>8</td>\n",
              "      <td>1</td>\n",
              "      <td>2</td>\n",
              "      <td>4</td>\n",
              "      <td>1</td>\n",
              "      <td>1</td>\n",
              "      <td>1</td>\n",
              "      <td>1</td>\n",
              "      <td>2</td>\n",
              "      <td>3.0</td>\n",
              "      <td>1</td>\n",
              "      <td>0</td>\n",
              "      <td>1.0</td>\n",
              "      <td>1</td>\n",
              "      <td>1</td>\n",
              "    </tr>\n",
              "    <tr>\n",
              "      <th>2</th>\n",
              "      <td>5</td>\n",
              "      <td>4</td>\n",
              "      <td>2</td>\n",
              "      <td>7</td>\n",
              "      <td>2</td>\n",
              "      <td>4</td>\n",
              "      <td>Y</td>\n",
              "      <td>3</td>\n",
              "      <td>8</td>\n",
              "      <td>4</td>\n",
              "      <td>4</td>\n",
              "      <td>4</td>\n",
              "      <td>4</td>\n",
              "      <td>1</td>\n",
              "      <td>1</td>\n",
              "      <td>1</td>\n",
              "      <td>2</td>\n",
              "      <td>3.0</td>\n",
              "      <td>1</td>\n",
              "      <td>0</td>\n",
              "      <td>1.0</td>\n",
              "      <td>1</td>\n",
              "      <td>1</td>\n",
              "    </tr>\n",
              "    <tr>\n",
              "      <th>3</th>\n",
              "      <td>4</td>\n",
              "      <td>4</td>\n",
              "      <td>2</td>\n",
              "      <td>7</td>\n",
              "      <td>2</td>\n",
              "      <td>5</td>\n",
              "      <td>Y</td>\n",
              "      <td>4</td>\n",
              "      <td>8</td>\n",
              "      <td>5</td>\n",
              "      <td>4</td>\n",
              "      <td>4</td>\n",
              "      <td>1</td>\n",
              "      <td>1</td>\n",
              "      <td>1</td>\n",
              "      <td>1</td>\n",
              "      <td>2</td>\n",
              "      <td>3.0</td>\n",
              "      <td>1</td>\n",
              "      <td>0</td>\n",
              "      <td>1.0</td>\n",
              "      <td>1</td>\n",
              "      <td>1</td>\n",
              "    </tr>\n",
              "    <tr>\n",
              "      <th>4</th>\n",
              "      <td>5</td>\n",
              "      <td>4</td>\n",
              "      <td>2</td>\n",
              "      <td>6</td>\n",
              "      <td>2</td>\n",
              "      <td>5</td>\n",
              "      <td>Y</td>\n",
              "      <td>4</td>\n",
              "      <td>8</td>\n",
              "      <td>1</td>\n",
              "      <td>3</td>\n",
              "      <td>4</td>\n",
              "      <td>1</td>\n",
              "      <td>1</td>\n",
              "      <td>1</td>\n",
              "      <td>1</td>\n",
              "      <td>2</td>\n",
              "      <td>3.0</td>\n",
              "      <td>1</td>\n",
              "      <td>0</td>\n",
              "      <td>1.0</td>\n",
              "      <td>1</td>\n",
              "      <td>1</td>\n",
              "    </tr>\n",
              "  </tbody>\n",
              "</table>\n",
              "</div>"
            ],
            "text/plain": [
              "   BsmtQual BsmtCond  ...  SaleCond_combined  HasCentralAir\n",
              "0         4        4  ...                  1              1\n",
              "1         4        4  ...                  1              1\n",
              "2         5        4  ...                  1              1\n",
              "3         4        4  ...                  1              1\n",
              "4         5        4  ...                  1              1\n",
              "\n",
              "[5 rows x 23 columns]"
            ]
          },
          "metadata": {
            "tags": []
          },
          "execution_count": 125
        }
      ]
    },
    {
      "cell_type": "code",
      "metadata": {
        "id": "Iib10Qeps44T",
        "colab_type": "code",
        "colab": {}
      },
      "source": [
        "# These are the \n",
        "cat_only_one_hot_endcode = ['HasGasHeating', 'Electrical_combined', 'CentralAir_Y', 'GarageType_Combined', 'GarageQual_combined','HasPavedDrive', 'SaleType_combined', 'SalesCond_Combined']"
      ],
      "execution_count": 0,
      "outputs": []
    },
    {
      "cell_type": "code",
      "metadata": {
        "id": "v9EqbtwIxMHN",
        "colab_type": "code",
        "colab": {}
      },
      "source": [
        "drop=['Heating', 'Electrical', 'GarageType', 'CentralAir','GarageQual','SaleType', 'PavedDrive', 'SaleCondition']"
      ],
      "execution_count": 0,
      "outputs": []
    },
    {
      "cell_type": "code",
      "metadata": {
        "id": "s4TNIPtlX-WW",
        "colab_type": "code",
        "colab": {}
      },
      "source": [
        "train_data_cat_var_final = train_data_cat_var_final.drop(drop, axis=1)\n",
        "test_data_cat_var_final = test_data_cat_var_final.drop(drop, axis=1)"
      ],
      "execution_count": 0,
      "outputs": []
    },
    {
      "cell_type": "code",
      "metadata": {
        "id": "g-oUJQ7fX-lo",
        "colab_type": "code",
        "colab": {}
      },
      "source": [
        "train_data_cat_var_final.to_csv('train_all0.csv')\n",
        "test_data_cat_var_final.to_csv('test_all0.csv')"
      ],
      "execution_count": 0,
      "outputs": []
    },
    {
      "cell_type": "markdown",
      "metadata": {
        "id": "YD7XuHdLP-X3",
        "colab_type": "text"
      },
      "source": [
        "## Heavy Feature Selection"
      ]
    },
    {
      "cell_type": "markdown",
      "metadata": {
        "colab_type": "text",
        "id": "U8Cq0iGtldVu"
      },
      "source": [
        "### Categorical (strictly yes_no, able to do one hot encode) transform Train\n"
      ]
    },
    {
      "cell_type": "code",
      "metadata": {
        "colab_type": "code",
        "id": "TGI4edsJldVx",
        "colab": {}
      },
      "source": [
        "# examine the possible variables that are throw away \n",
        "cat_only_drop=['Fence', 'MiscFeature', 'SaleType']\n",
        "train_data_cat_var_final = train_data_cat_var.drop(cat_only_drop, axis=1)"
      ],
      "execution_count": 0,
      "outputs": []
    },
    {
      "cell_type": "code",
      "metadata": {
        "colab_type": "code",
        "id": "50RBxSaGldVz",
        "colab": {}
      },
      "source": [
        "ordinal_drop=['BsmtFinType2','Functional', 'PoolQC', 'GarageCond', 'SaleCondition']\n",
        "train_data_cat_var_final = train_data_cat_var_final.drop(ordinal_drop, axis=1)"
      ],
      "execution_count": 0,
      "outputs": []
    },
    {
      "cell_type": "code",
      "metadata": {
        "colab_type": "code",
        "outputId": "b0cb3ef2-3402-4c31-debe-53755a12af2f",
        "id": "TSkI7b3rldV1",
        "colab": {
          "base_uri": "https://localhost:8080/",
          "height": 295
        }
      },
      "source": [
        "list(train_data_cat_var_final.columns)"
      ],
      "execution_count": 0,
      "outputs": [
        {
          "output_type": "execute_result",
          "data": {
            "text/plain": [
              "['BsmtQual',\n",
              " 'BsmtCond',\n",
              " 'BsmtExposure',\n",
              " 'BsmtFinType1',\n",
              " 'Heating',\n",
              " 'HeatingQC',\n",
              " 'CentralAir',\n",
              " 'Electrical',\n",
              " 'KitchenQual',\n",
              " 'FireplaceQu',\n",
              " 'GarageType',\n",
              " 'GarageFinish',\n",
              " 'GarageQual',\n",
              " 'PavedDrive',\n",
              " 'SalePrice_log',\n",
              " 'SalePrice']"
            ]
          },
          "metadata": {
            "tags": []
          },
          "execution_count": 182
        }
      ]
    },
    {
      "cell_type": "code",
      "metadata": {
        "colab_type": "code",
        "id": "Wa3LfQ2-ldV5",
        "colab": {}
      },
      "source": [
        "train_data_cat_var_final['HasGasHeating'] = pd.Series(len(train_data_cat_var_final['Heating']), index=train_data_cat_var_final.index)\n",
        "train_data_cat_var_final['HasGasHeating'] = 0 \n",
        "train_data_cat_var_final.loc[train_data_cat_var_final['Heating']== 'GasA','HasGasHeating'] = 1\n",
        "train_data_cat_var_final.loc[train_data_cat_var_final['Heating']== 'GasW','HasGasHeating'] = 1"
      ],
      "execution_count": 0,
      "outputs": []
    },
    {
      "cell_type": "code",
      "metadata": {
        "colab_type": "code",
        "id": "_-I4w0byldV7",
        "colab": {}
      },
      "source": [
        "train_data_cat_var_final['HasSBrkr'] = pd.Series(len(train_data_cat_var_final['Electrical']), index=train_data_cat_var_final.index)\n",
        "train_data_cat_var_final['HasSBrkr'] = 0 \n",
        "train_data_cat_var_final.loc[train_data_cat_var_final['Electrical']== 'SBrkr','HasSBrkr'] = 1"
      ],
      "execution_count": 0,
      "outputs": []
    },
    {
      "cell_type": "code",
      "metadata": {
        "colab_type": "code",
        "id": "6Vj2tGVvldV9",
        "colab": {}
      },
      "source": [
        "train_data_cat_var_final['HasEx'] = pd.Series(len(train_data_cat_var_final['BsmtQual']), index=train_data_cat_var_final.index)\n",
        "train_data_cat_var_final['HasEx'] = 0 \n",
        "train_data_cat_var_final.loc[train_data_cat_var_final['BsmtQual']== 'Ex','HasEx'] = 1"
      ],
      "execution_count": 0,
      "outputs": []
    },
    {
      "cell_type": "code",
      "metadata": {
        "colab_type": "code",
        "id": "vFUobhbAldV_",
        "colab": {}
      },
      "source": [
        "train_data_cat_var_final['HasGd'] = pd.Series(len(train_data_cat_var_final['BsmtExposure']), index=train_data_cat_var_final.index)\n",
        "train_data_cat_var_final['HasGd'] = 0 \n",
        "train_data_cat_var_final.loc[train_data_cat_var_final['BsmtExposure']== 'Gd','HasGd'] = 1"
      ],
      "execution_count": 0,
      "outputs": []
    },
    {
      "cell_type": "code",
      "metadata": {
        "colab_type": "code",
        "id": "T6aOD_rKldWB",
        "colab": {}
      },
      "source": [
        "train_data_cat_var_final['HasGLQ'] = pd.Series(len(train_data_cat_var_final['BsmtFinType1']), index=train_data_cat_var_final.index)\n",
        "train_data_cat_var_final['HasGLQ'] = 0 \n",
        "train_data_cat_var_final.loc[train_data_cat_var_final['BsmtFinType1']== 'GLQ','HasGLQ'] = 1"
      ],
      "execution_count": 0,
      "outputs": []
    },
    {
      "cell_type": "code",
      "metadata": {
        "colab_type": "code",
        "id": "GPjtGZMOldWM",
        "colab": {}
      },
      "source": [
        "train_data_cat_var_final['HasPavedDrive'] = pd.Series(len(train_data_cat_var_final['PavedDrive']), index=train_data_cat_var_final.index)\n",
        "train_data_cat_var_final['HasPavedDrive'] = 0 \n",
        "train_data_cat_var_final.loc[train_data_cat_var_final['PavedDrive']== 'Y','HasPavedDrive'] = 1"
      ],
      "execution_count": 0,
      "outputs": []
    },
    {
      "cell_type": "code",
      "metadata": {
        "id": "VzJvjWb6xW_y",
        "colab_type": "code",
        "colab": {}
      },
      "source": [
        "train_data_cat_var_final['HasTA'] = pd.Series(len(train_data_cat_var_final['GarageQual']), index=train_data_cat_var_final.index)\n",
        "train_data_cat_var_final['HasTA'] = 0 \n",
        "train_data_cat_var_final.loc[train_data_cat_var_final['GarageQual']== 'TA','HasTA'] = 1"
      ],
      "execution_count": 0,
      "outputs": []
    },
    {
      "cell_type": "code",
      "metadata": {
        "colab_type": "code",
        "id": "RrzR-NS5ldWS",
        "colab": {}
      },
      "source": [
        "train_data_cat_var_final.sample(20)"
      ],
      "execution_count": 0,
      "outputs": []
    },
    {
      "cell_type": "code",
      "metadata": {
        "colab_type": "code",
        "id": "7ZXYtY3dldWY",
        "colab": {}
      },
      "source": [
        "eng_drop=['Heating','Electrical', 'BsmtQual', 'BsmtExposure', 'BsmtFinType1', 'PavedDrive', 'GarageQual']\n",
        "train_data_cat_var_final = train_data_cat_var_final.drop(eng_drop, axis=1)"
      ],
      "execution_count": 0,
      "outputs": []
    },
    {
      "cell_type": "code",
      "metadata": {
        "colab_type": "code",
        "id": "jX8XWl-jldWe",
        "colab": {}
      },
      "source": [
        "def Diff(li1, li2): \n",
        "    li_dif = [i for i in li1 + li2 if i not in li1 or i not in li2] \n",
        "    return li_dif "
      ],
      "execution_count": 0,
      "outputs": []
    },
    {
      "cell_type": "code",
      "metadata": {
        "id": "ZsZaN6Ff5OyA",
        "colab_type": "code",
        "colab": {}
      },
      "source": [
        "cols= Diff(list(train_data_cat_var_final.columns),['SalePrice_log', 'SalePrice'])"
      ],
      "execution_count": 0,
      "outputs": []
    },
    {
      "cell_type": "code",
      "metadata": {
        "colab_type": "code",
        "id": "hF41DVuEldWq",
        "colab": {}
      },
      "source": [
        "train_data_cat_var_final = pd.get_dummies(train_data_cat_var_final, prefix=cols, columns=cols, drop_first=True)"
      ],
      "execution_count": 0,
      "outputs": []
    },
    {
      "cell_type": "code",
      "metadata": {
        "id": "vkAaNQF2lu2h",
        "colab_type": "code",
        "outputId": "04c174b5-5634-4111-b330-7d02e5ddb5e8",
        "colab": {
          "base_uri": "https://localhost:8080/",
          "height": 435
        }
      },
      "source": [
        "train_data_cat_var_final"
      ],
      "execution_count": 0,
      "outputs": [
        {
          "output_type": "execute_result",
          "data": {
            "text/html": [
              "<div>\n",
              "<style scoped>\n",
              "    .dataframe tbody tr th:only-of-type {\n",
              "        vertical-align: middle;\n",
              "    }\n",
              "\n",
              "    .dataframe tbody tr th {\n",
              "        vertical-align: top;\n",
              "    }\n",
              "\n",
              "    .dataframe thead th {\n",
              "        text-align: right;\n",
              "    }\n",
              "</style>\n",
              "<table border=\"1\" class=\"dataframe\">\n",
              "  <thead>\n",
              "    <tr style=\"text-align: right;\">\n",
              "      <th></th>\n",
              "      <th>SalePrice_log</th>\n",
              "      <th>SalePrice</th>\n",
              "      <th>BsmtCond_Gd</th>\n",
              "      <th>BsmtCond_None</th>\n",
              "      <th>BsmtCond_Po</th>\n",
              "      <th>BsmtCond_TA</th>\n",
              "      <th>HeatingQC_Fa</th>\n",
              "      <th>HeatingQC_Gd</th>\n",
              "      <th>HeatingQC_Po</th>\n",
              "      <th>HeatingQC_TA</th>\n",
              "      <th>CentralAir_Y</th>\n",
              "      <th>KitchenQual_Fa</th>\n",
              "      <th>KitchenQual_Gd</th>\n",
              "      <th>KitchenQual_TA</th>\n",
              "      <th>FireplaceQu_Fa</th>\n",
              "      <th>FireplaceQu_Gd</th>\n",
              "      <th>FireplaceQu_None</th>\n",
              "      <th>FireplaceQu_Po</th>\n",
              "      <th>FireplaceQu_TA</th>\n",
              "      <th>GarageType_Attchd</th>\n",
              "      <th>GarageType_Basment</th>\n",
              "      <th>GarageType_BuiltIn</th>\n",
              "      <th>GarageType_CarPort</th>\n",
              "      <th>GarageType_Detchd</th>\n",
              "      <th>GarageType_None</th>\n",
              "      <th>GarageFinish_None</th>\n",
              "      <th>GarageFinish_RFn</th>\n",
              "      <th>GarageFinish_Unf</th>\n",
              "      <th>HasGasHeating_1</th>\n",
              "      <th>HasSBrkr_1</th>\n",
              "      <th>HasEx_1</th>\n",
              "      <th>HasGd_1</th>\n",
              "      <th>HasGLQ_1</th>\n",
              "      <th>HasPavedDrive_1</th>\n",
              "      <th>HasTA_1</th>\n",
              "    </tr>\n",
              "  </thead>\n",
              "  <tbody>\n",
              "    <tr>\n",
              "      <th>0</th>\n",
              "      <td>12.247694</td>\n",
              "      <td>208500</td>\n",
              "      <td>0</td>\n",
              "      <td>0</td>\n",
              "      <td>0</td>\n",
              "      <td>1</td>\n",
              "      <td>0</td>\n",
              "      <td>0</td>\n",
              "      <td>0</td>\n",
              "      <td>0</td>\n",
              "      <td>1</td>\n",
              "      <td>0</td>\n",
              "      <td>1</td>\n",
              "      <td>0</td>\n",
              "      <td>0</td>\n",
              "      <td>0</td>\n",
              "      <td>1</td>\n",
              "      <td>0</td>\n",
              "      <td>0</td>\n",
              "      <td>1</td>\n",
              "      <td>0</td>\n",
              "      <td>0</td>\n",
              "      <td>0</td>\n",
              "      <td>0</td>\n",
              "      <td>0</td>\n",
              "      <td>0</td>\n",
              "      <td>1</td>\n",
              "      <td>0</td>\n",
              "      <td>1</td>\n",
              "      <td>1</td>\n",
              "      <td>0</td>\n",
              "      <td>0</td>\n",
              "      <td>1</td>\n",
              "      <td>1</td>\n",
              "      <td>1</td>\n",
              "    </tr>\n",
              "    <tr>\n",
              "      <th>1</th>\n",
              "      <td>12.109011</td>\n",
              "      <td>181500</td>\n",
              "      <td>0</td>\n",
              "      <td>0</td>\n",
              "      <td>0</td>\n",
              "      <td>1</td>\n",
              "      <td>0</td>\n",
              "      <td>0</td>\n",
              "      <td>0</td>\n",
              "      <td>0</td>\n",
              "      <td>1</td>\n",
              "      <td>0</td>\n",
              "      <td>0</td>\n",
              "      <td>1</td>\n",
              "      <td>0</td>\n",
              "      <td>0</td>\n",
              "      <td>0</td>\n",
              "      <td>0</td>\n",
              "      <td>1</td>\n",
              "      <td>1</td>\n",
              "      <td>0</td>\n",
              "      <td>0</td>\n",
              "      <td>0</td>\n",
              "      <td>0</td>\n",
              "      <td>0</td>\n",
              "      <td>0</td>\n",
              "      <td>1</td>\n",
              "      <td>0</td>\n",
              "      <td>1</td>\n",
              "      <td>1</td>\n",
              "      <td>0</td>\n",
              "      <td>1</td>\n",
              "      <td>0</td>\n",
              "      <td>1</td>\n",
              "      <td>1</td>\n",
              "    </tr>\n",
              "    <tr>\n",
              "      <th>2</th>\n",
              "      <td>12.317167</td>\n",
              "      <td>223500</td>\n",
              "      <td>0</td>\n",
              "      <td>0</td>\n",
              "      <td>0</td>\n",
              "      <td>1</td>\n",
              "      <td>0</td>\n",
              "      <td>0</td>\n",
              "      <td>0</td>\n",
              "      <td>0</td>\n",
              "      <td>1</td>\n",
              "      <td>0</td>\n",
              "      <td>1</td>\n",
              "      <td>0</td>\n",
              "      <td>0</td>\n",
              "      <td>0</td>\n",
              "      <td>0</td>\n",
              "      <td>0</td>\n",
              "      <td>1</td>\n",
              "      <td>1</td>\n",
              "      <td>0</td>\n",
              "      <td>0</td>\n",
              "      <td>0</td>\n",
              "      <td>0</td>\n",
              "      <td>0</td>\n",
              "      <td>0</td>\n",
              "      <td>1</td>\n",
              "      <td>0</td>\n",
              "      <td>1</td>\n",
              "      <td>1</td>\n",
              "      <td>0</td>\n",
              "      <td>0</td>\n",
              "      <td>1</td>\n",
              "      <td>1</td>\n",
              "      <td>1</td>\n",
              "    </tr>\n",
              "    <tr>\n",
              "      <th>3</th>\n",
              "      <td>11.849398</td>\n",
              "      <td>140000</td>\n",
              "      <td>1</td>\n",
              "      <td>0</td>\n",
              "      <td>0</td>\n",
              "      <td>0</td>\n",
              "      <td>0</td>\n",
              "      <td>1</td>\n",
              "      <td>0</td>\n",
              "      <td>0</td>\n",
              "      <td>1</td>\n",
              "      <td>0</td>\n",
              "      <td>1</td>\n",
              "      <td>0</td>\n",
              "      <td>0</td>\n",
              "      <td>1</td>\n",
              "      <td>0</td>\n",
              "      <td>0</td>\n",
              "      <td>0</td>\n",
              "      <td>0</td>\n",
              "      <td>0</td>\n",
              "      <td>0</td>\n",
              "      <td>0</td>\n",
              "      <td>1</td>\n",
              "      <td>0</td>\n",
              "      <td>0</td>\n",
              "      <td>0</td>\n",
              "      <td>1</td>\n",
              "      <td>1</td>\n",
              "      <td>1</td>\n",
              "      <td>0</td>\n",
              "      <td>0</td>\n",
              "      <td>0</td>\n",
              "      <td>1</td>\n",
              "      <td>1</td>\n",
              "    </tr>\n",
              "    <tr>\n",
              "      <th>4</th>\n",
              "      <td>12.429216</td>\n",
              "      <td>250000</td>\n",
              "      <td>0</td>\n",
              "      <td>0</td>\n",
              "      <td>0</td>\n",
              "      <td>1</td>\n",
              "      <td>0</td>\n",
              "      <td>0</td>\n",
              "      <td>0</td>\n",
              "      <td>0</td>\n",
              "      <td>1</td>\n",
              "      <td>0</td>\n",
              "      <td>1</td>\n",
              "      <td>0</td>\n",
              "      <td>0</td>\n",
              "      <td>0</td>\n",
              "      <td>0</td>\n",
              "      <td>0</td>\n",
              "      <td>1</td>\n",
              "      <td>1</td>\n",
              "      <td>0</td>\n",
              "      <td>0</td>\n",
              "      <td>0</td>\n",
              "      <td>0</td>\n",
              "      <td>0</td>\n",
              "      <td>0</td>\n",
              "      <td>1</td>\n",
              "      <td>0</td>\n",
              "      <td>1</td>\n",
              "      <td>1</td>\n",
              "      <td>0</td>\n",
              "      <td>0</td>\n",
              "      <td>1</td>\n",
              "      <td>1</td>\n",
              "      <td>1</td>\n",
              "    </tr>\n",
              "    <tr>\n",
              "      <th>...</th>\n",
              "      <td>...</td>\n",
              "      <td>...</td>\n",
              "      <td>...</td>\n",
              "      <td>...</td>\n",
              "      <td>...</td>\n",
              "      <td>...</td>\n",
              "      <td>...</td>\n",
              "      <td>...</td>\n",
              "      <td>...</td>\n",
              "      <td>...</td>\n",
              "      <td>...</td>\n",
              "      <td>...</td>\n",
              "      <td>...</td>\n",
              "      <td>...</td>\n",
              "      <td>...</td>\n",
              "      <td>...</td>\n",
              "      <td>...</td>\n",
              "      <td>...</td>\n",
              "      <td>...</td>\n",
              "      <td>...</td>\n",
              "      <td>...</td>\n",
              "      <td>...</td>\n",
              "      <td>...</td>\n",
              "      <td>...</td>\n",
              "      <td>...</td>\n",
              "      <td>...</td>\n",
              "      <td>...</td>\n",
              "      <td>...</td>\n",
              "      <td>...</td>\n",
              "      <td>...</td>\n",
              "      <td>...</td>\n",
              "      <td>...</td>\n",
              "      <td>...</td>\n",
              "      <td>...</td>\n",
              "      <td>...</td>\n",
              "    </tr>\n",
              "    <tr>\n",
              "      <th>1455</th>\n",
              "      <td>12.072541</td>\n",
              "      <td>175000</td>\n",
              "      <td>0</td>\n",
              "      <td>0</td>\n",
              "      <td>0</td>\n",
              "      <td>1</td>\n",
              "      <td>0</td>\n",
              "      <td>0</td>\n",
              "      <td>0</td>\n",
              "      <td>0</td>\n",
              "      <td>1</td>\n",
              "      <td>0</td>\n",
              "      <td>0</td>\n",
              "      <td>1</td>\n",
              "      <td>0</td>\n",
              "      <td>0</td>\n",
              "      <td>0</td>\n",
              "      <td>0</td>\n",
              "      <td>1</td>\n",
              "      <td>1</td>\n",
              "      <td>0</td>\n",
              "      <td>0</td>\n",
              "      <td>0</td>\n",
              "      <td>0</td>\n",
              "      <td>0</td>\n",
              "      <td>0</td>\n",
              "      <td>1</td>\n",
              "      <td>0</td>\n",
              "      <td>1</td>\n",
              "      <td>1</td>\n",
              "      <td>0</td>\n",
              "      <td>0</td>\n",
              "      <td>0</td>\n",
              "      <td>1</td>\n",
              "      <td>1</td>\n",
              "    </tr>\n",
              "    <tr>\n",
              "      <th>1456</th>\n",
              "      <td>12.254863</td>\n",
              "      <td>210000</td>\n",
              "      <td>0</td>\n",
              "      <td>0</td>\n",
              "      <td>0</td>\n",
              "      <td>1</td>\n",
              "      <td>0</td>\n",
              "      <td>0</td>\n",
              "      <td>0</td>\n",
              "      <td>1</td>\n",
              "      <td>1</td>\n",
              "      <td>0</td>\n",
              "      <td>0</td>\n",
              "      <td>1</td>\n",
              "      <td>0</td>\n",
              "      <td>0</td>\n",
              "      <td>0</td>\n",
              "      <td>0</td>\n",
              "      <td>1</td>\n",
              "      <td>1</td>\n",
              "      <td>0</td>\n",
              "      <td>0</td>\n",
              "      <td>0</td>\n",
              "      <td>0</td>\n",
              "      <td>0</td>\n",
              "      <td>0</td>\n",
              "      <td>0</td>\n",
              "      <td>1</td>\n",
              "      <td>1</td>\n",
              "      <td>1</td>\n",
              "      <td>0</td>\n",
              "      <td>0</td>\n",
              "      <td>0</td>\n",
              "      <td>1</td>\n",
              "      <td>1</td>\n",
              "    </tr>\n",
              "    <tr>\n",
              "      <th>1457</th>\n",
              "      <td>12.493130</td>\n",
              "      <td>266500</td>\n",
              "      <td>1</td>\n",
              "      <td>0</td>\n",
              "      <td>0</td>\n",
              "      <td>0</td>\n",
              "      <td>0</td>\n",
              "      <td>0</td>\n",
              "      <td>0</td>\n",
              "      <td>0</td>\n",
              "      <td>1</td>\n",
              "      <td>0</td>\n",
              "      <td>1</td>\n",
              "      <td>0</td>\n",
              "      <td>0</td>\n",
              "      <td>1</td>\n",
              "      <td>0</td>\n",
              "      <td>0</td>\n",
              "      <td>0</td>\n",
              "      <td>1</td>\n",
              "      <td>0</td>\n",
              "      <td>0</td>\n",
              "      <td>0</td>\n",
              "      <td>0</td>\n",
              "      <td>0</td>\n",
              "      <td>0</td>\n",
              "      <td>1</td>\n",
              "      <td>0</td>\n",
              "      <td>1</td>\n",
              "      <td>1</td>\n",
              "      <td>0</td>\n",
              "      <td>0</td>\n",
              "      <td>1</td>\n",
              "      <td>1</td>\n",
              "      <td>1</td>\n",
              "    </tr>\n",
              "    <tr>\n",
              "      <th>1458</th>\n",
              "      <td>11.864462</td>\n",
              "      <td>142125</td>\n",
              "      <td>0</td>\n",
              "      <td>0</td>\n",
              "      <td>0</td>\n",
              "      <td>1</td>\n",
              "      <td>0</td>\n",
              "      <td>1</td>\n",
              "      <td>0</td>\n",
              "      <td>0</td>\n",
              "      <td>1</td>\n",
              "      <td>0</td>\n",
              "      <td>1</td>\n",
              "      <td>0</td>\n",
              "      <td>0</td>\n",
              "      <td>0</td>\n",
              "      <td>1</td>\n",
              "      <td>0</td>\n",
              "      <td>0</td>\n",
              "      <td>1</td>\n",
              "      <td>0</td>\n",
              "      <td>0</td>\n",
              "      <td>0</td>\n",
              "      <td>0</td>\n",
              "      <td>0</td>\n",
              "      <td>0</td>\n",
              "      <td>0</td>\n",
              "      <td>1</td>\n",
              "      <td>1</td>\n",
              "      <td>0</td>\n",
              "      <td>0</td>\n",
              "      <td>0</td>\n",
              "      <td>1</td>\n",
              "      <td>1</td>\n",
              "      <td>1</td>\n",
              "    </tr>\n",
              "    <tr>\n",
              "      <th>1459</th>\n",
              "      <td>11.901583</td>\n",
              "      <td>147500</td>\n",
              "      <td>0</td>\n",
              "      <td>0</td>\n",
              "      <td>0</td>\n",
              "      <td>1</td>\n",
              "      <td>0</td>\n",
              "      <td>1</td>\n",
              "      <td>0</td>\n",
              "      <td>0</td>\n",
              "      <td>1</td>\n",
              "      <td>0</td>\n",
              "      <td>0</td>\n",
              "      <td>1</td>\n",
              "      <td>0</td>\n",
              "      <td>0</td>\n",
              "      <td>1</td>\n",
              "      <td>0</td>\n",
              "      <td>0</td>\n",
              "      <td>1</td>\n",
              "      <td>0</td>\n",
              "      <td>0</td>\n",
              "      <td>0</td>\n",
              "      <td>0</td>\n",
              "      <td>0</td>\n",
              "      <td>0</td>\n",
              "      <td>0</td>\n",
              "      <td>0</td>\n",
              "      <td>1</td>\n",
              "      <td>1</td>\n",
              "      <td>0</td>\n",
              "      <td>0</td>\n",
              "      <td>0</td>\n",
              "      <td>1</td>\n",
              "      <td>1</td>\n",
              "    </tr>\n",
              "  </tbody>\n",
              "</table>\n",
              "<p>1460 rows × 35 columns</p>\n",
              "</div>"
            ],
            "text/plain": [
              "      SalePrice_log  SalePrice  BsmtCond_Gd  ...  HasGLQ_1  HasPavedDrive_1  HasTA_1\n",
              "0         12.247694     208500            0  ...         1                1        1\n",
              "1         12.109011     181500            0  ...         0                1        1\n",
              "2         12.317167     223500            0  ...         1                1        1\n",
              "3         11.849398     140000            1  ...         0                1        1\n",
              "4         12.429216     250000            0  ...         1                1        1\n",
              "...             ...        ...          ...  ...       ...              ...      ...\n",
              "1455      12.072541     175000            0  ...         0                1        1\n",
              "1456      12.254863     210000            0  ...         0                1        1\n",
              "1457      12.493130     266500            1  ...         1                1        1\n",
              "1458      11.864462     142125            0  ...         1                1        1\n",
              "1459      11.901583     147500            0  ...         0                1        1\n",
              "\n",
              "[1460 rows x 35 columns]"
            ]
          },
          "metadata": {
            "tags": []
          },
          "execution_count": 199
        }
      ]
    },
    {
      "cell_type": "code",
      "metadata": {
        "colab_type": "code",
        "outputId": "288c1aa1-637f-414c-abe4-755571d057ef",
        "id": "9qX8-kH9ldWw",
        "colab": {
          "base_uri": "https://localhost:8080/",
          "height": 35
        }
      },
      "source": [
        "train_data_cat_var_final.shape"
      ],
      "execution_count": 0,
      "outputs": [
        {
          "output_type": "execute_result",
          "data": {
            "text/plain": [
              "(1460, 35)"
            ]
          },
          "metadata": {
            "tags": []
          },
          "execution_count": 200
        }
      ]
    },
    {
      "cell_type": "code",
      "metadata": {
        "id": "6r77ckp50gOD",
        "colab_type": "code",
        "colab": {}
      },
      "source": [
        "train_data_cat_var_final.to_csv('train1.csv')"
      ],
      "execution_count": 0,
      "outputs": []
    },
    {
      "cell_type": "code",
      "metadata": {
        "id": "9rQzJ3ir3qsz",
        "colab_type": "code",
        "colab": {}
      },
      "source": [
        ""
      ],
      "execution_count": 0,
      "outputs": []
    },
    {
      "cell_type": "markdown",
      "metadata": {
        "colab_type": "text",
        "id": "2brQpHx5Isl0"
      },
      "source": [
        "### Categorical transform_test_ Feature Engineering (train_all)\n"
      ]
    },
    {
      "cell_type": "code",
      "metadata": {
        "colab_type": "code",
        "id": "_LFjePgJIsl0",
        "colab": {}
      },
      "source": [
        "# examine the possible variables that are throw away \n",
        "cat_only_drop=['Fence', 'MiscFeature', 'SaleType']\n",
        "cat_only= ['Heating', 'CentralAir', 'Electrical', 'GarageType', 'PavedDrive', 'SaleType', 'SaleCondition']\n",
        "test_data_cat_var_final = test_data_cat_var.drop(cat_only_drop, axis=1)"
      ],
      "execution_count": 0,
      "outputs": []
    },
    {
      "cell_type": "code",
      "metadata": {
        "id": "YIjjghr4kGJB",
        "colab_type": "code",
        "colab": {}
      },
      "source": [
        "#ordinal_drop=['BsmtFinType2','Functional', 'PoolQC', 'GarageCond', 'SaleCondition']\n",
        "test_data_cat_var_final = test_data_cat_var_final.drop(ordinal_drop, axis=1)"
      ],
      "execution_count": 0,
      "outputs": []
    },
    {
      "cell_type": "code",
      "metadata": {
        "id": "ett2T4lxlXOc",
        "colab_type": "code",
        "outputId": "02611bbc-891c-405a-b583-8e4d03766e18",
        "colab": {
          "base_uri": "https://localhost:8080/",
          "height": 260
        }
      },
      "source": [
        "list(test_data_cat_var_final.columns)"
      ],
      "execution_count": 0,
      "outputs": [
        {
          "output_type": "execute_result",
          "data": {
            "text/plain": [
              "['BsmtQual',\n",
              " 'BsmtCond',\n",
              " 'BsmtExposure',\n",
              " 'BsmtFinType1',\n",
              " 'Heating',\n",
              " 'HeatingQC',\n",
              " 'CentralAir',\n",
              " 'Electrical',\n",
              " 'KitchenQual',\n",
              " 'FireplaceQu',\n",
              " 'GarageType',\n",
              " 'GarageFinish',\n",
              " 'GarageQual',\n",
              " 'PavedDrive']"
            ]
          },
          "metadata": {
            "tags": []
          },
          "execution_count": 162
        }
      ]
    },
    {
      "cell_type": "code",
      "metadata": {
        "id": "E3jULXFMvY4F",
        "colab_type": "code",
        "colab": {}
      },
      "source": [
        "test_data_cat_var_final['HasGasHeating'] = pd.Series(len(test_data_cat_var_final['Heating']), index=test_data_cat_var_final.index)\n",
        "test_data_cat_var_final['HasGasHeating'] = 0 \n",
        "test_data_cat_var_final.loc[test_data_cat_var_final['Heating']== 'GasA','HasGasHeating'] = 1\n",
        "test_data_cat_var_final.loc[test_data_cat_var_final['Heating']== 'GasW','HasGasHeating'] = 1"
      ],
      "execution_count": 0,
      "outputs": []
    },
    {
      "cell_type": "code",
      "metadata": {
        "id": "cf_4nOG5xzn2",
        "colab_type": "code",
        "colab": {}
      },
      "source": [
        "test_data_cat_var_final['HasSBrkr'] = pd.Series(len(test_data_cat_var_final['Electrical']), index=test_data_cat_var_final.index)\n",
        "test_data_cat_var_final['HasSBrkr'] = 0 \n",
        "test_data_cat_var_final.loc[test_data_cat_var_final['Electrical']== 'SBrkr','HasSBrkr'] = 1"
      ],
      "execution_count": 0,
      "outputs": []
    },
    {
      "cell_type": "code",
      "metadata": {
        "id": "DnJoNDCC3qkz",
        "colab_type": "code",
        "colab": {}
      },
      "source": [
        "test_data_cat_var_final['HasEx'] = pd.Series(len(test_data_cat_var_final['BsmtQual']), index=test_data_cat_var_final.index)\n",
        "test_data_cat_var_final['HasEx'] = 0 \n",
        "test_data_cat_var_final.loc[test_data_cat_var_final['BsmtQual']== 'Ex','HasEx'] = 1"
      ],
      "execution_count": 0,
      "outputs": []
    },
    {
      "cell_type": "code",
      "metadata": {
        "id": "X7BMZtM24h0B",
        "colab_type": "code",
        "colab": {}
      },
      "source": [
        "test_data_cat_var_final['HasGd'] = pd.Series(len(test_data_cat_var_final['BsmtExposure']), index=test_data_cat_var_final.index)\n",
        "test_data_cat_var_final['HasGd'] = 0 \n",
        "test_data_cat_var_final.loc[test_data_cat_var_final['BsmtExposure']== 'Gd','HasGd'] = 1"
      ],
      "execution_count": 0,
      "outputs": []
    },
    {
      "cell_type": "code",
      "metadata": {
        "id": "uMtgoRzl6BEN",
        "colab_type": "code",
        "colab": {}
      },
      "source": [
        "test_data_cat_var_final['HasGLQ'] = pd.Series(len(test_data_cat_var_final['BsmtFinType1']), index=test_data_cat_var_final.index)\n",
        "test_data_cat_var_final['HasGLQ'] = 0 \n",
        "test_data_cat_var_final.loc[test_data_cat_var_final['BsmtFinType1']== 'GLQ','HasGLQ'] = 1"
      ],
      "execution_count": 0,
      "outputs": []
    },
    {
      "cell_type": "code",
      "metadata": {
        "id": "74L26rwr6-DD",
        "colab_type": "code",
        "colab": {}
      },
      "source": [
        "test_data_cat_var_final['HasPavedDrive'] = pd.Series(len(test_data_cat_var_final['PavedDrive']), index=test_data_cat_var_final.index)\n",
        "test_data_cat_var_final['HasPavedDrive'] = 0 \n",
        "test_data_cat_var_final.loc[test_data_cat_var_final['PavedDrive']== 'Y','HasPavedDrive'] = 1"
      ],
      "execution_count": 0,
      "outputs": []
    },
    {
      "cell_type": "code",
      "metadata": {
        "id": "hfCujV4AuX62",
        "colab_type": "code",
        "colab": {}
      },
      "source": [
        "test_data_cat_var_final['HasTA'] = pd.Series(len(test_data_cat_var_final['GarageQual']), index=test_data_cat_var_final.index)\n",
        "test_data_cat_var_final['HasTA'] = 0 \n",
        "test_data_cat_var_final.loc[test_data_cat_var_final['GarageQual']== 'TA','HasTA'] = 1"
      ],
      "execution_count": 0,
      "outputs": []
    },
    {
      "cell_type": "code",
      "metadata": {
        "id": "9u0y4OiXFHj_",
        "colab_type": "code",
        "outputId": "65ce1f53-e101-4cbc-cd40-bd18d6ef6754",
        "colab": {
          "base_uri": "https://localhost:8080/",
          "height": 375
        }
      },
      "source": [
        "test_data_cat_var_final.sample(10)  "
      ],
      "execution_count": 0,
      "outputs": [
        {
          "output_type": "execute_result",
          "data": {
            "text/html": [
              "<div>\n",
              "<style scoped>\n",
              "    .dataframe tbody tr th:only-of-type {\n",
              "        vertical-align: middle;\n",
              "    }\n",
              "\n",
              "    .dataframe tbody tr th {\n",
              "        vertical-align: top;\n",
              "    }\n",
              "\n",
              "    .dataframe thead th {\n",
              "        text-align: right;\n",
              "    }\n",
              "</style>\n",
              "<table border=\"1\" class=\"dataframe\">\n",
              "  <thead>\n",
              "    <tr style=\"text-align: right;\">\n",
              "      <th></th>\n",
              "      <th>BsmtQual</th>\n",
              "      <th>BsmtCond</th>\n",
              "      <th>BsmtExposure</th>\n",
              "      <th>BsmtFinType1</th>\n",
              "      <th>Heating</th>\n",
              "      <th>HeatingQC</th>\n",
              "      <th>CentralAir</th>\n",
              "      <th>Electrical</th>\n",
              "      <th>KitchenQual</th>\n",
              "      <th>FireplaceQu</th>\n",
              "      <th>GarageType</th>\n",
              "      <th>GarageFinish</th>\n",
              "      <th>GarageQual</th>\n",
              "      <th>PavedDrive</th>\n",
              "      <th>HasGasHeating</th>\n",
              "      <th>HasSBrkr</th>\n",
              "      <th>HasEx</th>\n",
              "      <th>HasGd</th>\n",
              "      <th>HasGLQ</th>\n",
              "      <th>HasPavedDrive</th>\n",
              "      <th>HasTA</th>\n",
              "    </tr>\n",
              "  </thead>\n",
              "  <tbody>\n",
              "    <tr>\n",
              "      <th>1244</th>\n",
              "      <td>TA</td>\n",
              "      <td>TA</td>\n",
              "      <td>No</td>\n",
              "      <td>Rec</td>\n",
              "      <td>GasA</td>\n",
              "      <td>TA</td>\n",
              "      <td>Y</td>\n",
              "      <td>SBrkr</td>\n",
              "      <td>TA</td>\n",
              "      <td>None</td>\n",
              "      <td>Attchd</td>\n",
              "      <td>Unf</td>\n",
              "      <td>TA</td>\n",
              "      <td>Y</td>\n",
              "      <td>1</td>\n",
              "      <td>1</td>\n",
              "      <td>0</td>\n",
              "      <td>0</td>\n",
              "      <td>0</td>\n",
              "      <td>1</td>\n",
              "      <td>1</td>\n",
              "    </tr>\n",
              "    <tr>\n",
              "      <th>1410</th>\n",
              "      <td>TA</td>\n",
              "      <td>TA</td>\n",
              "      <td>No</td>\n",
              "      <td>Unf</td>\n",
              "      <td>GasA</td>\n",
              "      <td>TA</td>\n",
              "      <td>N</td>\n",
              "      <td>SBrkr</td>\n",
              "      <td>TA</td>\n",
              "      <td>Gd</td>\n",
              "      <td>None</td>\n",
              "      <td>None</td>\n",
              "      <td>None</td>\n",
              "      <td>N</td>\n",
              "      <td>1</td>\n",
              "      <td>1</td>\n",
              "      <td>0</td>\n",
              "      <td>0</td>\n",
              "      <td>0</td>\n",
              "      <td>0</td>\n",
              "      <td>0</td>\n",
              "    </tr>\n",
              "    <tr>\n",
              "      <th>1028</th>\n",
              "      <td>TA</td>\n",
              "      <td>TA</td>\n",
              "      <td>No</td>\n",
              "      <td>Rec</td>\n",
              "      <td>GasA</td>\n",
              "      <td>TA</td>\n",
              "      <td>Y</td>\n",
              "      <td>SBrkr</td>\n",
              "      <td>Gd</td>\n",
              "      <td>TA</td>\n",
              "      <td>Attchd</td>\n",
              "      <td>Unf</td>\n",
              "      <td>TA</td>\n",
              "      <td>Y</td>\n",
              "      <td>1</td>\n",
              "      <td>1</td>\n",
              "      <td>0</td>\n",
              "      <td>0</td>\n",
              "      <td>0</td>\n",
              "      <td>1</td>\n",
              "      <td>1</td>\n",
              "    </tr>\n",
              "    <tr>\n",
              "      <th>946</th>\n",
              "      <td>TA</td>\n",
              "      <td>TA</td>\n",
              "      <td>No</td>\n",
              "      <td>GLQ</td>\n",
              "      <td>GasA</td>\n",
              "      <td>Ex</td>\n",
              "      <td>Y</td>\n",
              "      <td>SBrkr</td>\n",
              "      <td>Fa</td>\n",
              "      <td>None</td>\n",
              "      <td>Detchd</td>\n",
              "      <td>Unf</td>\n",
              "      <td>TA</td>\n",
              "      <td>Y</td>\n",
              "      <td>1</td>\n",
              "      <td>1</td>\n",
              "      <td>0</td>\n",
              "      <td>0</td>\n",
              "      <td>1</td>\n",
              "      <td>1</td>\n",
              "      <td>1</td>\n",
              "    </tr>\n",
              "    <tr>\n",
              "      <th>1317</th>\n",
              "      <td>TA</td>\n",
              "      <td>TA</td>\n",
              "      <td>No</td>\n",
              "      <td>Unf</td>\n",
              "      <td>GasA</td>\n",
              "      <td>TA</td>\n",
              "      <td>N</td>\n",
              "      <td>SBrkr</td>\n",
              "      <td>Gd</td>\n",
              "      <td>Po</td>\n",
              "      <td>Detchd</td>\n",
              "      <td>Unf</td>\n",
              "      <td>Fa</td>\n",
              "      <td>N</td>\n",
              "      <td>1</td>\n",
              "      <td>1</td>\n",
              "      <td>0</td>\n",
              "      <td>0</td>\n",
              "      <td>0</td>\n",
              "      <td>0</td>\n",
              "      <td>0</td>\n",
              "    </tr>\n",
              "    <tr>\n",
              "      <th>394</th>\n",
              "      <td>Gd</td>\n",
              "      <td>TA</td>\n",
              "      <td>Av</td>\n",
              "      <td>Rec</td>\n",
              "      <td>GasA</td>\n",
              "      <td>Gd</td>\n",
              "      <td>Y</td>\n",
              "      <td>SBrkr</td>\n",
              "      <td>Gd</td>\n",
              "      <td>Po</td>\n",
              "      <td>Attchd</td>\n",
              "      <td>Unf</td>\n",
              "      <td>TA</td>\n",
              "      <td>Y</td>\n",
              "      <td>1</td>\n",
              "      <td>1</td>\n",
              "      <td>0</td>\n",
              "      <td>0</td>\n",
              "      <td>0</td>\n",
              "      <td>1</td>\n",
              "      <td>1</td>\n",
              "    </tr>\n",
              "    <tr>\n",
              "      <th>98</th>\n",
              "      <td>TA</td>\n",
              "      <td>TA</td>\n",
              "      <td>No</td>\n",
              "      <td>Rec</td>\n",
              "      <td>GasW</td>\n",
              "      <td>TA</td>\n",
              "      <td>N</td>\n",
              "      <td>SBrkr</td>\n",
              "      <td>TA</td>\n",
              "      <td>None</td>\n",
              "      <td>None</td>\n",
              "      <td>None</td>\n",
              "      <td>None</td>\n",
              "      <td>N</td>\n",
              "      <td>1</td>\n",
              "      <td>1</td>\n",
              "      <td>0</td>\n",
              "      <td>0</td>\n",
              "      <td>0</td>\n",
              "      <td>0</td>\n",
              "      <td>0</td>\n",
              "    </tr>\n",
              "    <tr>\n",
              "      <th>643</th>\n",
              "      <td>TA</td>\n",
              "      <td>TA</td>\n",
              "      <td>No</td>\n",
              "      <td>Rec</td>\n",
              "      <td>GasA</td>\n",
              "      <td>TA</td>\n",
              "      <td>Y</td>\n",
              "      <td>FuseP</td>\n",
              "      <td>TA</td>\n",
              "      <td>None</td>\n",
              "      <td>2Types</td>\n",
              "      <td>Unf</td>\n",
              "      <td>TA</td>\n",
              "      <td>Y</td>\n",
              "      <td>1</td>\n",
              "      <td>0</td>\n",
              "      <td>0</td>\n",
              "      <td>0</td>\n",
              "      <td>0</td>\n",
              "      <td>1</td>\n",
              "      <td>1</td>\n",
              "    </tr>\n",
              "    <tr>\n",
              "      <th>90</th>\n",
              "      <td>Fa</td>\n",
              "      <td>Fa</td>\n",
              "      <td>No</td>\n",
              "      <td>ALQ</td>\n",
              "      <td>GasA</td>\n",
              "      <td>TA</td>\n",
              "      <td>Y</td>\n",
              "      <td>SBrkr</td>\n",
              "      <td>TA</td>\n",
              "      <td>Gd</td>\n",
              "      <td>Detchd</td>\n",
              "      <td>Unf</td>\n",
              "      <td>TA</td>\n",
              "      <td>Y</td>\n",
              "      <td>1</td>\n",
              "      <td>1</td>\n",
              "      <td>0</td>\n",
              "      <td>0</td>\n",
              "      <td>0</td>\n",
              "      <td>1</td>\n",
              "      <td>1</td>\n",
              "    </tr>\n",
              "    <tr>\n",
              "      <th>1183</th>\n",
              "      <td>TA</td>\n",
              "      <td>TA</td>\n",
              "      <td>No</td>\n",
              "      <td>LwQ</td>\n",
              "      <td>GasA</td>\n",
              "      <td>Gd</td>\n",
              "      <td>Y</td>\n",
              "      <td>SBrkr</td>\n",
              "      <td>Gd</td>\n",
              "      <td>Fa</td>\n",
              "      <td>Attchd</td>\n",
              "      <td>Unf</td>\n",
              "      <td>TA</td>\n",
              "      <td>Y</td>\n",
              "      <td>1</td>\n",
              "      <td>1</td>\n",
              "      <td>0</td>\n",
              "      <td>0</td>\n",
              "      <td>0</td>\n",
              "      <td>1</td>\n",
              "      <td>1</td>\n",
              "    </tr>\n",
              "  </tbody>\n",
              "</table>\n",
              "</div>"
            ],
            "text/plain": [
              "     BsmtQual BsmtCond BsmtExposure  ... HasGLQ HasPavedDrive HasTA\n",
              "1244       TA       TA           No  ...      0             1     1\n",
              "1410       TA       TA           No  ...      0             0     0\n",
              "1028       TA       TA           No  ...      0             1     1\n",
              "946        TA       TA           No  ...      1             1     1\n",
              "1317       TA       TA           No  ...      0             0     0\n",
              "394        Gd       TA           Av  ...      0             1     1\n",
              "98         TA       TA           No  ...      0             0     0\n",
              "643        TA       TA           No  ...      0             1     1\n",
              "90         Fa       Fa           No  ...      0             1     1\n",
              "1183       TA       TA           No  ...      0             1     1\n",
              "\n",
              "[10 rows x 21 columns]"
            ]
          },
          "metadata": {
            "tags": []
          },
          "execution_count": 170
        }
      ]
    },
    {
      "cell_type": "code",
      "metadata": {
        "id": "vTx5VfRb8m8u",
        "colab_type": "code",
        "colab": {}
      },
      "source": [
        "eng_drop=['Heating','Electrical', 'BsmtQual', 'BsmtExposure', 'BsmtFinType1', 'PavedDrive', 'GarageQual']\n",
        "test_data_cat_var_final = test_data_cat_var_final.drop(eng_drop, axis=1)"
      ],
      "execution_count": 0,
      "outputs": []
    },
    {
      "cell_type": "code",
      "metadata": {
        "id": "q9elMkVa_i3l",
        "colab_type": "code",
        "colab": {}
      },
      "source": [
        "def Diff(li1, li2): \n",
        "    li_dif = [i for i in li1 + li2 if i not in li1 or i not in li2] \n",
        "    return li_dif "
      ],
      "execution_count": 0,
      "outputs": []
    },
    {
      "cell_type": "code",
      "metadata": {
        "id": "GXi0qg_iWzB9",
        "colab_type": "code",
        "colab": {}
      },
      "source": [
        "cols= Diff(list(test_data_cat_var_final.columns),['HasGasHeating', 'HasSBrkr', 'HasEx', 'HasGd', 'HasGLQ',\n",
        "       'HasPavedDrive', 'HasTA'])\n",
        "print(cols)"
      ],
      "execution_count": 0,
      "outputs": []
    },
    {
      "cell_type": "code",
      "metadata": {
        "id": "TyMhA4PKkr0J",
        "colab_type": "code",
        "colab": {}
      },
      "source": [
        "test_data_cat_var_final= pd.get_dummies(test_data_cat_var_final, prefix=cols, columns=cols, drop_first=True)"
      ],
      "execution_count": 0,
      "outputs": []
    },
    {
      "cell_type": "code",
      "metadata": {
        "id": "40pJonqDqUcy",
        "colab_type": "code",
        "colab": {
          "base_uri": "https://localhost:8080/",
          "height": 104
        },
        "outputId": "ae9178dc-528f-419a-b1fc-149d3e01c56b"
      },
      "source": [
        "test_data_cat_var_final.columns"
      ],
      "execution_count": 164,
      "outputs": [
        {
          "output_type": "execute_result",
          "data": {
            "text/plain": [
              "Index(['BsmtQual', 'BsmtCond', 'BsmtExposure', 'BsmtFinType1', 'BsmtFinType2',\n",
              "       'Heating', 'HeatingQC', 'CentralAir', 'Electrical', 'KitchenQual',\n",
              "       'Functional', 'FireplaceQu', 'GarageType', 'GarageFinish', 'GarageQual',\n",
              "       'GarageCond', 'PavedDrive', 'Fence', 'SaleType', 'SaleCondition'],\n",
              "      dtype='object')"
            ]
          },
          "metadata": {
            "tags": []
          },
          "execution_count": 164
        }
      ]
    },
    {
      "cell_type": "code",
      "metadata": {
        "id": "DrTX0mW3YwT2",
        "colab_type": "code",
        "outputId": "23829c19-ac61-46ab-d817-04b9c980b2ac",
        "colab": {
          "base_uri": "https://localhost:8080/",
          "height": 139
        }
      },
      "source": [
        "for col in cols: \n",
        "  if len(list(train_data_cat_var[col].value_counts().index))==len(list(test_data_cat_var[col].value_counts().index)):\n",
        "    print ('same')\n",
        "  else:\n",
        "    print(col)"
      ],
      "execution_count": 0,
      "outputs": [
        {
          "output_type": "stream",
          "text": [
            "same\n",
            "same\n",
            "same\n",
            "same\n",
            "same\n",
            "same\n",
            "same\n"
          ],
          "name": "stdout"
        }
      ]
    },
    {
      "cell_type": "code",
      "metadata": {
        "id": "TQJsd4U34KEk",
        "colab_type": "code",
        "outputId": "e070d917-9896-47a7-9068-6a3f2a9f3027",
        "colab": {
          "base_uri": "https://localhost:8080/",
          "height": 121
        }
      },
      "source": [
        "test_data_cat_var['GarageQual'].value_counts()"
      ],
      "execution_count": 0,
      "outputs": [
        {
          "output_type": "execute_result",
          "data": {
            "text/plain": [
              "TA      1293\n",
              "None      78\n",
              "Fa        76\n",
              "Gd        10\n",
              "Po         2\n",
              "Name: GarageQual, dtype: int64"
            ]
          },
          "metadata": {
            "tags": []
          },
          "execution_count": 203
        }
      ]
    },
    {
      "cell_type": "code",
      "metadata": {
        "id": "iu9fDmZzGaMw",
        "colab_type": "code",
        "outputId": "18148822-6d60-4a85-e47a-d3206dff801a",
        "colab": {
          "base_uri": "https://localhost:8080/",
          "height": 35
        }
      },
      "source": [
        "test_data_cat_var_final.shape"
      ],
      "execution_count": 0,
      "outputs": [
        {
          "output_type": "execute_result",
          "data": {
            "text/plain": [
              "(1459, 33)"
            ]
          },
          "metadata": {
            "tags": []
          },
          "execution_count": 176
        }
      ]
    },
    {
      "cell_type": "code",
      "metadata": {
        "colab_type": "code",
        "outputId": "dc6960eb-3131-4dde-b7c0-49956c01f887",
        "id": "KNg8Hw5TQNs4",
        "colab": {
          "base_uri": "https://localhost:8080/",
          "height": 589
        }
      },
      "source": [
        "list(test_data_cat_var_final.columns)"
      ],
      "execution_count": 0,
      "outputs": [
        {
          "output_type": "execute_result",
          "data": {
            "text/plain": [
              "['HasGasHeating',\n",
              " 'HasSBrkr',\n",
              " 'HasEx',\n",
              " 'HasGd',\n",
              " 'HasGLQ',\n",
              " 'HasPavedDrive',\n",
              " 'HasTA',\n",
              " 'BsmtCond_Gd',\n",
              " 'BsmtCond_None',\n",
              " 'BsmtCond_Po',\n",
              " 'BsmtCond_TA',\n",
              " 'HeatingQC_Fa',\n",
              " 'HeatingQC_Gd',\n",
              " 'HeatingQC_Po',\n",
              " 'HeatingQC_TA',\n",
              " 'CentralAir_Y',\n",
              " 'KitchenQual_Fa',\n",
              " 'KitchenQual_Gd',\n",
              " 'KitchenQual_TA',\n",
              " 'FireplaceQu_Fa',\n",
              " 'FireplaceQu_Gd',\n",
              " 'FireplaceQu_None',\n",
              " 'FireplaceQu_Po',\n",
              " 'FireplaceQu_TA',\n",
              " 'GarageType_Attchd',\n",
              " 'GarageType_Basment',\n",
              " 'GarageType_BuiltIn',\n",
              " 'GarageType_CarPort',\n",
              " 'GarageType_Detchd',\n",
              " 'GarageType_None',\n",
              " 'GarageFinish_None',\n",
              " 'GarageFinish_RFn',\n",
              " 'GarageFinish_Unf']"
            ]
          },
          "metadata": {
            "tags": []
          },
          "execution_count": 177
        }
      ]
    },
    {
      "cell_type": "code",
      "metadata": {
        "id": "whAfSrMQaSc6",
        "colab_type": "code",
        "colab": {}
      },
      "source": [
        "test_data_cat_var_final.to_csv('test1.csv')"
      ],
      "execution_count": 0,
      "outputs": []
    }
  ]
}