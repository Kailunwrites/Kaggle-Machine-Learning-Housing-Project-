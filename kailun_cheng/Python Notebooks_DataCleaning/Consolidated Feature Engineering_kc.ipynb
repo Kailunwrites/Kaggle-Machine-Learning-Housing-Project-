{
 "cells": [
  {
   "cell_type": "markdown",
   "metadata": {},
   "source": [
    "## Import Data"
   ]
  },
  {
   "cell_type": "code",
   "execution_count": 1,
   "metadata": {},
   "outputs": [],
   "source": [
    "# Setup Packages\n",
    "import numpy as np\n",
    "import pandas as pd\n",
    "import math\n",
    "import matplotlib.pyplot as plt\n",
    "\n",
    "%matplotlib inline\n",
    "\n",
    "# Display all rows and columns\n",
    "pd.set_option('display.max_columns', None)\n",
    "pd.set_option('display.max_rows', None)"
   ]
  },
  {
   "cell_type": "code",
   "execution_count": 32,
   "metadata": {},
   "outputs": [
    {
     "data": {
      "application/javascript": [
       "\n",
       "            setTimeout(function() {\n",
       "                var nbb_cell_id = 32;\n",
       "                var nbb_unformatted_code = \"house_data = pd.read_csv(\\\"train.csv\\\")\\n# house_data = pd.read_csv(\\\"test.csv\\\")\\n\\nremove_outlier = 1  # change to 0 for test data\";\n",
       "                var nbb_formatted_code = \"house_data = pd.read_csv(\\\"train.csv\\\")\\n# house_data = pd.read_csv(\\\"test.csv\\\")\\n\\nremove_outlier = 1  # change to 0 for test data\";\n",
       "                var nbb_cells = Jupyter.notebook.get_cells();\n",
       "                for (var i = 0; i < nbb_cells.length; ++i) {\n",
       "                    if (nbb_cells[i].input_prompt_number == nbb_cell_id) {\n",
       "                        if (nbb_cells[i].get_text() == nbb_unformatted_code) {\n",
       "                             nbb_cells[i].set_text(nbb_formatted_code);\n",
       "                        }\n",
       "                        break;\n",
       "                    }\n",
       "                }\n",
       "            }, 500);\n",
       "            "
      ],
      "text/plain": [
       "<IPython.core.display.Javascript object>"
      ]
     },
     "metadata": {},
     "output_type": "display_data"
    }
   ],
   "source": [
    "house_data = pd.read_csv('train.csv')\n",
    "# house_data = pd.read_csv('test.csv')\n",
    "\n",
    "remove_outlier = 1  # change to 0 for test data"
   ]
  },
  {
   "cell_type": "markdown",
   "metadata": {},
   "source": [
    "## Data Manipulation"
   ]
  },
  {
   "cell_type": "markdown",
   "metadata": {},
   "source": [
    "### Response Variable - Log Transform\n",
    "- Transformation validated in DataExploration Notebook"
   ]
  },
  {
   "cell_type": "code",
   "execution_count": 33,
   "metadata": {},
   "outputs": [
    {
     "data": {
      "application/javascript": [
       "\n",
       "            setTimeout(function() {\n",
       "                var nbb_cell_id = 33;\n",
       "                var nbb_unformatted_code = \"house_data[\\\"SalePrice_log\\\"] = np.log(house_data[\\\"SalePrice\\\"])\";\n",
       "                var nbb_formatted_code = \"house_data[\\\"SalePrice_log\\\"] = np.log(house_data[\\\"SalePrice\\\"])\";\n",
       "                var nbb_cells = Jupyter.notebook.get_cells();\n",
       "                for (var i = 0; i < nbb_cells.length; ++i) {\n",
       "                    if (nbb_cells[i].input_prompt_number == nbb_cell_id) {\n",
       "                        if (nbb_cells[i].get_text() == nbb_unformatted_code) {\n",
       "                             nbb_cells[i].set_text(nbb_formatted_code);\n",
       "                        }\n",
       "                        break;\n",
       "                    }\n",
       "                }\n",
       "            }, 500);\n",
       "            "
      ],
      "text/plain": [
       "<IPython.core.display.Javascript object>"
      ]
     },
     "metadata": {},
     "output_type": "display_data"
    }
   ],
   "source": [
    "house_data['SalePrice_log'] = np.log(house_data['SalePrice'])"
   ]
  },
  {
   "cell_type": "markdown",
   "metadata": {},
   "source": [
    "### Impute Continuous Variables\n",
    "- Imputation with mean validated in DataExploration Notebook"
   ]
  },
  {
   "cell_type": "code",
   "execution_count": 35,
   "metadata": {},
   "outputs": [
    {
     "data": {
      "text/plain": [
       "70.04995836802642"
      ]
     },
     "execution_count": 35,
     "metadata": {},
     "output_type": "execute_result"
    },
    {
     "data": {
      "application/javascript": [
       "\n",
       "            setTimeout(function() {\n",
       "                var nbb_cell_id = 35;\n",
       "                var nbb_unformatted_code = \"house_data[\\\"LotFrontage\\\"].mean()\";\n",
       "                var nbb_formatted_code = \"house_data[\\\"LotFrontage\\\"].mean()\";\n",
       "                var nbb_cells = Jupyter.notebook.get_cells();\n",
       "                for (var i = 0; i < nbb_cells.length; ++i) {\n",
       "                    if (nbb_cells[i].input_prompt_number == nbb_cell_id) {\n",
       "                        if (nbb_cells[i].get_text() == nbb_unformatted_code) {\n",
       "                             nbb_cells[i].set_text(nbb_formatted_code);\n",
       "                        }\n",
       "                        break;\n",
       "                    }\n",
       "                }\n",
       "            }, 500);\n",
       "            "
      ],
      "text/plain": [
       "<IPython.core.display.Javascript object>"
      ]
     },
     "metadata": {},
     "output_type": "display_data"
    }
   ],
   "source": [
    "house_data[\"LotFrontage\"].mean()"
   ]
  },
  {
   "cell_type": "code",
   "execution_count": 36,
   "metadata": {},
   "outputs": [
    {
     "data": {
      "application/javascript": [
       "\n",
       "            setTimeout(function() {\n",
       "                var nbb_cell_id = 36;\n",
       "                var nbb_unformatted_code = \"# LotFrontage\\navg_LotFrontage = house_data[\\\"LotFrontage\\\"].mean()\\nhouse_data['LotFrontage'].fillna(avg_LotFrontage, inplace=True)\\n\\n# MasVnrArea\\navg_LotFrontage = house_data[\\\"MasVnrArea\\\"].mean()\\nhouse_data['MasVnrArea'].fillna(avg_LotFrontage, inplace=True)\";\n",
       "                var nbb_formatted_code = \"# LotFrontage\\navg_LotFrontage = house_data[\\\"LotFrontage\\\"].mean()\\nhouse_data[\\\"LotFrontage\\\"].fillna(avg_LotFrontage, inplace=True)\\n\\n# MasVnrArea\\navg_LotFrontage = house_data[\\\"MasVnrArea\\\"].mean()\\nhouse_data[\\\"MasVnrArea\\\"].fillna(avg_LotFrontage, inplace=True)\";\n",
       "                var nbb_cells = Jupyter.notebook.get_cells();\n",
       "                for (var i = 0; i < nbb_cells.length; ++i) {\n",
       "                    if (nbb_cells[i].input_prompt_number == nbb_cell_id) {\n",
       "                        if (nbb_cells[i].get_text() == nbb_unformatted_code) {\n",
       "                             nbb_cells[i].set_text(nbb_formatted_code);\n",
       "                        }\n",
       "                        break;\n",
       "                    }\n",
       "                }\n",
       "            }, 500);\n",
       "            "
      ],
      "text/plain": [
       "<IPython.core.display.Javascript object>"
      ]
     },
     "metadata": {},
     "output_type": "display_data"
    }
   ],
   "source": [
    "# LotFrontage\n",
    "avg_LotFrontage = house_data['LotFrontage'].mean()\n",
    "house_data['LotFrontage'].fillna(avg_LotFrontage, inplace=True)\n",
    "\n",
    "# MasVnrArea\n",
    "avg_LotFrontage = house_data['MasVnrArea'].mean()\n",
    "house_data['MasVnrArea'].fillna(avg_LotFrontage, inplace=True)\n"
   ]
  },
  {
   "cell_type": "markdown",
   "metadata": {},
   "source": [
    "### Impute Categorical Variables"
   ]
  },
  {
   "cell_type": "code",
   "execution_count": 5,
   "metadata": {},
   "outputs": [
    {
     "data": {
      "application/javascript": [
       "\n",
       "            setTimeout(function() {\n",
       "                var nbb_cell_id = 5;\n",
       "                var nbb_unformatted_code = \"#Basement Related Variables\\n\\n#Locate NA indices\\nbsmt_null_list=np.array(house_data['BsmtCond'][house_data['BsmtCond'].isnull()].index)\\nbsmt_null_list2=np.array(house_data['BsmtQual'][house_data['BsmtQual'].isnull()].index)\\nbsmt_null_list3=np.array(house_data['BsmtExposure'][house_data['BsmtExposure'].isnull()].index)\\nbsmt_null_list4=np.array(house_data['BsmtFinType1'][house_data['BsmtFinType1'].isnull()].index)\\nbsmt_null_list5=np.array(house_data['BsmtFinType2'][house_data['BsmtFinType2'].isnull()].index)\\n\\n#Impute NA values with 'None'\\nhouse_data['BsmtQual'].fillna(\\\"None\\\", inplace=True)\\nhouse_data['BsmtCond'].fillna(\\\"None\\\", inplace=True)\\nhouse_data['BsmtExposure'].fillna(\\\"None\\\", inplace=True)\\nhouse_data['BsmtFinType1'].fillna(\\\"None\\\", inplace=True)\";\n",
       "                var nbb_formatted_code = \"# Basement Related Variables\\n\\n# Locate NA indices\\nbsmt_null_list = np.array(house_data[\\\"BsmtCond\\\"][house_data[\\\"BsmtCond\\\"].isnull()].index)\\nbsmt_null_list2 = np.array(\\n    house_data[\\\"BsmtQual\\\"][house_data[\\\"BsmtQual\\\"].isnull()].index\\n)\\nbsmt_null_list3 = np.array(\\n    house_data[\\\"BsmtExposure\\\"][house_data[\\\"BsmtExposure\\\"].isnull()].index\\n)\\nbsmt_null_list4 = np.array(\\n    house_data[\\\"BsmtFinType1\\\"][house_data[\\\"BsmtFinType1\\\"].isnull()].index\\n)\\nbsmt_null_list5 = np.array(\\n    house_data[\\\"BsmtFinType2\\\"][house_data[\\\"BsmtFinType2\\\"].isnull()].index\\n)\\n\\n# Impute NA values with 'None'\\nhouse_data[\\\"BsmtQual\\\"].fillna(\\\"None\\\", inplace=True)\\nhouse_data[\\\"BsmtCond\\\"].fillna(\\\"None\\\", inplace=True)\\nhouse_data[\\\"BsmtExposure\\\"].fillna(\\\"None\\\", inplace=True)\\nhouse_data[\\\"BsmtFinType1\\\"].fillna(\\\"None\\\", inplace=True)\";\n",
       "                var nbb_cells = Jupyter.notebook.get_cells();\n",
       "                for (var i = 0; i < nbb_cells.length; ++i) {\n",
       "                    if (nbb_cells[i].input_prompt_number == nbb_cell_id) {\n",
       "                        if (nbb_cells[i].get_text() == nbb_unformatted_code) {\n",
       "                             nbb_cells[i].set_text(nbb_formatted_code);\n",
       "                        }\n",
       "                        break;\n",
       "                    }\n",
       "                }\n",
       "            }, 500);\n",
       "            "
      ],
      "text/plain": [
       "<IPython.core.display.Javascript object>"
      ]
     },
     "metadata": {},
     "output_type": "display_data"
    }
   ],
   "source": [
    "#Impute NA values with 'None'\n",
    "house_data['BsmtQual'].fillna('None', inplace=True)\n",
    "house_data['BsmtCond'].fillna('None', inplace=True)\n",
    "house_data['BsmtExposure'].fillna('None', inplace=True)\n",
    "house_data['BsmtFinType1'].fillna('None', inplace=True)\n",
    "train_data_cat_var.at[948,'BsmtExposure']='No'"
   ]
  },
  {
   "cell_type": "code",
   "execution_count": 6,
   "metadata": {},
   "outputs": [
    {
     "data": {
      "application/javascript": [
       "\n",
       "            setTimeout(function() {\n",
       "                var nbb_cell_id = 6;\n",
       "                var nbb_unformatted_code = \"#Electrical Fill with Mode\\nhouse_data['Electrical'].fillna(house_data['Electrical'].mode()[0], inplace=True)\";\n",
       "                var nbb_formatted_code = \"# Electrical Fill with Mode\\nhouse_data[\\\"Electrical\\\"].fillna(house_data[\\\"Electrical\\\"].mode()[0], inplace=True)\";\n",
       "                var nbb_cells = Jupyter.notebook.get_cells();\n",
       "                for (var i = 0; i < nbb_cells.length; ++i) {\n",
       "                    if (nbb_cells[i].input_prompt_number == nbb_cell_id) {\n",
       "                        if (nbb_cells[i].get_text() == nbb_unformatted_code) {\n",
       "                             nbb_cells[i].set_text(nbb_formatted_code);\n",
       "                        }\n",
       "                        break;\n",
       "                    }\n",
       "                }\n",
       "            }, 500);\n",
       "            "
      ],
      "text/plain": [
       "<IPython.core.display.Javascript object>"
      ]
     },
     "metadata": {},
     "output_type": "display_data"
    }
   ],
   "source": [
    "#Electrical Fill with Mode\n",
    "house_data['Electrical'].fillna(house_data['Electrical'].mode()[0], inplace=True)"
   ]
  },
  {
   "cell_type": "code",
   "execution_count": 7,
   "metadata": {},
   "outputs": [
    {
     "data": {
      "application/javascript": [
       "\n",
       "            setTimeout(function() {\n",
       "                var nbb_cell_id = 7;\n",
       "                var nbb_unformatted_code = \"#Fire Place Quality\\nfireplace_null_list=np.array(house_data['FireplaceQu'][house_data['FireplaceQu'].isnull()].index)\\nhouse_data['FireplaceQu'].fillna(\\\"None\\\", inplace=True)\";\n",
       "                var nbb_formatted_code = \"# Fire Place Quality\\nfireplace_null_list = np.array(\\n    house_data[\\\"FireplaceQu\\\"][house_data[\\\"FireplaceQu\\\"].isnull()].index\\n)\\nhouse_data[\\\"FireplaceQu\\\"].fillna(\\\"None\\\", inplace=True)\";\n",
       "                var nbb_cells = Jupyter.notebook.get_cells();\n",
       "                for (var i = 0; i < nbb_cells.length; ++i) {\n",
       "                    if (nbb_cells[i].input_prompt_number == nbb_cell_id) {\n",
       "                        if (nbb_cells[i].get_text() == nbb_unformatted_code) {\n",
       "                             nbb_cells[i].set_text(nbb_formatted_code);\n",
       "                        }\n",
       "                        break;\n",
       "                    }\n",
       "                }\n",
       "            }, 500);\n",
       "            "
      ],
      "text/plain": [
       "<IPython.core.display.Javascript object>"
      ]
     },
     "metadata": {},
     "output_type": "display_data"
    }
   ],
   "source": [
    "#Fire Place Quality\n",
    "house_data['FireplaceQu'].fillna('None', inplace=True)"
   ]
  },
  {
   "cell_type": "code",
   "execution_count": 9,
   "metadata": {},
   "outputs": [
    {
     "data": {
      "application/javascript": [
       "\n",
       "            setTimeout(function() {\n",
       "                var nbb_cell_id = 9;\n",
       "                var nbb_unformatted_code = \"#Garage Related Variables\\nhouse_data['GarageType'].fillna(\\\"None\\\", inplace=True)\\nhouse_data['GarageFinish'].fillna(\\\"None\\\", inplace=True)\\nhouse_data['GarageQual'].fillna(\\\"None\\\", inplace=True)\";\n",
       "                var nbb_formatted_code = \"# Garage Related Variables\\nhouse_data[\\\"GarageType\\\"].fillna(\\\"None\\\", inplace=True)\\nhouse_data[\\\"GarageFinish\\\"].fillna(\\\"None\\\", inplace=True)\\nhouse_data[\\\"GarageQual\\\"].fillna(\\\"None\\\", inplace=True)\";\n",
       "                var nbb_cells = Jupyter.notebook.get_cells();\n",
       "                for (var i = 0; i < nbb_cells.length; ++i) {\n",
       "                    if (nbb_cells[i].input_prompt_number == nbb_cell_id) {\n",
       "                        if (nbb_cells[i].get_text() == nbb_unformatted_code) {\n",
       "                             nbb_cells[i].set_text(nbb_formatted_code);\n",
       "                        }\n",
       "                        break;\n",
       "                    }\n",
       "                }\n",
       "            }, 500);\n",
       "            "
      ],
      "text/plain": [
       "<IPython.core.display.Javascript object>"
      ]
     },
     "metadata": {},
     "output_type": "display_data"
    }
   ],
   "source": [
    "#Garage Related Variables\n",
    "house_data['GarageType'].fillna('None', inplace=True)\n",
    "house_data['GarageFinish'].fillna('None', inplace=True)\n",
    "house_data['GarageQual'].fillna('None', inplace=True)"
   ]
  },
  {
   "cell_type": "code",
   "execution_count": null,
   "metadata": {},
   "outputs": [],
   "source": [
    "house_data['PoolQC'].fillna(\"None\", inplace=True)"
   ]
  },
  {
   "cell_type": "code",
   "execution_count": null,
   "metadata": {},
   "outputs": [],
   "source": [
    "house_data['Fence'].fillna(\"None\", inplace=True)"
   ]
  },
  {
   "cell_type": "code",
   "execution_count": null,
   "metadata": {},
   "outputs": [],
   "source": [
    "house_data['MiscFeature'].fillna(\"None\", inplace=True)"
   ]
  },
  {
   "cell_type": "markdown",
   "metadata": {},
   "source": [
    "## Feature Engineering"
   ]
  },
  {
   "cell_type": "code",
   "execution_count": 10,
   "metadata": {},
   "outputs": [
    {
     "data": {
      "application/javascript": [
       "\n",
       "            setTimeout(function() {\n",
       "                var nbb_cell_id = 10;\n",
       "                var nbb_unformatted_code = \"#Total area of house = Above ground living area + basement living area\\nhouse_data[\\\"TotalSF\\\"] = house_data[\\\"GrLivArea\\\"] + house_data[\\\"TotalBsmtSF\\\"]\";\n",
       "                var nbb_formatted_code = \"# Total area of house = Above ground living area + basement living area\\nhouse_data[\\\"TotalSF\\\"] = house_data[\\\"GrLivArea\\\"] + house_data[\\\"TotalBsmtSF\\\"]\";\n",
       "                var nbb_cells = Jupyter.notebook.get_cells();\n",
       "                for (var i = 0; i < nbb_cells.length; ++i) {\n",
       "                    if (nbb_cells[i].input_prompt_number == nbb_cell_id) {\n",
       "                        if (nbb_cells[i].get_text() == nbb_unformatted_code) {\n",
       "                             nbb_cells[i].set_text(nbb_formatted_code);\n",
       "                        }\n",
       "                        break;\n",
       "                    }\n",
       "                }\n",
       "            }, 500);\n",
       "            "
      ],
      "text/plain": [
       "<IPython.core.display.Javascript object>"
      ]
     },
     "metadata": {},
     "output_type": "display_data"
    }
   ],
   "source": [
    "#Total area of house = Above ground living area + basement living area\n",
    "house_data['TotalSF'] = house_data['GrLivArea'] + house_data['TotalBsmtSF']"
   ]
  },
  {
   "cell_type": "code",
   "execution_count": 11,
   "metadata": {},
   "outputs": [
    {
     "data": {
      "application/javascript": [
       "\n",
       "            setTimeout(function() {\n",
       "                var nbb_cell_id = 11;\n",
       "                var nbb_unformatted_code = \"#Age = Year sold - year built\\nhouse_data[\\\"Age\\\"] = house_data[\\\"YrSold\\\"] + house_data[\\\"YearBuilt\\\"]\";\n",
       "                var nbb_formatted_code = \"# Age = Year sold - year built\\nhouse_data[\\\"Age\\\"] = house_data[\\\"YrSold\\\"] + house_data[\\\"YearBuilt\\\"]\";\n",
       "                var nbb_cells = Jupyter.notebook.get_cells();\n",
       "                for (var i = 0; i < nbb_cells.length; ++i) {\n",
       "                    if (nbb_cells[i].input_prompt_number == nbb_cell_id) {\n",
       "                        if (nbb_cells[i].get_text() == nbb_unformatted_code) {\n",
       "                             nbb_cells[i].set_text(nbb_formatted_code);\n",
       "                        }\n",
       "                        break;\n",
       "                    }\n",
       "                }\n",
       "            }, 500);\n",
       "            "
      ],
      "text/plain": [
       "<IPython.core.display.Javascript object>"
      ]
     },
     "metadata": {},
     "output_type": "display_data"
    }
   ],
   "source": [
    "#Age = Year sold - year built\n",
    "house_data['Age'] = house_data['YrSold'] + house_data['YearBuilt']"
   ]
  },
  {
   "cell_type": "code",
   "execution_count": 12,
   "metadata": {},
   "outputs": [
    {
     "data": {
      "application/javascript": [
       "\n",
       "            setTimeout(function() {\n",
       "                var nbb_cell_id = 12;\n",
       "                var nbb_unformatted_code = \"#AgeRemod = Year sold - year remodeled\\nhouse_data[\\\"Age\\\"] = house_data[\\\"YrSold\\\"] + house_data[\\\"YearRemodAdd\\\"]\";\n",
       "                var nbb_formatted_code = \"# AgeRemod = Year sold - year remodeled\\nhouse_data[\\\"Age\\\"] = house_data[\\\"YrSold\\\"] + house_data[\\\"YearRemodAdd\\\"]\";\n",
       "                var nbb_cells = Jupyter.notebook.get_cells();\n",
       "                for (var i = 0; i < nbb_cells.length; ++i) {\n",
       "                    if (nbb_cells[i].input_prompt_number == nbb_cell_id) {\n",
       "                        if (nbb_cells[i].get_text() == nbb_unformatted_code) {\n",
       "                             nbb_cells[i].set_text(nbb_formatted_code);\n",
       "                        }\n",
       "                        break;\n",
       "                    }\n",
       "                }\n",
       "            }, 500);\n",
       "            "
      ],
      "text/plain": [
       "<IPython.core.display.Javascript object>"
      ]
     },
     "metadata": {},
     "output_type": "display_data"
    }
   ],
   "source": [
    "#AgeRemod = Year sold - year remodeled\n",
    "house_data['Age'] = house_data['YrSold'] + house_data['YearRemodAdd']"
   ]
  },
  {
   "cell_type": "code",
   "execution_count": 13,
   "metadata": {},
   "outputs": [
    {
     "data": {
      "application/javascript": [
       "\n",
       "            setTimeout(function() {\n",
       "                var nbb_cell_id = 13;\n",
       "                var nbb_unformatted_code = \"#Total porch SF = OpenPorchSF + EnclosedSF + 3SsnPorch + ScreenPorch\\nhouse_data[\\\"TotPorchSF\\\"] = house_data[\\\"OpenPorchSF\\\"] + house_data[\\\"EnclosedPorch\\\"] + house_data[\\\"3SsnPorch\\\"] + house_data[\\\"ScreenPorch\\\"]\";\n",
       "                var nbb_formatted_code = \"# Total porch SF = OpenPorchSF + EnclosedSF + 3SsnPorch + ScreenPorch\\nhouse_data[\\\"TotPorchSF\\\"] = (\\n    house_data[\\\"OpenPorchSF\\\"]\\n    + house_data[\\\"EnclosedPorch\\\"]\\n    + house_data[\\\"3SsnPorch\\\"]\\n    + house_data[\\\"ScreenPorch\\\"]\\n)\";\n",
       "                var nbb_cells = Jupyter.notebook.get_cells();\n",
       "                for (var i = 0; i < nbb_cells.length; ++i) {\n",
       "                    if (nbb_cells[i].input_prompt_number == nbb_cell_id) {\n",
       "                        if (nbb_cells[i].get_text() == nbb_unformatted_code) {\n",
       "                             nbb_cells[i].set_text(nbb_formatted_code);\n",
       "                        }\n",
       "                        break;\n",
       "                    }\n",
       "                }\n",
       "            }, 500);\n",
       "            "
      ],
      "text/plain": [
       "<IPython.core.display.Javascript object>"
      ]
     },
     "metadata": {},
     "output_type": "display_data"
    }
   ],
   "source": [
    "#Total porch SF = OpenPorchSF + EnclosedSF + 3SsnPorch + ScreenPorch\n",
    "house_data['TotPorchSF'] = house_data['OpenPorchSF'] + house_data['EnclosedPorch'] + house_data['3SsnPorch'] + house_data['ScreenPorch']"
   ]
  },
  {
   "cell_type": "code",
   "execution_count": 14,
   "metadata": {},
   "outputs": [
    {
     "data": {
      "application/javascript": [
       "\n",
       "            setTimeout(function() {\n",
       "                var nbb_cell_id = 14;\n",
       "                var nbb_unformatted_code = \"#Total bathrooms = Full bath + 0.5*Halfbath (for both house and basement)\\nhouse_data['TotBaths'] = house_data['FullBath'] + house_data['BsmtFullBath'] + 0.5*house_data['HalfBath'] + 0.5*house_data['BsmtHalfBath']\";\n",
       "                var nbb_formatted_code = \"# Total bathrooms = Full bath + 0.5*Halfbath (for both house and basement)\\nhouse_data[\\\"TotBaths\\\"] = (\\n    house_data[\\\"FullBath\\\"]\\n    + house_data[\\\"BsmtFullBath\\\"]\\n    + 0.5 * house_data[\\\"HalfBath\\\"]\\n    + 0.5 * house_data[\\\"BsmtHalfBath\\\"]\\n)\";\n",
       "                var nbb_cells = Jupyter.notebook.get_cells();\n",
       "                for (var i = 0; i < nbb_cells.length; ++i) {\n",
       "                    if (nbb_cells[i].input_prompt_number == nbb_cell_id) {\n",
       "                        if (nbb_cells[i].get_text() == nbb_unformatted_code) {\n",
       "                             nbb_cells[i].set_text(nbb_formatted_code);\n",
       "                        }\n",
       "                        break;\n",
       "                    }\n",
       "                }\n",
       "            }, 500);\n",
       "            "
      ],
      "text/plain": [
       "<IPython.core.display.Javascript object>"
      ]
     },
     "metadata": {},
     "output_type": "display_data"
    }
   ],
   "source": [
    "#Total bathrooms = Full bath + 0.5*Halfbath (for both house and basement)\n",
    "house_data['TotBaths'] = house_data['FullBath'] + house_data['BsmtFullBath'] + 0.5*house_data['HalfBath'] + 0.5*house_data['BsmtHalfBath']"
   ]
  },
  {
   "cell_type": "code",
   "execution_count": 15,
   "metadata": {},
   "outputs": [
    {
     "name": "stderr",
     "output_type": "stream",
     "text": [
      "/Users/jonathanharris/opt/anaconda3/lib/python3.7/site-packages/pandas/core/indexing.py:205: SettingWithCopyWarning: \n",
      "A value is trying to be set on a copy of a slice from a DataFrame\n",
      "\n",
      "See the caveats in the documentation: http://pandas.pydata.org/pandas-docs/stable/user_guide/indexing.html#returning-a-view-versus-a-copy\n",
      "  self._setitem_with_indexer(indexer, value)\n"
     ]
    },
    {
     "data": {
      "application/javascript": [
       "\n",
       "            setTimeout(function() {\n",
       "                var nbb_cell_id = 15;\n",
       "                var nbb_unformatted_code = \"#Total number of car garage = 1, 2, 3+ cars\\nhouse_data['TotCarGarage'] = house_data['GarageCars']\\nhouse_data['TotCarGarage'].loc[ house_data['TotCarGarage'] >= 3 ] = 3\";\n",
       "                var nbb_formatted_code = \"# Total number of car garage = 1, 2, 3+ cars\\nhouse_data[\\\"TotCarGarage\\\"] = house_data[\\\"GarageCars\\\"]\\nhouse_data[\\\"TotCarGarage\\\"].loc[house_data[\\\"TotCarGarage\\\"] >= 3] = 3\";\n",
       "                var nbb_cells = Jupyter.notebook.get_cells();\n",
       "                for (var i = 0; i < nbb_cells.length; ++i) {\n",
       "                    if (nbb_cells[i].input_prompt_number == nbb_cell_id) {\n",
       "                        if (nbb_cells[i].get_text() == nbb_unformatted_code) {\n",
       "                             nbb_cells[i].set_text(nbb_formatted_code);\n",
       "                        }\n",
       "                        break;\n",
       "                    }\n",
       "                }\n",
       "            }, 500);\n",
       "            "
      ],
      "text/plain": [
       "<IPython.core.display.Javascript object>"
      ]
     },
     "metadata": {},
     "output_type": "display_data"
    }
   ],
   "source": [
    "#Total number of car garage = 1, 2, 3+ cars\n",
    "house_data['TotCarGarage'] = pd.Series(len(house_data['GarageCars']), index=house_data.index)\n",
    "house_data['TotCarGarage'] = 0 \n",
    "house_data.loc[house_data['GarageCars'] >= 3,'TotCarGarage'] = 1"
   ]
  },
  {
   "cell_type": "code",
   "execution_count": 16,
   "metadata": {},
   "outputs": [
    {
     "data": {
      "application/javascript": [
       "\n",
       "            setTimeout(function() {\n",
       "                var nbb_cell_id = 16;\n",
       "                var nbb_unformatted_code = \"#Has Second Floor = 0 (no) or 1 (yes)\\nhouse_data['Has2ndFl'] = house_data['2ndFlrSF']\\nhouse_data['Has2ndFl'].loc[ house_data['Has2ndFl'] > 0 ] = 1\";\n",
       "                var nbb_formatted_code = \"# Has Second Floor = 0 (no) or 1 (yes)\\nhouse_data[\\\"Has2ndFl\\\"] = house_data[\\\"2ndFlrSF\\\"]\\nhouse_data[\\\"Has2ndFl\\\"].loc[house_data[\\\"Has2ndFl\\\"] > 0] = 1\";\n",
       "                var nbb_cells = Jupyter.notebook.get_cells();\n",
       "                for (var i = 0; i < nbb_cells.length; ++i) {\n",
       "                    if (nbb_cells[i].input_prompt_number == nbb_cell_id) {\n",
       "                        if (nbb_cells[i].get_text() == nbb_unformatted_code) {\n",
       "                             nbb_cells[i].set_text(nbb_formatted_code);\n",
       "                        }\n",
       "                        break;\n",
       "                    }\n",
       "                }\n",
       "            }, 500);\n",
       "            "
      ],
      "text/plain": [
       "<IPython.core.display.Javascript object>"
      ]
     },
     "metadata": {},
     "output_type": "display_data"
    }
   ],
   "source": [
    "#Has Second Floor = 0 (no) or 1 (yes)\n",
    "house_data['Has2ndFl'] = pd.Series(len(house_data['2ndFlrSF']), index=house_data.index)\n",
    "house_data['Has2ndFl'] = 0 \n",
    "house_data.loc[house_data['2ndFlrSF'] > 0,'Has2ndFl'] = 1\n"
   ]
  },
  {
   "cell_type": "code",
   "execution_count": 18,
   "metadata": {},
   "outputs": [
    {
     "data": {
      "application/javascript": [
       "\n",
       "            setTimeout(function() {\n",
       "                var nbb_cell_id = 18;\n",
       "                var nbb_unformatted_code = \"#Has Porch = 0 (no) or 1 (yes)\\nhouse_data['HasPorch'] = house_data['TotPorchSF']\\nhouse_data['HasPorch'].loc[ house_data['HasPorch'] > 0 ] = 1\";\n",
       "                var nbb_formatted_code = \"# Has Porch = 0 (no) or 1 (yes)\\nhouse_data[\\\"HasPorch\\\"] = house_data[\\\"TotPorchSF\\\"]\\nhouse_data[\\\"HasPorch\\\"].loc[house_data[\\\"HasPorch\\\"] > 0] = 1\";\n",
       "                var nbb_cells = Jupyter.notebook.get_cells();\n",
       "                for (var i = 0; i < nbb_cells.length; ++i) {\n",
       "                    if (nbb_cells[i].input_prompt_number == nbb_cell_id) {\n",
       "                        if (nbb_cells[i].get_text() == nbb_unformatted_code) {\n",
       "                             nbb_cells[i].set_text(nbb_formatted_code);\n",
       "                        }\n",
       "                        break;\n",
       "                    }\n",
       "                }\n",
       "            }, 500);\n",
       "            "
      ],
      "text/plain": [
       "<IPython.core.display.Javascript object>"
      ]
     },
     "metadata": {},
     "output_type": "display_data"
    }
   ],
   "source": [
    "#Has Porch = 0 (no) or 1 (yes)\n",
    "house_data['HasPorch'] = pd.Series(len(house_data['TotPorchSF']), index=house_data.index)\n",
    "house_data['HasPorch'] = 0 \n",
    "house_data.loc[house_data['TotPorchSF'] > 0,'HasPorch'] = 1\n"
   ]
  },
  {
   "cell_type": "code",
   "execution_count": 19,
   "metadata": {},
   "outputs": [
    {
     "data": {
      "application/javascript": [
       "\n",
       "            setTimeout(function() {\n",
       "                var nbb_cell_id = 19;\n",
       "                var nbb_unformatted_code = \"#Has Deck = 0 (no) or 1 (yes)\\nhouse_data['HasDeck'] = house_data['WoodDeckSF']\\nhouse_data['HasDeck'].loc[ house_data['HasDeck'] > 0 ] = 1\";\n",
       "                var nbb_formatted_code = \"# Has Deck = 0 (no) or 1 (yes)\\nhouse_data[\\\"HasDeck\\\"] = house_data[\\\"WoodDeckSF\\\"]\\nhouse_data[\\\"HasDeck\\\"].loc[house_data[\\\"HasDeck\\\"] > 0] = 1\";\n",
       "                var nbb_cells = Jupyter.notebook.get_cells();\n",
       "                for (var i = 0; i < nbb_cells.length; ++i) {\n",
       "                    if (nbb_cells[i].input_prompt_number == nbb_cell_id) {\n",
       "                        if (nbb_cells[i].get_text() == nbb_unformatted_code) {\n",
       "                             nbb_cells[i].set_text(nbb_formatted_code);\n",
       "                        }\n",
       "                        break;\n",
       "                    }\n",
       "                }\n",
       "            }, 500);\n",
       "            "
      ],
      "text/plain": [
       "<IPython.core.display.Javascript object>"
      ]
     },
     "metadata": {},
     "output_type": "display_data"
    }
   ],
   "source": [
    "#Has Deck = 0 (no) or 1 (yes)\n",
    "house_data['HasDeck'] = pd.Series(len(house_data['WoodDeckSF']), index=house_data.index)\n",
    "house_data['HasDeck'] = 0 \n",
    "house_data.loc[house_data['WoodDeckSF'] > 0,'HasDeck'] = 1"
   ]
  },
  {
   "cell_type": "code",
   "execution_count": 20,
   "metadata": {},
   "outputs": [
    {
     "data": {
      "application/javascript": [
       "\n",
       "            setTimeout(function() {\n",
       "                var nbb_cell_id = 20;\n",
       "                var nbb_unformatted_code = \"#Has Pool = 0 (no) or 1 (yes)\\nhouse_data['HasPool'] = house_data['PoolArea']\\nhouse_data['HasPool'].loc[ house_data['HasPool'] > 0 ] = 1\";\n",
       "                var nbb_formatted_code = \"# Has Pool = 0 (no) or 1 (yes)\\nhouse_data[\\\"HasPool\\\"] = house_data[\\\"PoolArea\\\"]\\nhouse_data[\\\"HasPool\\\"].loc[house_data[\\\"HasPool\\\"] > 0] = 1\";\n",
       "                var nbb_cells = Jupyter.notebook.get_cells();\n",
       "                for (var i = 0; i < nbb_cells.length; ++i) {\n",
       "                    if (nbb_cells[i].input_prompt_number == nbb_cell_id) {\n",
       "                        if (nbb_cells[i].get_text() == nbb_unformatted_code) {\n",
       "                             nbb_cells[i].set_text(nbb_formatted_code);\n",
       "                        }\n",
       "                        break;\n",
       "                    }\n",
       "                }\n",
       "            }, 500);\n",
       "            "
      ],
      "text/plain": [
       "<IPython.core.display.Javascript object>"
      ]
     },
     "metadata": {},
     "output_type": "display_data"
    }
   ],
   "source": [
    "#Has Pool = 0 (no) or 1 (yes)\n",
    "house_data['HasPool'] = pd.Series(len(house_data['PoolArea']), index=house_data.index)\n",
    "house_data['HasPool'] = 0 \n",
    "house_data.loc[house_data['PoolArea'] > 0,'HasPool'] = 1"
   ]
  },
  {
   "cell_type": "code",
   "execution_count": 21,
   "metadata": {},
   "outputs": [
    {
     "data": {
      "application/javascript": [
       "\n",
       "            setTimeout(function() {\n",
       "                var nbb_cell_id = 21;\n",
       "                var nbb_unformatted_code = \"#Has Fireplace = 0 (no), 1 (yes, not excellent quality), or 2 (excellent quality)\\nhouse_data['HasFirePlace'] = [1] * len(house_data['FireplaceQu'])\\nidx_none = house_data.index[house_data['FireplaceQu'].isna()]  # indexes of 0 fireplaces\\nidx_excel = house_data.index[ house_data['FireplaceQu'] == 'Ex' ]  # indexes of excellent\\nhouse_data['HasFirePlace'].idx_none = 0\\nhouse_data['HasFirePlace'].idx_excel = 2\";\n",
       "                var nbb_formatted_code = \"# Has Fireplace = 0 (no), 1 (yes, not excellent quality), or 2 (excellent quality)\\nhouse_data[\\\"HasFirePlace\\\"] = [1] * len(house_data[\\\"FireplaceQu\\\"])\\nidx_none = house_data.index[house_data[\\\"FireplaceQu\\\"].isna()]  # indexes of 0 fireplaces\\nidx_excel = house_data.index[house_data[\\\"FireplaceQu\\\"] == \\\"Ex\\\"]  # indexes of excellent\\nhouse_data[\\\"HasFirePlace\\\"].idx_none = 0\\nhouse_data[\\\"HasFirePlace\\\"].idx_excel = 2\";\n",
       "                var nbb_cells = Jupyter.notebook.get_cells();\n",
       "                for (var i = 0; i < nbb_cells.length; ++i) {\n",
       "                    if (nbb_cells[i].input_prompt_number == nbb_cell_id) {\n",
       "                        if (nbb_cells[i].get_text() == nbb_unformatted_code) {\n",
       "                             nbb_cells[i].set_text(nbb_formatted_code);\n",
       "                        }\n",
       "                        break;\n",
       "                    }\n",
       "                }\n",
       "            }, 500);\n",
       "            "
      ],
      "text/plain": [
       "<IPython.core.display.Javascript object>"
      ]
     },
     "metadata": {},
     "output_type": "display_data"
    }
   ],
   "source": [
    "#Has Fireplace = 0 (no), 1 (yes, not excellent quality), or 2 (excellent quality)\n",
    "house_data['HasFirePlace'] = pd.Series(len(house_data['FireplaceQu']), index=house_data.index)\n",
    "house_data['HasFirePlace'] = 1 #default all houses have a fireplace \n",
    "house_data.loc[house_data['FireplaceQu'].isna(),'HasFirePlace'] = 0 #replace 1 with 0 for 'No Fireplace'\n",
    "house_data.loc[house_data['FireplaceQu']== 'Ex','HasFirePlace'] = 2 #replace 1 with 2 for 'Excellent Fireplace'"
   ]
  },
  {
   "cell_type": "code",
   "execution_count": 22,
   "metadata": {},
   "outputs": [
    {
     "data": {
      "application/javascript": [
       "\n",
       "            setTimeout(function() {\n",
       "                var nbb_cell_id = 22;\n",
       "                var nbb_unformatted_code = \"#Has Gas Heating = 0 (no) or 1 (yes, GasA or GasW)\\nhouse_data['HasGasHeating'] = pd.Series(len(house_data['Heating']), index=house_data.index)\\nhouse_data['HasGasHeating'] = 0 \\nhouse_data.loc[house_data['Heating']== 'GasA','HasGasHeating'] = 1\\nhouse_data.loc[house_data['Heating']== 'GasW','HasGasHeating'] = 1\";\n",
       "                var nbb_formatted_code = \"# Has Gas Heating = 0 (no) or 1 (yes, GasA or GasW)\\nhouse_data[\\\"HasGasHeating\\\"] = pd.Series(\\n    len(house_data[\\\"Heating\\\"]), index=house_data.index\\n)\\nhouse_data[\\\"HasGasHeating\\\"] = 0\\nhouse_data.loc[house_data[\\\"Heating\\\"] == \\\"GasA\\\", \\\"HasGasHeating\\\"] = 1\\nhouse_data.loc[house_data[\\\"Heating\\\"] == \\\"GasW\\\", \\\"HasGasHeating\\\"] = 1\";\n",
       "                var nbb_cells = Jupyter.notebook.get_cells();\n",
       "                for (var i = 0; i < nbb_cells.length; ++i) {\n",
       "                    if (nbb_cells[i].input_prompt_number == nbb_cell_id) {\n",
       "                        if (nbb_cells[i].get_text() == nbb_unformatted_code) {\n",
       "                             nbb_cells[i].set_text(nbb_formatted_code);\n",
       "                        }\n",
       "                        break;\n",
       "                    }\n",
       "                }\n",
       "            }, 500);\n",
       "            "
      ],
      "text/plain": [
       "<IPython.core.display.Javascript object>"
      ]
     },
     "metadata": {},
     "output_type": "display_data"
    }
   ],
   "source": [
    "#Has Gas Heating = 0 (no) or 1 (yes, GasA or GasW)\n",
    "house_data['HasGasHeating'] = pd.Series(len(house_data['Heating']), index=house_data.index)\n",
    "house_data['HasGasHeating'] = 0 \n",
    "house_data.loc[house_data['Heating']== 'GasA','HasGasHeating'] = 1\n",
    "house_data.loc[house_data['Heating']== 'GasW','HasGasHeating'] = 1"
   ]
  },
  {
   "cell_type": "code",
   "execution_count": 24,
   "metadata": {},
   "outputs": [
    {
     "data": {
      "application/javascript": [
       "\n",
       "            setTimeout(function() {\n",
       "                var nbb_cell_id = 24;\n",
       "                var nbb_unformatted_code = \"#Has Modern Circuitbreaker = 0 (no) or 1 (yes)\\nhouse_data['HasSBrkr'] = pd.Series(len(house_data['Electrical']), index=house_data.index)\\nhouse_data['HasSBrkr'] = 0 \\nhouse_data.loc[house_data['Electrical']== 'SBrkr','HasSBrkr'] = 1\";\n",
       "                var nbb_formatted_code = \"# Has Modern Circuitbreaker = 0 (no) or 1 (yes)\\nhouse_data[\\\"HasSBrkr\\\"] = pd.Series(\\n    len(house_data[\\\"Electrical\\\"]), index=house_data.index\\n)\\nhouse_data[\\\"HasSBrkr\\\"] = 0\\nhouse_data.loc[house_data[\\\"Electrical\\\"] == \\\"SBrkr\\\", \\\"HasSBrkr\\\"] = 1\";\n",
       "                var nbb_cells = Jupyter.notebook.get_cells();\n",
       "                for (var i = 0; i < nbb_cells.length; ++i) {\n",
       "                    if (nbb_cells[i].input_prompt_number == nbb_cell_id) {\n",
       "                        if (nbb_cells[i].get_text() == nbb_unformatted_code) {\n",
       "                             nbb_cells[i].set_text(nbb_formatted_code);\n",
       "                        }\n",
       "                        break;\n",
       "                    }\n",
       "                }\n",
       "            }, 500);\n",
       "            "
      ],
      "text/plain": [
       "<IPython.core.display.Javascript object>"
      ]
     },
     "metadata": {},
     "output_type": "display_data"
    }
   ],
   "source": [
    "#Has Modern Circuitbreaker = 0 (no) or 1 (yes)\n",
    "house_data['HasSBrkr'] = pd.Series(len(house_data['Electrical']), index=house_data.index)\n",
    "house_data['HasSBrkr'] = 0 \n",
    "house_data.loc[house_data['Electrical']== 'SBrkr','HasSBrkr'] = 1"
   ]
  },
  {
   "cell_type": "code",
   "execution_count": 25,
   "metadata": {},
   "outputs": [
    {
     "data": {
      "application/javascript": [
       "\n",
       "            setTimeout(function() {\n",
       "                var nbb_cell_id = 25;\n",
       "                var nbb_unformatted_code = \"#Has excellent basement quality = 0 (no) or 1 (yes)\\nhouse_data['HasExBsmtQual'] = pd.Series(len(house_data['BsmtQual']), index=house_data.index)\\nhouse_data['HasExBsmtQual'] = 0 \\nhouse_data.loc[house_data['BsmtQual']== 'Ex','HasExBsmtQual'] = 1\";\n",
       "                var nbb_formatted_code = \"# Has excellent basement quality = 0 (no) or 1 (yes)\\nhouse_data[\\\"HasExBsmtQual\\\"] = pd.Series(\\n    len(house_data[\\\"BsmtQual\\\"]), index=house_data.index\\n)\\nhouse_data[\\\"HasExBsmtQual\\\"] = 0\\nhouse_data.loc[house_data[\\\"BsmtQual\\\"] == \\\"Ex\\\", \\\"HasExBsmtQual\\\"] = 1\";\n",
       "                var nbb_cells = Jupyter.notebook.get_cells();\n",
       "                for (var i = 0; i < nbb_cells.length; ++i) {\n",
       "                    if (nbb_cells[i].input_prompt_number == nbb_cell_id) {\n",
       "                        if (nbb_cells[i].get_text() == nbb_unformatted_code) {\n",
       "                             nbb_cells[i].set_text(nbb_formatted_code);\n",
       "                        }\n",
       "                        break;\n",
       "                    }\n",
       "                }\n",
       "            }, 500);\n",
       "            "
      ],
      "text/plain": [
       "<IPython.core.display.Javascript object>"
      ]
     },
     "metadata": {},
     "output_type": "display_data"
    }
   ],
   "source": [
    "#Has excellent basement quality = 0 (no) or 1 (yes)\n",
    "house_data['HasExBsmtQual'] = pd.Series(len(house_data['BsmtQual']), index=house_data.index)\n",
    "house_data['HasExBsmtQual'] = 0 \n",
    "house_data.loc[house_data['BsmtQual']== 'Ex','HasExBsmtQual'] = 1"
   ]
  },
  {
   "cell_type": "code",
   "execution_count": 26,
   "metadata": {},
   "outputs": [
    {
     "data": {
      "application/javascript": [
       "\n",
       "            setTimeout(function() {\n",
       "                var nbb_cell_id = 26;\n",
       "                var nbb_unformatted_code = \"#Has Basement Exposure = 0 (no) or 1 (yes)\\nhouse_data['HasGd'] = pd.Series(len(house_data['BsmtExposure']), index=house_data.index)\\nhouse_data['HasGd'] = 0 \\nhouse_data.loc[house_data['BsmtExposure']== 'Gd','HasGd'] = 1\";\n",
       "                var nbb_formatted_code = \"# Has Basement Exposure = 0 (no) or 1 (yes)\\nhouse_data[\\\"HasGd\\\"] = pd.Series(len(house_data[\\\"BsmtExposure\\\"]), index=house_data.index)\\nhouse_data[\\\"HasGd\\\"] = 0\\nhouse_data.loc[house_data[\\\"BsmtExposure\\\"] == \\\"Gd\\\", \\\"HasGd\\\"] = 1\";\n",
       "                var nbb_cells = Jupyter.notebook.get_cells();\n",
       "                for (var i = 0; i < nbb_cells.length; ++i) {\n",
       "                    if (nbb_cells[i].input_prompt_number == nbb_cell_id) {\n",
       "                        if (nbb_cells[i].get_text() == nbb_unformatted_code) {\n",
       "                             nbb_cells[i].set_text(nbb_formatted_code);\n",
       "                        }\n",
       "                        break;\n",
       "                    }\n",
       "                }\n",
       "            }, 500);\n",
       "            "
      ],
      "text/plain": [
       "<IPython.core.display.Javascript object>"
      ]
     },
     "metadata": {},
     "output_type": "display_data"
    }
   ],
   "source": [
    "#Has Basement Exposure = 0 (no) or 1 (yes)\n",
    "house_data['HasGd'] = pd.Series(len(house_data['BsmtExposure']), index=house_data.index)\n",
    "house_data['HasGd'] = 0 \n",
    "house_data.loc[house_data['BsmtExposure']== 'Gd','HasGd'] = 1"
   ]
  },
  {
   "cell_type": "code",
   "execution_count": 27,
   "metadata": {},
   "outputs": [
    {
     "data": {
      "application/javascript": [
       "\n",
       "            setTimeout(function() {\n",
       "                var nbb_cell_id = 27;\n",
       "                var nbb_unformatted_code = \"#Has Basement with good living quarters = 0 (no) or 1 (yes)\\nhouse_data['HasGLQ'] = pd.Series(len(house_data['BsmtFinType1']), index=house_data.index)\\nhouse_data['HasGLQ'] = 0 \\nhouse_data.loc[house_data['BsmtFinType1']== 'GLQ','HasGLQ'] = 1\";\n",
       "                var nbb_formatted_code = \"# Has Basement with good living quarters = 0 (no) or 1 (yes)\\nhouse_data[\\\"HasGLQ\\\"] = pd.Series(\\n    len(house_data[\\\"BsmtFinType1\\\"]), index=house_data.index\\n)\\nhouse_data[\\\"HasGLQ\\\"] = 0\\nhouse_data.loc[house_data[\\\"BsmtFinType1\\\"] == \\\"GLQ\\\", \\\"HasGLQ\\\"] = 1\";\n",
       "                var nbb_cells = Jupyter.notebook.get_cells();\n",
       "                for (var i = 0; i < nbb_cells.length; ++i) {\n",
       "                    if (nbb_cells[i].input_prompt_number == nbb_cell_id) {\n",
       "                        if (nbb_cells[i].get_text() == nbb_unformatted_code) {\n",
       "                             nbb_cells[i].set_text(nbb_formatted_code);\n",
       "                        }\n",
       "                        break;\n",
       "                    }\n",
       "                }\n",
       "            }, 500);\n",
       "            "
      ],
      "text/plain": [
       "<IPython.core.display.Javascript object>"
      ]
     },
     "metadata": {},
     "output_type": "display_data"
    }
   ],
   "source": [
    "#Has Basement with good living quarters = 0 (no) or 1 (yes)\n",
    "house_data['HasGLQ'] = pd.Series(len(house_data['BsmtFinType1']), index=house_data.index)\n",
    "house_data['HasGLQ'] = 0 \n",
    "house_data.loc[house_data['BsmtFinType1']== 'GLQ','HasGLQ'] = 1"
   ]
  },
  {
   "cell_type": "code",
   "execution_count": 28,
   "metadata": {},
   "outputs": [
    {
     "data": {
      "application/javascript": [
       "\n",
       "            setTimeout(function() {\n",
       "                var nbb_cell_id = 28;\n",
       "                var nbb_unformatted_code = \"#Has paved driveway = 0 (no) or 1 (yes)\\nhouse_data['HasPavedDrive'] = pd.Series(len(house_data['PavedDrive']), index=house_data.index)\\nhouse_data['HasPavedDrive'] = 0 \\nhouse_data.loc[house_data['PavedDrive']== 'Y','HasPavedDrive'] = 1\";\n",
       "                var nbb_formatted_code = \"# Has paved driveway = 0 (no) or 1 (yes)\\nhouse_data[\\\"HasPavedDrive\\\"] = pd.Series(\\n    len(house_data[\\\"PavedDrive\\\"]), index=house_data.index\\n)\\nhouse_data[\\\"HasPavedDrive\\\"] = 0\\nhouse_data.loc[house_data[\\\"PavedDrive\\\"] == \\\"Y\\\", \\\"HasPavedDrive\\\"] = 1\";\n",
       "                var nbb_cells = Jupyter.notebook.get_cells();\n",
       "                for (var i = 0; i < nbb_cells.length; ++i) {\n",
       "                    if (nbb_cells[i].input_prompt_number == nbb_cell_id) {\n",
       "                        if (nbb_cells[i].get_text() == nbb_unformatted_code) {\n",
       "                             nbb_cells[i].set_text(nbb_formatted_code);\n",
       "                        }\n",
       "                        break;\n",
       "                    }\n",
       "                }\n",
       "            }, 500);\n",
       "            "
      ],
      "text/plain": [
       "<IPython.core.display.Javascript object>"
      ]
     },
     "metadata": {},
     "output_type": "display_data"
    }
   ],
   "source": [
    "#Has paved driveway = 0 (no) or 1 (yes)\n",
    "house_data['HasPavedDrive'] = pd.Series(len(house_data['PavedDrive']), index=house_data.index)\n",
    "house_data['HasPavedDrive'] = 0 \n",
    "house_data.loc[house_data['PavedDrive']== 'Y','HasPavedDrive'] = 1"
   ]
  },
  {
   "cell_type": "code",
   "execution_count": null,
   "metadata": {},
   "outputs": [],
   "source": [
    "house_data['HasTA'] = pd.Series(len(house_data['GarageQual']), index=house_data.index)\n",
    "house_data['HasTA'] = 0 \n",
    "house_data.loc[house_data['GarageQual']== 'TA','HasTA'] = 1"
   ]
  },
  {
   "cell_type": "markdown",
   "metadata": {},
   "source": [
    "## Take stock of columns "
   ]
  },
  {
   "cell_type": "code",
   "execution_count": null,
   "metadata": {},
   "outputs": [],
   "source": [
    "# house_data has all of the columns\n",
    "# cat_var_all is subset \n",
    "# drop_cat_var_all"
   ]
  },
  {
   "cell_type": "code",
   "execution_count": 2,
   "metadata": {},
   "outputs": [],
   "source": [
    "cat_var_all= ['BsmtQual', 'BsmtCond', 'BsmtExposure', 'BsmtFinType1', 'BsmtFinType2', 'Heating', 'HeatingQC', 'CentralAir', 'Electrical',\n",
    "              'KitchenQual', 'Functional', 'FireplaceQu', 'GarageType', 'GarageFinish', 'GarageQual', 'GarageCond', 'PavedDrive', \n",
    "              'PoolQC', 'Fence', 'MiscFeature','SaleType', 'SaleCondition', 'SalePrice_log', 'SalePrice']\n",
    "\n",
    "drop_cat_var_all= ['Heating','Electrical', 'BsmtQual', 'BsmtExposure', 'BsmtFinType1', 'PavedDrive', 'GarageQual']\n",
    "cat_only_drop=['Fence', 'MiscFeature', 'SaleType']\n",
    "ordinal_drop=['BsmtFinType2','Functional', 'PoolQC', 'GarageCond', 'SaleCondition']\n",
    "\n",
    "\n"
   ]
  },
  {
   "cell_type": "code",
   "execution_count": null,
   "metadata": {},
   "outputs": [],
   "source": []
  },
  {
   "cell_type": "markdown",
   "metadata": {},
   "source": [
    "## One hot encode "
   ]
  },
  {
   "cell_type": "code",
   "execution_count": null,
   "metadata": {},
   "outputs": [],
   "source": [
    "'''\n",
    "def Diff(li1, li2): \n",
    "    li_dif = [i for i in li1 + li2 if i not in li1 or i not in li2] \n",
    "    return li_dif \n",
    "\n",
    "train_data_cat_var_final= []\n",
    "cols= Diff(list(train_data_cat_var_final.columns),['SalePrice_log', 'SalePrice'])\n",
    "\n",
    "house_data_subset = pd.get_dummies(house_data[cols], prefix=cols, columns=cols, drop_first=True)"
   ]
  },
  {
   "cell_type": "markdown",
   "metadata": {},
   "source": [
    "## Remove Outliers"
   ]
  },
  {
   "cell_type": "code",
   "execution_count": 30,
   "metadata": {
    "collapsed": true
   },
   "outputs": [
    {
     "ename": "NameError",
     "evalue": "name 'plt' is not defined",
     "output_type": "error",
     "traceback": [
      "\u001b[0;31m---------------------------------------------------------------------------\u001b[0m",
      "\u001b[0;31mNameError\u001b[0m                                 Traceback (most recent call last)",
      "\u001b[0;32m<ipython-input-30-3289257107a7>\u001b[0m in \u001b[0;36m<module>\u001b[0;34m\u001b[0m\n\u001b[1;32m     15\u001b[0m \u001b[0;34m\u001b[0m\u001b[0m\n\u001b[1;32m     16\u001b[0m \u001b[0;31m# Plot Outliers\u001b[0m\u001b[0;34m\u001b[0m\u001b[0;34m\u001b[0m\u001b[0;34m\u001b[0m\u001b[0m\n\u001b[0;32m---> 17\u001b[0;31m \u001b[0mplt\u001b[0m\u001b[0;34m.\u001b[0m\u001b[0mfigure\u001b[0m\u001b[0;34m(\u001b[0m\u001b[0mfigsize\u001b[0m\u001b[0;34m=\u001b[0m\u001b[0;34m(\u001b[0m\u001b[0;36m15\u001b[0m\u001b[0;34m,\u001b[0m \u001b[0;36m20\u001b[0m\u001b[0;34m)\u001b[0m\u001b[0;34m)\u001b[0m\u001b[0;34m\u001b[0m\u001b[0;34m\u001b[0m\u001b[0m\n\u001b[0m\u001b[1;32m     18\u001b[0m \u001b[0;32mfor\u001b[0m \u001b[0midx\u001b[0m\u001b[0;34m,\u001b[0m \u001b[0mcol\u001b[0m \u001b[0;32min\u001b[0m \u001b[0menumerate\u001b[0m\u001b[0;34m(\u001b[0m\u001b[0mnum_cont_features\u001b[0m\u001b[0;34m)\u001b[0m\u001b[0;34m:\u001b[0m\u001b[0;34m\u001b[0m\u001b[0;34m\u001b[0m\u001b[0m\n\u001b[1;32m     19\u001b[0m     \u001b[0moutliers\u001b[0m \u001b[0;34m=\u001b[0m \u001b[0moutlier_idx\u001b[0m\u001b[0;34m(\u001b[0m\u001b[0mhouse_data\u001b[0m\u001b[0;34m[\u001b[0m\u001b[0mcol\u001b[0m\u001b[0;34m]\u001b[0m\u001b[0;34m,\u001b[0m \u001b[0;36m6\u001b[0m\u001b[0;34m)\u001b[0m  \u001b[0;31m# outlier indices\u001b[0m\u001b[0;34m\u001b[0m\u001b[0;34m\u001b[0m\u001b[0m\n",
      "\u001b[0;31mNameError\u001b[0m: name 'plt' is not defined"
     ]
    },
    {
     "data": {
      "application/javascript": [
       "\n",
       "            setTimeout(function() {\n",
       "                var nbb_cell_id = 30;\n",
       "                var nbb_unformatted_code = \"# Separate predictors by numerical and categorical features\\nfrom functions_file import categorize\\ncat_features, num_cont_features, num_disc_features = categorize(house_data)\\n\\n# Determine Outliers of Continuous Data\\ndef outlier_idx(data, thresh):\\n\\n    avg = data.mean()  # calc average\\n    stdev = data.std()  # calc standard deviation\\n    z_score = (data - avg) / stdev  # calc z_score\\n    ol = z_score > thresh  # boolean (True=outlier)\\n    outlier_idx = data.index[ol]  # indexes of outliers\\n\\n    return list(outlier_idx)\\n\\n# Plot Outliers\\nplt.figure(figsize=(15, 20))\\nfor idx, col in enumerate(num_cont_features):\\n    outliers = outlier_idx(house_data[col], 6)  # outlier indices\\n    plt.subplot(math.ceil(len(num_cont_features) / ncol), ncol, idx + 1)\\n    plt.scatter(x=house_data[col], y=house_data[\\\"SalePrice_log\\\"], c=\\\"blue\\\")\\n    plt.scatter(\\n        x=house_data[col][outliers], y=house_data[\\\"SalePrice_log\\\"][outliers], c=\\\"red\\\"\\n    )\\n    plt.ylabel(\\\"SalePrice_log\\\")\\n    plt.xlabel(col)\";\n",
       "                var nbb_formatted_code = \"# Separate predictors by numerical and categorical features\\nfrom functions_file import categorize\\n\\ncat_features, num_cont_features, num_disc_features = categorize(house_data)\\n\\n# Determine Outliers of Continuous Data\\ndef outlier_idx(data, thresh):\\n\\n    avg = data.mean()  # calc average\\n    stdev = data.std()  # calc standard deviation\\n    z_score = (data - avg) / stdev  # calc z_score\\n    ol = z_score > thresh  # boolean (True=outlier)\\n    outlier_idx = data.index[ol]  # indexes of outliers\\n\\n    return list(outlier_idx)\\n\\n\\n# Plot Outliers\\nplt.figure(figsize=(15, 20))\\nfor idx, col in enumerate(num_cont_features):\\n    outliers = outlier_idx(house_data[col], 6)  # outlier indices\\n    plt.subplot(math.ceil(len(num_cont_features) / ncol), ncol, idx + 1)\\n    plt.scatter(x=house_data[col], y=house_data[\\\"SalePrice_log\\\"], c=\\\"blue\\\")\\n    plt.scatter(\\n        x=house_data[col][outliers], y=house_data[\\\"SalePrice_log\\\"][outliers], c=\\\"red\\\"\\n    )\\n    plt.ylabel(\\\"SalePrice_log\\\")\\n    plt.xlabel(col)\";\n",
       "                var nbb_cells = Jupyter.notebook.get_cells();\n",
       "                for (var i = 0; i < nbb_cells.length; ++i) {\n",
       "                    if (nbb_cells[i].input_prompt_number == nbb_cell_id) {\n",
       "                        if (nbb_cells[i].get_text() == nbb_unformatted_code) {\n",
       "                             nbb_cells[i].set_text(nbb_formatted_code);\n",
       "                        }\n",
       "                        break;\n",
       "                    }\n",
       "                }\n",
       "            }, 500);\n",
       "            "
      ],
      "text/plain": [
       "<IPython.core.display.Javascript object>"
      ]
     },
     "metadata": {},
     "output_type": "display_data"
    }
   ],
   "source": [
    "# # Separate predictors by numerical and categorical features\n",
    "# from functions_file import categorize\n",
    "\n",
    "# cat_features, num_cont_features, num_disc_features = categorize(house_data)\n",
    "\n",
    "# # Determine Outliers of Continuous Data\n",
    "# def outlier_idx(data, thresh):\n",
    "\n",
    "#     avg = data.mean()  # calc average\n",
    "#     stdev = data.std()  # calc standard deviation\n",
    "#     z_score = (data - avg) / stdev  # calc z_score\n",
    "#     ol = z_score > thresh  # boolean (True=outlier)\n",
    "#     outlier_idx = data.index[ol]  # indexes of outliers\n",
    "\n",
    "#     return list(outlier_idx)\n",
    "\n",
    "\n",
    "# # Plot Outliers\n",
    "# plt.figure(figsize=(15, 20))\n",
    "# for idx, col in enumerate(num_cont_features):\n",
    "#     outliers = outlier_idx(house_data[col], 6)  # outlier indices\n",
    "#     plt.subplot(math.ceil(len(num_cont_features) / ncol), ncol, idx + 1)\n",
    "#     plt.scatter(x=house_data[col], y=house_data[\"SalePrice_log\"], c=\"blue\")\n",
    "#     plt.scatter(\n",
    "#         x=house_data[col][outliers], y=house_data[\"SalePrice_log\"][outliers], c=\"red\"\n",
    "#     )\n",
    "#     plt.ylabel(\"SalePrice_log\")\n",
    "#     plt.xlabel(col)"
   ]
  },
  {
   "cell_type": "code",
   "execution_count": null,
   "metadata": {},
   "outputs": [],
   "source": [
    "# vars_outliers = 'LotFrontage', 'LotArea', 'MasVnrArea', 'TotalBsmtSF', 'GrLivArea'\n",
    "\n",
    "# outlier_store = {}\n",
    "# thresh = 6  # outlier > +6std away from mean\n",
    "\n",
    "# for idx, col in enumerate(num_cont_features):\n",
    "#     outliers = outlier_idx(house_data[col], thresh)  # outlier indices\n",
    "\n",
    "#     if len(outliers) > 0:\n",
    "#         outlier_store[col] = outliers  # only store features with outliers"
   ]
  },
  {
   "cell_type": "markdown",
   "metadata": {},
   "source": [
    "## Remove Variables"
   ]
  },
  {
   "cell_type": "code",
   "execution_count": null,
   "metadata": {},
   "outputs": [],
   "source": []
  },
  {
   "cell_type": "markdown",
   "metadata": {},
   "source": [
    "## Consolidate Data Feature Engineered: "
   ]
  },
  {
   "cell_type": "code",
   "execution_count": 42,
   "metadata": {},
   "outputs": [
    {
     "data": {
      "text/plain": [
       "(1460, 23)"
      ]
     },
     "execution_count": 42,
     "metadata": {},
     "output_type": "execute_result"
    }
   ],
   "source": [
    "house_data = pd.read_csv('csv')\n",
    "house_data.shape"
   ]
  },
  {
   "cell_type": "code",
   "execution_count": 45,
   "metadata": {
    "scrolled": true
   },
   "outputs": [],
   "source": [
    "house_data2= pd.read_csv('train1_kc.csv')\n",
    "house_data2.shape"
   ]
  },
  {
   "cell_type": "code",
   "execution_count": 46,
   "metadata": {},
   "outputs": [],
   "source": [
    "Id= np.array(house_data['Id'])-1\n",
    "house_data['Id']= Id\n",
    "house_data= house_data.drop(['SalePrice', 'SalePrice_log'], axis=1)"
   ]
  },
  {
   "cell_type": "code",
   "execution_count": 53,
   "metadata": {},
   "outputs": [],
   "source": [
    "train_all=pd.merge(house_data, house_data2, how= 'left', left_on= 'Id', right_on= house_data2.index)"
   ]
  },
  {
   "cell_type": "code",
   "execution_count": 43,
   "metadata": {},
   "outputs": [
    {
     "data": {
      "text/plain": [
       "Index(['Unnamed: 0', 'Id', 'MSZoning', 'Street', 'Alley', 'LotShape',\n",
       "       'LandContour', 'Utilities', 'LotConfig', 'LandSlope', 'Neighborhood',\n",
       "       'Condition1', 'Condition2', 'BldgType', 'HouseStyle', 'RoofStyle',\n",
       "       'RoofMatl', 'Exterior1st', 'Exterior2nd', 'MasVnrType', 'ExterQual',\n",
       "       'ExterCond', 'Foundation'],\n",
       "      dtype='object')"
      ]
     },
     "execution_count": 43,
     "metadata": {},
     "output_type": "execute_result"
    }
   ],
   "source": [
    "house_data.columns"
   ]
  },
  {
   "cell_type": "code",
   "execution_count": 58,
   "metadata": {},
   "outputs": [],
   "source": [
    "train_all=train_all.drop(['Unnamed: 0_y', 'Unnamed: 0_x'], axis=1)"
   ]
  },
  {
   "cell_type": "code",
   "execution_count": 62,
   "metadata": {},
   "outputs": [],
   "source": [
    "test.to_csv('train_all.csv')"
   ]
  },
  {
   "cell_type": "code",
   "execution_count": null,
   "metadata": {},
   "outputs": [],
   "source": [
    "cont_var_JH= ['Id','LotFrontage', 'LotArea', 'MasVnrArea', 'BsmtFinSF1', 'BsmtUnfSF', 'TotalBsmtSF',\n",
    "'1stFlrSF', 'LowQualFinSF', 'GrLivArea', 'GarageYrBlt', 'GarageArea', 'WoodDeckSF',\n",
    "'MiscVal','TotalSF', 'Age', 'TotPorchSF', 'TotBaths', 'MoSold', 'TotCarGarage']\n",
    "\n",
    "cat_var_JH= ['Has2ndFl','NeighborhoodType','HasPorch', 'HasDeck', 'HasPool'] "
   ]
  },
  {
   "cell_type": "markdown",
   "metadata": {},
   "source": [
    "## Consolidated DATA  Train_ Test "
   ]
  },
  {
   "cell_type": "code",
   "execution_count": 45,
   "metadata": {},
   "outputs": [],
   "source": [
    "jon= pd.read_csv('jon_original_HouseData.csv')\n",
    "rich = pd.read_csv('rk_hotencode.csv')\n",
    "kailun= pd.read_csv('train_all0.csv')"
   ]
  },
  {
   "cell_type": "code",
   "execution_count": 90,
   "metadata": {},
   "outputs": [],
   "source": [
    "jon_test= pd.read_csv('jon_test_HouseData.csv')\n",
    "rich_test = pd.read_csv('rk_hotencode_test.csv')\n",
    "kailun_test= pd.read_csv('test_all0.csv')"
   ]
  },
  {
   "cell_type": "code",
   "execution_count": 100,
   "metadata": {},
   "outputs": [
    {
     "data": {
      "text/html": [
       "<div>\n",
       "<style scoped>\n",
       "    .dataframe tbody tr th:only-of-type {\n",
       "        vertical-align: middle;\n",
       "    }\n",
       "\n",
       "    .dataframe tbody tr th {\n",
       "        vertical-align: top;\n",
       "    }\n",
       "\n",
       "    .dataframe thead th {\n",
       "        text-align: right;\n",
       "    }\n",
       "</style>\n",
       "<table border=\"1\" class=\"dataframe\">\n",
       "  <thead>\n",
       "    <tr style=\"text-align: right;\">\n",
       "      <th></th>\n",
       "      <th>Id</th>\n",
       "      <th>BsmtQual</th>\n",
       "      <th>BsmtCond</th>\n",
       "      <th>BsmtExposure</th>\n",
       "      <th>BsmtFinType1</th>\n",
       "      <th>BsmtFinType2</th>\n",
       "      <th>HeatingQC</th>\n",
       "      <th>KitchenQual</th>\n",
       "      <th>Functional</th>\n",
       "      <th>FireplaceQu</th>\n",
       "      <th>GarageFinish</th>\n",
       "      <th>GarageCond</th>\n",
       "      <th>Fence</th>\n",
       "      <th>HasGasHeating</th>\n",
       "      <th>Electrical_combined</th>\n",
       "      <th>GarageType_combined</th>\n",
       "      <th>GarageQual_combined</th>\n",
       "      <th>Garage_combined</th>\n",
       "      <th>SaleType_combined</th>\n",
       "      <th>HasPavedDrive</th>\n",
       "      <th>HasPavedDrive_combined</th>\n",
       "      <th>SaleCond_combined</th>\n",
       "      <th>HasCentralAir</th>\n",
       "    </tr>\n",
       "  </thead>\n",
       "  <tbody>\n",
       "    <tr>\n",
       "      <td>0</td>\n",
       "      <td>0</td>\n",
       "      <td>4</td>\n",
       "      <td>4</td>\n",
       "      <td>2</td>\n",
       "      <td>4</td>\n",
       "      <td>3</td>\n",
       "      <td>3</td>\n",
       "      <td>3</td>\n",
       "      <td>8</td>\n",
       "      <td>1</td>\n",
       "      <td>2</td>\n",
       "      <td>4</td>\n",
       "      <td>4</td>\n",
       "      <td>1</td>\n",
       "      <td>1</td>\n",
       "      <td>1</td>\n",
       "      <td>2</td>\n",
       "      <td>3.0</td>\n",
       "      <td>1</td>\n",
       "      <td>0</td>\n",
       "      <td>1.0</td>\n",
       "      <td>1</td>\n",
       "      <td>1</td>\n",
       "    </tr>\n",
       "    <tr>\n",
       "      <td>1</td>\n",
       "      <td>1</td>\n",
       "      <td>4</td>\n",
       "      <td>4</td>\n",
       "      <td>2</td>\n",
       "      <td>6</td>\n",
       "      <td>2</td>\n",
       "      <td>3</td>\n",
       "      <td>4</td>\n",
       "      <td>8</td>\n",
       "      <td>1</td>\n",
       "      <td>2</td>\n",
       "      <td>4</td>\n",
       "      <td>1</td>\n",
       "      <td>1</td>\n",
       "      <td>1</td>\n",
       "      <td>1</td>\n",
       "      <td>2</td>\n",
       "      <td>3.0</td>\n",
       "      <td>1</td>\n",
       "      <td>0</td>\n",
       "      <td>1.0</td>\n",
       "      <td>1</td>\n",
       "      <td>1</td>\n",
       "    </tr>\n",
       "    <tr>\n",
       "      <td>2</td>\n",
       "      <td>2</td>\n",
       "      <td>5</td>\n",
       "      <td>4</td>\n",
       "      <td>2</td>\n",
       "      <td>7</td>\n",
       "      <td>2</td>\n",
       "      <td>4</td>\n",
       "      <td>3</td>\n",
       "      <td>8</td>\n",
       "      <td>4</td>\n",
       "      <td>4</td>\n",
       "      <td>4</td>\n",
       "      <td>4</td>\n",
       "      <td>1</td>\n",
       "      <td>1</td>\n",
       "      <td>1</td>\n",
       "      <td>2</td>\n",
       "      <td>3.0</td>\n",
       "      <td>1</td>\n",
       "      <td>0</td>\n",
       "      <td>1.0</td>\n",
       "      <td>1</td>\n",
       "      <td>1</td>\n",
       "    </tr>\n",
       "    <tr>\n",
       "      <td>3</td>\n",
       "      <td>3</td>\n",
       "      <td>4</td>\n",
       "      <td>4</td>\n",
       "      <td>2</td>\n",
       "      <td>7</td>\n",
       "      <td>2</td>\n",
       "      <td>5</td>\n",
       "      <td>4</td>\n",
       "      <td>8</td>\n",
       "      <td>5</td>\n",
       "      <td>4</td>\n",
       "      <td>4</td>\n",
       "      <td>1</td>\n",
       "      <td>1</td>\n",
       "      <td>1</td>\n",
       "      <td>1</td>\n",
       "      <td>2</td>\n",
       "      <td>3.0</td>\n",
       "      <td>1</td>\n",
       "      <td>0</td>\n",
       "      <td>1.0</td>\n",
       "      <td>1</td>\n",
       "      <td>1</td>\n",
       "    </tr>\n",
       "    <tr>\n",
       "      <td>4</td>\n",
       "      <td>4</td>\n",
       "      <td>5</td>\n",
       "      <td>4</td>\n",
       "      <td>2</td>\n",
       "      <td>6</td>\n",
       "      <td>2</td>\n",
       "      <td>5</td>\n",
       "      <td>4</td>\n",
       "      <td>8</td>\n",
       "      <td>1</td>\n",
       "      <td>3</td>\n",
       "      <td>4</td>\n",
       "      <td>1</td>\n",
       "      <td>1</td>\n",
       "      <td>1</td>\n",
       "      <td>1</td>\n",
       "      <td>2</td>\n",
       "      <td>3.0</td>\n",
       "      <td>1</td>\n",
       "      <td>0</td>\n",
       "      <td>1.0</td>\n",
       "      <td>1</td>\n",
       "      <td>1</td>\n",
       "    </tr>\n",
       "  </tbody>\n",
       "</table>\n",
       "</div>"
      ],
      "text/plain": [
       "   Id  BsmtQual  BsmtCond  BsmtExposure  BsmtFinType1  BsmtFinType2  \\\n",
       "0   0         4         4             2             4             3   \n",
       "1   1         4         4             2             6             2   \n",
       "2   2         5         4             2             7             2   \n",
       "3   3         4         4             2             7             2   \n",
       "4   4         5         4             2             6             2   \n",
       "\n",
       "   HeatingQC  KitchenQual  Functional  FireplaceQu  GarageFinish  GarageCond  \\\n",
       "0          3            3           8            1             2           4   \n",
       "1          3            4           8            1             2           4   \n",
       "2          4            3           8            4             4           4   \n",
       "3          5            4           8            5             4           4   \n",
       "4          5            4           8            1             3           4   \n",
       "\n",
       "   Fence  HasGasHeating  Electrical_combined  GarageType_combined  \\\n",
       "0      4              1                    1                    1   \n",
       "1      1              1                    1                    1   \n",
       "2      4              1                    1                    1   \n",
       "3      1              1                    1                    1   \n",
       "4      1              1                    1                    1   \n",
       "\n",
       "   GarageQual_combined  Garage_combined  SaleType_combined  HasPavedDrive  \\\n",
       "0                    2              3.0                  1              0   \n",
       "1                    2              3.0                  1              0   \n",
       "2                    2              3.0                  1              0   \n",
       "3                    2              3.0                  1              0   \n",
       "4                    2              3.0                  1              0   \n",
       "\n",
       "   HasPavedDrive_combined  SaleCond_combined  HasCentralAir  \n",
       "0                     1.0                  1              1  \n",
       "1                     1.0                  1              1  \n",
       "2                     1.0                  1              1  \n",
       "3                     1.0                  1              1  \n",
       "4                     1.0                  1              1  "
      ]
     },
     "execution_count": 100,
     "metadata": {},
     "output_type": "execute_result"
    }
   ],
   "source": [
    "# Examine Data \n",
    "kailun_test.head()"
   ]
  },
  {
   "cell_type": "code",
   "execution_count": 98,
   "metadata": {},
   "outputs": [],
   "source": [
    "rich_test= rich_test.drop('Unnamed: 0', axis=1)\n",
    "jon_test= jon_test.drop('Unnamed: 0', axis=1)"
   ]
  },
  {
   "cell_type": "code",
   "execution_count": 77,
   "metadata": {},
   "outputs": [],
   "source": [
    "# Note this is not needed for Test data set since there are no outliers \n",
    "Id= np.array(jon['Id'])-1\n",
    "jon['Id']= Id\n",
    "#house_data= house_data.drop(['SalePrice', 'SalePrice_log'], axis=1)\n",
    "jon= jon.drop(['Unnamed: 0'], axis=1)"
   ]
  },
  {
   "cell_type": "code",
   "execution_count": 63,
   "metadata": {},
   "outputs": [],
   "source": [
    "train_all_cat=pd.merge(kailun, rich, how= 'left', left_on= 'Id', right_on= rich.index)"
   ]
  },
  {
   "cell_type": "code",
   "execution_count": 101,
   "metadata": {},
   "outputs": [],
   "source": [
    "test_all_cat=pd.merge(jon_test, rich_test, how= 'left', left_on= 'Id', right_on= 'Id')"
   ]
  },
  {
   "cell_type": "code",
   "execution_count": 65,
   "metadata": {},
   "outputs": [],
   "source": [
    "drop=['Id_x', 'Id_y', 'Unnamed: 0', ]\n",
    "train_all_cat= train_all_cat.drop('Unnamed: 0', axis=1)"
   ]
  },
  {
   "cell_type": "code",
   "execution_count": 79,
   "metadata": {},
   "outputs": [],
   "source": [
    "train_all_final= pd.merge(jon, train_all_cat, how='left', left_on= 'Id', right_on= 'Id')"
   ]
  },
  {
   "cell_type": "code",
   "execution_count": 104,
   "metadata": {},
   "outputs": [],
   "source": [
    "test_all_final=pd.merge(test_all_cat, kailun_test, how= 'left', left_on= 'Id', right_on= 'Id')"
   ]
  },
  {
   "cell_type": "code",
   "execution_count": 86,
   "metadata": {},
   "outputs": [],
   "source": [
    "drop=['SalePrice_x','SalePrice_log_x']\n",
    "train_all_final=train_all_final.drop(drop, axis=1)"
   ]
  },
  {
   "cell_type": "code",
   "execution_count": 105,
   "metadata": {},
   "outputs": [
    {
     "data": {
      "text/html": [
       "<div>\n",
       "<style scoped>\n",
       "    .dataframe tbody tr th:only-of-type {\n",
       "        vertical-align: middle;\n",
       "    }\n",
       "\n",
       "    .dataframe tbody tr th {\n",
       "        vertical-align: top;\n",
       "    }\n",
       "\n",
       "    .dataframe thead th {\n",
       "        text-align: right;\n",
       "    }\n",
       "</style>\n",
       "<table border=\"1\" class=\"dataframe\">\n",
       "  <thead>\n",
       "    <tr style=\"text-align: right;\">\n",
       "      <th></th>\n",
       "      <th>Id</th>\n",
       "      <th>LotFrontage</th>\n",
       "      <th>LotArea</th>\n",
       "      <th>OverallQual</th>\n",
       "      <th>OverallCond</th>\n",
       "      <th>YearBuilt</th>\n",
       "      <th>YearRemodAdd</th>\n",
       "      <th>MasVnrArea</th>\n",
       "      <th>BsmtFinSF1</th>\n",
       "      <th>BsmtFinSF2</th>\n",
       "      <th>BsmtUnfSF</th>\n",
       "      <th>TotalBsmtSF</th>\n",
       "      <th>1stFlrSF</th>\n",
       "      <th>2ndFlrSF</th>\n",
       "      <th>LowQualFinSF</th>\n",
       "      <th>GrLivArea</th>\n",
       "      <th>BsmtFullBath</th>\n",
       "      <th>BsmtHalfBath</th>\n",
       "      <th>FullBath</th>\n",
       "      <th>HalfBath</th>\n",
       "      <th>BedroomAbvGr</th>\n",
       "      <th>KitchenAbvGr</th>\n",
       "      <th>TotRmsAbvGrd</th>\n",
       "      <th>Fireplaces</th>\n",
       "      <th>GarageYrBlt</th>\n",
       "      <th>GarageCars</th>\n",
       "      <th>GarageArea</th>\n",
       "      <th>WoodDeckSF</th>\n",
       "      <th>OpenPorchSF</th>\n",
       "      <th>EnclosedPorch</th>\n",
       "      <th>3SsnPorch</th>\n",
       "      <th>ScreenPorch</th>\n",
       "      <th>PoolArea</th>\n",
       "      <th>MiscVal</th>\n",
       "      <th>MoSold</th>\n",
       "      <th>YrSold</th>\n",
       "      <th>MSZoning</th>\n",
       "      <th>Street</th>\n",
       "      <th>Alley</th>\n",
       "      <th>LotShape</th>\n",
       "      <th>LandContour</th>\n",
       "      <th>Utilities</th>\n",
       "      <th>LotConfig</th>\n",
       "      <th>LandSlope</th>\n",
       "      <th>Neighborhood</th>\n",
       "      <th>Condition1</th>\n",
       "      <th>Condition2</th>\n",
       "      <th>BldgType</th>\n",
       "      <th>HouseStyle</th>\n",
       "      <th>RoofStyle</th>\n",
       "      <th>RoofMatl</th>\n",
       "      <th>Exterior1st</th>\n",
       "      <th>Exterior2nd</th>\n",
       "      <th>MasVnrType</th>\n",
       "      <th>ExterQual</th>\n",
       "      <th>ExterCond</th>\n",
       "      <th>Foundation</th>\n",
       "      <th>BsmtQual</th>\n",
       "      <th>BsmtCond</th>\n",
       "      <th>BsmtExposure</th>\n",
       "      <th>BsmtFinType1</th>\n",
       "      <th>BsmtFinType2</th>\n",
       "      <th>HeatingQC</th>\n",
       "      <th>KitchenQual</th>\n",
       "      <th>Functional</th>\n",
       "      <th>FireplaceQu</th>\n",
       "      <th>GarageFinish</th>\n",
       "      <th>GarageCond</th>\n",
       "      <th>Fence</th>\n",
       "      <th>HasGasHeating</th>\n",
       "      <th>Electrical_combined</th>\n",
       "      <th>GarageType_combined</th>\n",
       "      <th>GarageQual_combined</th>\n",
       "      <th>Garage_combined</th>\n",
       "      <th>SaleType_combined</th>\n",
       "      <th>HasPavedDrive</th>\n",
       "      <th>HasPavedDrive_combined</th>\n",
       "      <th>SaleCond_combined</th>\n",
       "      <th>HasCentralAir</th>\n",
       "    </tr>\n",
       "  </thead>\n",
       "  <tbody>\n",
       "    <tr>\n",
       "      <td>0</td>\n",
       "      <td>1461</td>\n",
       "      <td>80.0</td>\n",
       "      <td>11622</td>\n",
       "      <td>5</td>\n",
       "      <td>6</td>\n",
       "      <td>1961</td>\n",
       "      <td>1961</td>\n",
       "      <td>0.0</td>\n",
       "      <td>468</td>\n",
       "      <td>144</td>\n",
       "      <td>270</td>\n",
       "      <td>882</td>\n",
       "      <td>896</td>\n",
       "      <td>0</td>\n",
       "      <td>0</td>\n",
       "      <td>896</td>\n",
       "      <td>0</td>\n",
       "      <td>0</td>\n",
       "      <td>1</td>\n",
       "      <td>0</td>\n",
       "      <td>2</td>\n",
       "      <td>1</td>\n",
       "      <td>5</td>\n",
       "      <td>0</td>\n",
       "      <td>1961</td>\n",
       "      <td>1</td>\n",
       "      <td>730</td>\n",
       "      <td>140</td>\n",
       "      <td>0</td>\n",
       "      <td>0</td>\n",
       "      <td>0</td>\n",
       "      <td>120</td>\n",
       "      <td>0</td>\n",
       "      <td>0</td>\n",
       "      <td>6</td>\n",
       "      <td>2010</td>\n",
       "      <td>3.0</td>\n",
       "      <td>2</td>\n",
       "      <td>3</td>\n",
       "      <td>1</td>\n",
       "      <td>4</td>\n",
       "      <td>1.0</td>\n",
       "      <td>5</td>\n",
       "      <td>1</td>\n",
       "      <td>13</td>\n",
       "      <td>2</td>\n",
       "      <td>3</td>\n",
       "      <td>1</td>\n",
       "      <td>3</td>\n",
       "      <td>2</td>\n",
       "      <td>1</td>\n",
       "      <td>11.0</td>\n",
       "      <td>14.0</td>\n",
       "      <td>3</td>\n",
       "      <td>3</td>\n",
       "      <td>3</td>\n",
       "      <td>2</td>\n",
       "      <td>NaN</td>\n",
       "      <td>NaN</td>\n",
       "      <td>NaN</td>\n",
       "      <td>NaN</td>\n",
       "      <td>NaN</td>\n",
       "      <td>NaN</td>\n",
       "      <td>NaN</td>\n",
       "      <td>NaN</td>\n",
       "      <td>NaN</td>\n",
       "      <td>NaN</td>\n",
       "      <td>NaN</td>\n",
       "      <td>NaN</td>\n",
       "      <td>NaN</td>\n",
       "      <td>NaN</td>\n",
       "      <td>NaN</td>\n",
       "      <td>NaN</td>\n",
       "      <td>NaN</td>\n",
       "      <td>NaN</td>\n",
       "      <td>NaN</td>\n",
       "      <td>NaN</td>\n",
       "      <td>NaN</td>\n",
       "      <td>NaN</td>\n",
       "    </tr>\n",
       "    <tr>\n",
       "      <td>1</td>\n",
       "      <td>1462</td>\n",
       "      <td>81.0</td>\n",
       "      <td>14267</td>\n",
       "      <td>6</td>\n",
       "      <td>6</td>\n",
       "      <td>1958</td>\n",
       "      <td>1958</td>\n",
       "      <td>108.0</td>\n",
       "      <td>923</td>\n",
       "      <td>0</td>\n",
       "      <td>406</td>\n",
       "      <td>1329</td>\n",
       "      <td>1329</td>\n",
       "      <td>0</td>\n",
       "      <td>0</td>\n",
       "      <td>1329</td>\n",
       "      <td>0</td>\n",
       "      <td>0</td>\n",
       "      <td>1</td>\n",
       "      <td>1</td>\n",
       "      <td>3</td>\n",
       "      <td>1</td>\n",
       "      <td>6</td>\n",
       "      <td>0</td>\n",
       "      <td>1958</td>\n",
       "      <td>1</td>\n",
       "      <td>312</td>\n",
       "      <td>393</td>\n",
       "      <td>36</td>\n",
       "      <td>0</td>\n",
       "      <td>0</td>\n",
       "      <td>0</td>\n",
       "      <td>0</td>\n",
       "      <td>12500</td>\n",
       "      <td>6</td>\n",
       "      <td>2010</td>\n",
       "      <td>4.0</td>\n",
       "      <td>2</td>\n",
       "      <td>3</td>\n",
       "      <td>2</td>\n",
       "      <td>4</td>\n",
       "      <td>1.0</td>\n",
       "      <td>1</td>\n",
       "      <td>1</td>\n",
       "      <td>13</td>\n",
       "      <td>3</td>\n",
       "      <td>3</td>\n",
       "      <td>1</td>\n",
       "      <td>3</td>\n",
       "      <td>4</td>\n",
       "      <td>1</td>\n",
       "      <td>12.0</td>\n",
       "      <td>15.0</td>\n",
       "      <td>2</td>\n",
       "      <td>3</td>\n",
       "      <td>3</td>\n",
       "      <td>2</td>\n",
       "      <td>NaN</td>\n",
       "      <td>NaN</td>\n",
       "      <td>NaN</td>\n",
       "      <td>NaN</td>\n",
       "      <td>NaN</td>\n",
       "      <td>NaN</td>\n",
       "      <td>NaN</td>\n",
       "      <td>NaN</td>\n",
       "      <td>NaN</td>\n",
       "      <td>NaN</td>\n",
       "      <td>NaN</td>\n",
       "      <td>NaN</td>\n",
       "      <td>NaN</td>\n",
       "      <td>NaN</td>\n",
       "      <td>NaN</td>\n",
       "      <td>NaN</td>\n",
       "      <td>NaN</td>\n",
       "      <td>NaN</td>\n",
       "      <td>NaN</td>\n",
       "      <td>NaN</td>\n",
       "      <td>NaN</td>\n",
       "      <td>NaN</td>\n",
       "    </tr>\n",
       "    <tr>\n",
       "      <td>2</td>\n",
       "      <td>1463</td>\n",
       "      <td>74.0</td>\n",
       "      <td>13830</td>\n",
       "      <td>5</td>\n",
       "      <td>5</td>\n",
       "      <td>1997</td>\n",
       "      <td>1998</td>\n",
       "      <td>0.0</td>\n",
       "      <td>791</td>\n",
       "      <td>0</td>\n",
       "      <td>137</td>\n",
       "      <td>928</td>\n",
       "      <td>928</td>\n",
       "      <td>701</td>\n",
       "      <td>0</td>\n",
       "      <td>1629</td>\n",
       "      <td>0</td>\n",
       "      <td>0</td>\n",
       "      <td>2</td>\n",
       "      <td>1</td>\n",
       "      <td>3</td>\n",
       "      <td>1</td>\n",
       "      <td>6</td>\n",
       "      <td>1</td>\n",
       "      <td>1997</td>\n",
       "      <td>2</td>\n",
       "      <td>482</td>\n",
       "      <td>212</td>\n",
       "      <td>34</td>\n",
       "      <td>0</td>\n",
       "      <td>0</td>\n",
       "      <td>0</td>\n",
       "      <td>0</td>\n",
       "      <td>0</td>\n",
       "      <td>3</td>\n",
       "      <td>2010</td>\n",
       "      <td>4.0</td>\n",
       "      <td>2</td>\n",
       "      <td>3</td>\n",
       "      <td>2</td>\n",
       "      <td>4</td>\n",
       "      <td>1.0</td>\n",
       "      <td>5</td>\n",
       "      <td>1</td>\n",
       "      <td>9</td>\n",
       "      <td>3</td>\n",
       "      <td>3</td>\n",
       "      <td>1</td>\n",
       "      <td>5</td>\n",
       "      <td>2</td>\n",
       "      <td>1</td>\n",
       "      <td>11.0</td>\n",
       "      <td>14.0</td>\n",
       "      <td>3</td>\n",
       "      <td>3</td>\n",
       "      <td>3</td>\n",
       "      <td>3</td>\n",
       "      <td>NaN</td>\n",
       "      <td>NaN</td>\n",
       "      <td>NaN</td>\n",
       "      <td>NaN</td>\n",
       "      <td>NaN</td>\n",
       "      <td>NaN</td>\n",
       "      <td>NaN</td>\n",
       "      <td>NaN</td>\n",
       "      <td>NaN</td>\n",
       "      <td>NaN</td>\n",
       "      <td>NaN</td>\n",
       "      <td>NaN</td>\n",
       "      <td>NaN</td>\n",
       "      <td>NaN</td>\n",
       "      <td>NaN</td>\n",
       "      <td>NaN</td>\n",
       "      <td>NaN</td>\n",
       "      <td>NaN</td>\n",
       "      <td>NaN</td>\n",
       "      <td>NaN</td>\n",
       "      <td>NaN</td>\n",
       "      <td>NaN</td>\n",
       "    </tr>\n",
       "    <tr>\n",
       "      <td>3</td>\n",
       "      <td>1464</td>\n",
       "      <td>78.0</td>\n",
       "      <td>9978</td>\n",
       "      <td>6</td>\n",
       "      <td>6</td>\n",
       "      <td>1998</td>\n",
       "      <td>1998</td>\n",
       "      <td>20.0</td>\n",
       "      <td>602</td>\n",
       "      <td>0</td>\n",
       "      <td>324</td>\n",
       "      <td>926</td>\n",
       "      <td>926</td>\n",
       "      <td>678</td>\n",
       "      <td>0</td>\n",
       "      <td>1604</td>\n",
       "      <td>0</td>\n",
       "      <td>0</td>\n",
       "      <td>2</td>\n",
       "      <td>1</td>\n",
       "      <td>3</td>\n",
       "      <td>1</td>\n",
       "      <td>7</td>\n",
       "      <td>1</td>\n",
       "      <td>1998</td>\n",
       "      <td>2</td>\n",
       "      <td>470</td>\n",
       "      <td>360</td>\n",
       "      <td>36</td>\n",
       "      <td>0</td>\n",
       "      <td>0</td>\n",
       "      <td>0</td>\n",
       "      <td>0</td>\n",
       "      <td>0</td>\n",
       "      <td>6</td>\n",
       "      <td>2010</td>\n",
       "      <td>4.0</td>\n",
       "      <td>2</td>\n",
       "      <td>3</td>\n",
       "      <td>2</td>\n",
       "      <td>4</td>\n",
       "      <td>1.0</td>\n",
       "      <td>5</td>\n",
       "      <td>1</td>\n",
       "      <td>9</td>\n",
       "      <td>3</td>\n",
       "      <td>3</td>\n",
       "      <td>1</td>\n",
       "      <td>5</td>\n",
       "      <td>2</td>\n",
       "      <td>1</td>\n",
       "      <td>11.0</td>\n",
       "      <td>14.0</td>\n",
       "      <td>2</td>\n",
       "      <td>3</td>\n",
       "      <td>3</td>\n",
       "      <td>3</td>\n",
       "      <td>NaN</td>\n",
       "      <td>NaN</td>\n",
       "      <td>NaN</td>\n",
       "      <td>NaN</td>\n",
       "      <td>NaN</td>\n",
       "      <td>NaN</td>\n",
       "      <td>NaN</td>\n",
       "      <td>NaN</td>\n",
       "      <td>NaN</td>\n",
       "      <td>NaN</td>\n",
       "      <td>NaN</td>\n",
       "      <td>NaN</td>\n",
       "      <td>NaN</td>\n",
       "      <td>NaN</td>\n",
       "      <td>NaN</td>\n",
       "      <td>NaN</td>\n",
       "      <td>NaN</td>\n",
       "      <td>NaN</td>\n",
       "      <td>NaN</td>\n",
       "      <td>NaN</td>\n",
       "      <td>NaN</td>\n",
       "      <td>NaN</td>\n",
       "    </tr>\n",
       "    <tr>\n",
       "      <td>4</td>\n",
       "      <td>1465</td>\n",
       "      <td>43.0</td>\n",
       "      <td>5005</td>\n",
       "      <td>8</td>\n",
       "      <td>5</td>\n",
       "      <td>1992</td>\n",
       "      <td>1992</td>\n",
       "      <td>0.0</td>\n",
       "      <td>263</td>\n",
       "      <td>0</td>\n",
       "      <td>1017</td>\n",
       "      <td>1280</td>\n",
       "      <td>1280</td>\n",
       "      <td>0</td>\n",
       "      <td>0</td>\n",
       "      <td>1280</td>\n",
       "      <td>0</td>\n",
       "      <td>0</td>\n",
       "      <td>2</td>\n",
       "      <td>0</td>\n",
       "      <td>2</td>\n",
       "      <td>1</td>\n",
       "      <td>5</td>\n",
       "      <td>0</td>\n",
       "      <td>1992</td>\n",
       "      <td>2</td>\n",
       "      <td>506</td>\n",
       "      <td>0</td>\n",
       "      <td>82</td>\n",
       "      <td>0</td>\n",
       "      <td>0</td>\n",
       "      <td>144</td>\n",
       "      <td>0</td>\n",
       "      <td>0</td>\n",
       "      <td>1</td>\n",
       "      <td>2010</td>\n",
       "      <td>4.0</td>\n",
       "      <td>2</td>\n",
       "      <td>3</td>\n",
       "      <td>2</td>\n",
       "      <td>2</td>\n",
       "      <td>1.0</td>\n",
       "      <td>5</td>\n",
       "      <td>1</td>\n",
       "      <td>22</td>\n",
       "      <td>3</td>\n",
       "      <td>3</td>\n",
       "      <td>5</td>\n",
       "      <td>3</td>\n",
       "      <td>2</td>\n",
       "      <td>1</td>\n",
       "      <td>7.0</td>\n",
       "      <td>8.0</td>\n",
       "      <td>3</td>\n",
       "      <td>4</td>\n",
       "      <td>3</td>\n",
       "      <td>3</td>\n",
       "      <td>NaN</td>\n",
       "      <td>NaN</td>\n",
       "      <td>NaN</td>\n",
       "      <td>NaN</td>\n",
       "      <td>NaN</td>\n",
       "      <td>NaN</td>\n",
       "      <td>NaN</td>\n",
       "      <td>NaN</td>\n",
       "      <td>NaN</td>\n",
       "      <td>NaN</td>\n",
       "      <td>NaN</td>\n",
       "      <td>NaN</td>\n",
       "      <td>NaN</td>\n",
       "      <td>NaN</td>\n",
       "      <td>NaN</td>\n",
       "      <td>NaN</td>\n",
       "      <td>NaN</td>\n",
       "      <td>NaN</td>\n",
       "      <td>NaN</td>\n",
       "      <td>NaN</td>\n",
       "      <td>NaN</td>\n",
       "      <td>NaN</td>\n",
       "    </tr>\n",
       "  </tbody>\n",
       "</table>\n",
       "</div>"
      ],
      "text/plain": [
       "     Id  LotFrontage  LotArea  OverallQual  OverallCond  YearBuilt  \\\n",
       "0  1461         80.0    11622            5            6       1961   \n",
       "1  1462         81.0    14267            6            6       1958   \n",
       "2  1463         74.0    13830            5            5       1997   \n",
       "3  1464         78.0     9978            6            6       1998   \n",
       "4  1465         43.0     5005            8            5       1992   \n",
       "\n",
       "   YearRemodAdd  MasVnrArea  BsmtFinSF1  BsmtFinSF2  BsmtUnfSF  TotalBsmtSF  \\\n",
       "0          1961         0.0         468         144        270          882   \n",
       "1          1958       108.0         923           0        406         1329   \n",
       "2          1998         0.0         791           0        137          928   \n",
       "3          1998        20.0         602           0        324          926   \n",
       "4          1992         0.0         263           0       1017         1280   \n",
       "\n",
       "   1stFlrSF  2ndFlrSF  LowQualFinSF  GrLivArea  BsmtFullBath  BsmtHalfBath  \\\n",
       "0       896         0             0        896             0             0   \n",
       "1      1329         0             0       1329             0             0   \n",
       "2       928       701             0       1629             0             0   \n",
       "3       926       678             0       1604             0             0   \n",
       "4      1280         0             0       1280             0             0   \n",
       "\n",
       "   FullBath  HalfBath  BedroomAbvGr  KitchenAbvGr  TotRmsAbvGrd  Fireplaces  \\\n",
       "0         1         0             2             1             5           0   \n",
       "1         1         1             3             1             6           0   \n",
       "2         2         1             3             1             6           1   \n",
       "3         2         1             3             1             7           1   \n",
       "4         2         0             2             1             5           0   \n",
       "\n",
       "   GarageYrBlt  GarageCars GarageArea  WoodDeckSF  OpenPorchSF  EnclosedPorch  \\\n",
       "0         1961           1        730         140            0              0   \n",
       "1         1958           1        312         393           36              0   \n",
       "2         1997           2        482         212           34              0   \n",
       "3         1998           2        470         360           36              0   \n",
       "4         1992           2        506           0           82              0   \n",
       "\n",
       "   3SsnPorch  ScreenPorch  PoolArea  MiscVal  MoSold  YrSold  MSZoning  \\\n",
       "0          0          120         0        0       6    2010       3.0   \n",
       "1          0            0         0    12500       6    2010       4.0   \n",
       "2          0            0         0        0       3    2010       4.0   \n",
       "3          0            0         0        0       6    2010       4.0   \n",
       "4          0          144         0        0       1    2010       4.0   \n",
       "\n",
       "   Street  Alley  LotShape  LandContour  Utilities  LotConfig  LandSlope  \\\n",
       "0       2      3         1            4        1.0          5          1   \n",
       "1       2      3         2            4        1.0          1          1   \n",
       "2       2      3         2            4        1.0          5          1   \n",
       "3       2      3         2            4        1.0          5          1   \n",
       "4       2      3         2            2        1.0          5          1   \n",
       "\n",
       "   Neighborhood  Condition1  Condition2  BldgType  HouseStyle  RoofStyle  \\\n",
       "0            13           2           3         1           3          2   \n",
       "1            13           3           3         1           3          4   \n",
       "2             9           3           3         1           5          2   \n",
       "3             9           3           3         1           5          2   \n",
       "4            22           3           3         5           3          2   \n",
       "\n",
       "   RoofMatl  Exterior1st  Exterior2nd  MasVnrType  ExterQual  ExterCond  \\\n",
       "0         1         11.0         14.0           3          3          3   \n",
       "1         1         12.0         15.0           2          3          3   \n",
       "2         1         11.0         14.0           3          3          3   \n",
       "3         1         11.0         14.0           2          3          3   \n",
       "4         1          7.0          8.0           3          4          3   \n",
       "\n",
       "   Foundation  BsmtQual  BsmtCond  BsmtExposure  BsmtFinType1  BsmtFinType2  \\\n",
       "0           2       NaN       NaN           NaN           NaN           NaN   \n",
       "1           2       NaN       NaN           NaN           NaN           NaN   \n",
       "2           3       NaN       NaN           NaN           NaN           NaN   \n",
       "3           3       NaN       NaN           NaN           NaN           NaN   \n",
       "4           3       NaN       NaN           NaN           NaN           NaN   \n",
       "\n",
       "   HeatingQC  KitchenQual  Functional  FireplaceQu  GarageFinish  GarageCond  \\\n",
       "0        NaN          NaN         NaN          NaN           NaN         NaN   \n",
       "1        NaN          NaN         NaN          NaN           NaN         NaN   \n",
       "2        NaN          NaN         NaN          NaN           NaN         NaN   \n",
       "3        NaN          NaN         NaN          NaN           NaN         NaN   \n",
       "4        NaN          NaN         NaN          NaN           NaN         NaN   \n",
       "\n",
       "   Fence  HasGasHeating  Electrical_combined  GarageType_combined  \\\n",
       "0    NaN            NaN                  NaN                  NaN   \n",
       "1    NaN            NaN                  NaN                  NaN   \n",
       "2    NaN            NaN                  NaN                  NaN   \n",
       "3    NaN            NaN                  NaN                  NaN   \n",
       "4    NaN            NaN                  NaN                  NaN   \n",
       "\n",
       "   GarageQual_combined  Garage_combined  SaleType_combined  HasPavedDrive  \\\n",
       "0                  NaN              NaN                NaN            NaN   \n",
       "1                  NaN              NaN                NaN            NaN   \n",
       "2                  NaN              NaN                NaN            NaN   \n",
       "3                  NaN              NaN                NaN            NaN   \n",
       "4                  NaN              NaN                NaN            NaN   \n",
       "\n",
       "   HasPavedDrive_combined  SaleCond_combined  HasCentralAir  \n",
       "0                     NaN                NaN            NaN  \n",
       "1                     NaN                NaN            NaN  \n",
       "2                     NaN                NaN            NaN  \n",
       "3                     NaN                NaN            NaN  \n",
       "4                     NaN                NaN            NaN  "
      ]
     },
     "execution_count": 105,
     "metadata": {},
     "output_type": "execute_result"
    }
   ],
   "source": [
    "test_all_final.head()"
   ]
  },
  {
   "cell_type": "code",
   "execution_count": null,
   "metadata": {},
   "outputs": [],
   "source": [
    "cat_var_RK= ['Alley','BldgType','Exterior1st', 'Condition1', 'Condition2', 'Exterior2nd', 'Foundation', 'HouseStyle', \n",
    "             'LandContour','LotConfig', 'MasVnrType', 'MSSubClass', 'MSZoning', 'RoofMatl', 'Street', 'Utilities']\n",
    "ord_var_RK= ['ExterCond', 'ExterQual', 'LandSlope', 'LotShape']"
   ]
  },
  {
   "cell_type": "code",
   "execution_count": null,
   "metadata": {},
   "outputs": [],
   "source": [
    "cat_var_KC= ['HasGasHeating', 'Electrical_combined', 'CentralAir_Y', 'GarageType_Combined', \n",
    "             'GarageQual_combined','HasPavedDrive', 'SaleType_combined', 'SalesCond_Combined']\n",
    "ord_var_KC= ['BsmtQual', 'BsmtCond', 'BsmtExposure', 'BsmtFinType1', 'BsmtFinType2', 'HeatingQC',\n",
    "            'KitchenQual', 'Functional', 'FireplaceQu', 'GarageFinish', 'GarageCond', 'Fence']"
   ]
  },
  {
   "cell_type": "code",
   "execution_count": null,
   "metadata": {},
   "outputs": [],
   "source": [
    "cat_var_JH= ['MoSold','YrSold', 'GarageYrBlt']"
   ]
  },
  {
   "cell_type": "code",
   "execution_count": 88,
   "metadata": {},
   "outputs": [],
   "source": [
    "train_all_final.to_csv('train_all_final.csv')"
   ]
  },
  {
   "cell_type": "code",
   "execution_count": 106,
   "metadata": {},
   "outputs": [],
   "source": [
    "test_all_final.to_csv('test_all_final.csv')"
   ]
  },
  {
   "cell_type": "code",
   "execution_count": null,
   "metadata": {},
   "outputs": [],
   "source": []
  }
 ],
 "metadata": {
  "kernelspec": {
   "display_name": "Python 3",
   "language": "python",
   "name": "python3"
  },
  "language_info": {
   "codemirror_mode": {
    "name": "ipython",
    "version": 3
   },
   "file_extension": ".py",
   "mimetype": "text/x-python",
   "name": "python",
   "nbconvert_exporter": "python",
   "pygments_lexer": "ipython3",
   "version": "3.7.4"
  }
 },
 "nbformat": 4,
 "nbformat_minor": 2
}
