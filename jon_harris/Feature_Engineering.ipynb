{
 "cells": [
  {
   "cell_type": "markdown",
   "metadata": {},
   "source": [
    "## Import Data"
   ]
  },
  {
   "cell_type": "code",
   "execution_count": 26,
   "metadata": {},
   "outputs": [
    {
     "name": "stdout",
     "output_type": "stream",
     "text": [
      "The nb_black extension is already loaded. To reload it, use:\n",
      "  %reload_ext nb_black\n"
     ]
    },
    {
     "data": {
      "application/javascript": [
       "\n",
       "            setTimeout(function() {\n",
       "                var nbb_cell_id = 26;\n",
       "                var nbb_unformatted_code = \"# Setup Packages\\nimport numpy as np\\nimport pandas as pd\\nimport matplotlib.pyplot as plt\\nimport seaborn as sns\\nimport math\\nfrom scipy import stats\\nfrom scipy.stats import norm, skew\\nfrom scipy.stats import pearsonr\\nfrom sklearn.impute import SimpleImputer\\n\\n%matplotlib inline\\n\\n# Used for auto-formatting code\\n# terminal - pip install nb_black\\n%load_ext nb_black\\n\\n# Display all rows and columns\\npd.set_option(\\\"display.max_columns\\\", None)\\npd.set_option(\\\"display.max_rows\\\", None)\";\n",
       "                var nbb_formatted_code = \"# Setup Packages\\nimport numpy as np\\nimport pandas as pd\\nimport matplotlib.pyplot as plt\\nimport seaborn as sns\\nimport math\\nfrom scipy import stats\\nfrom scipy.stats import norm, skew\\nfrom scipy.stats import pearsonr\\nfrom sklearn.impute import SimpleImputer\\n\\n%matplotlib inline\\n\\n# Used for auto-formatting code\\n# terminal - pip install nb_black\\n%load_ext nb_black\\n\\n# Display all rows and columns\\npd.set_option(\\\"display.max_columns\\\", None)\\npd.set_option(\\\"display.max_rows\\\", None)\";\n",
       "                var nbb_cells = Jupyter.notebook.get_cells();\n",
       "                for (var i = 0; i < nbb_cells.length; ++i) {\n",
       "                    if (nbb_cells[i].input_prompt_number == nbb_cell_id) {\n",
       "                        if (nbb_cells[i].get_text() == nbb_unformatted_code) {\n",
       "                             nbb_cells[i].set_text(nbb_formatted_code);\n",
       "                        }\n",
       "                        break;\n",
       "                    }\n",
       "                }\n",
       "            }, 500);\n",
       "            "
      ],
      "text/plain": [
       "<IPython.core.display.Javascript object>"
      ]
     },
     "metadata": {},
     "output_type": "display_data"
    }
   ],
   "source": [
    "# Setup Packages\n",
    "import numpy as np\n",
    "import pandas as pd\n",
    "import matplotlib.pyplot as plt\n",
    "import seaborn as sns\n",
    "import math\n",
    "from scipy import stats\n",
    "from scipy.stats import norm, skew\n",
    "from scipy.stats import pearsonr\n",
    "from sklearn.impute import SimpleImputer\n",
    "\n",
    "%matplotlib inline\n",
    "\n",
    "# Used for auto-formatting code\n",
    "# terminal - pip install nb_black\n",
    "%load_ext nb_black\n",
    "\n",
    "# Display all rows and columns\n",
    "pd.set_option(\"display.max_columns\", None)\n",
    "pd.set_option(\"display.max_rows\", None)"
   ]
  },
  {
   "cell_type": "code",
   "execution_count": 4,
   "metadata": {},
   "outputs": [
    {
     "data": {
      "application/javascript": [
       "\n",
       "            setTimeout(function() {\n",
       "                var nbb_cell_id = 4;\n",
       "                var nbb_unformatted_code = \"house_data = pd.read_csv(\\\"train.csv\\\")\";\n",
       "                var nbb_formatted_code = \"house_data = pd.read_csv(\\\"train.csv\\\")\";\n",
       "                var nbb_cells = Jupyter.notebook.get_cells();\n",
       "                for (var i = 0; i < nbb_cells.length; ++i) {\n",
       "                    if (nbb_cells[i].input_prompt_number == nbb_cell_id) {\n",
       "                        if (nbb_cells[i].get_text() == nbb_unformatted_code) {\n",
       "                             nbb_cells[i].set_text(nbb_formatted_code);\n",
       "                        }\n",
       "                        break;\n",
       "                    }\n",
       "                }\n",
       "            }, 500);\n",
       "            "
      ],
      "text/plain": [
       "<IPython.core.display.Javascript object>"
      ]
     },
     "metadata": {},
     "output_type": "display_data"
    }
   ],
   "source": [
    "house_data = pd.read_csv(\"train.csv\")"
   ]
  },
  {
   "cell_type": "markdown",
   "metadata": {},
   "source": [
    "## Data Manipulation"
   ]
  },
  {
   "cell_type": "code",
   "execution_count": 5,
   "metadata": {},
   "outputs": [
    {
     "data": {
      "application/javascript": [
       "\n",
       "            setTimeout(function() {\n",
       "                var nbb_cell_id = 5;\n",
       "                var nbb_unformatted_code = \"#Log transform response variable\\nhouse_data[\\\"SalePrice_log\\\"] = np.log(house_data[\\\"SalePrice\\\"])\";\n",
       "                var nbb_formatted_code = \"# Log transform response variable\\nhouse_data[\\\"SalePrice_log\\\"] = np.log(house_data[\\\"SalePrice\\\"])\";\n",
       "                var nbb_cells = Jupyter.notebook.get_cells();\n",
       "                for (var i = 0; i < nbb_cells.length; ++i) {\n",
       "                    if (nbb_cells[i].input_prompt_number == nbb_cell_id) {\n",
       "                        if (nbb_cells[i].get_text() == nbb_unformatted_code) {\n",
       "                             nbb_cells[i].set_text(nbb_formatted_code);\n",
       "                        }\n",
       "                        break;\n",
       "                    }\n",
       "                }\n",
       "            }, 500);\n",
       "            "
      ],
      "text/plain": [
       "<IPython.core.display.Javascript object>"
      ]
     },
     "metadata": {},
     "output_type": "display_data"
    }
   ],
   "source": [
    "# Log transform response variable\n",
    "house_data[\"SalePrice_log\"] = np.log(house_data[\"SalePrice\"])"
   ]
  },
  {
   "cell_type": "markdown",
   "metadata": {},
   "source": [
    "### Impute Continuous Variables"
   ]
  },
  {
   "cell_type": "code",
   "execution_count": 22,
   "metadata": {},
   "outputs": [
    {
     "name": "stderr",
     "output_type": "stream",
     "text": [
      "/Users/jonathanharris/opt/anaconda3/lib/python3.7/site-packages/ipykernel_launcher.py:5: SettingWithCopyWarning: \n",
      "A value is trying to be set on a copy of a slice from a DataFrame\n",
      "\n",
      "See the caveats in the documentation: http://pandas.pydata.org/pandas-docs/stable/user_guide/indexing.html#returning-a-view-versus-a-copy\n",
      "  \"\"\"\n"
     ]
    },
    {
     "data": {
      "application/javascript": [
       "\n",
       "            setTimeout(function() {\n",
       "                var nbb_cell_id = 22;\n",
       "                var nbb_unformatted_code = \"# Impute Missing Values\\n\\n#Continuous Variables\\nidx = house_data.loc[ pd.isna(house_data[\\\"LotFrontage\\\"]), :].index\\nhouse_data[\\\"LotFrontage\\\"][idx] = house_data[\\\"LotFrontage\\\"].mean()\";\n",
       "                var nbb_formatted_code = \"# Impute Missing Values\\n\\n# Continuous Variables\\nidx = house_data.loc[pd.isna(house_data[\\\"LotFrontage\\\"]), :].index\\nhouse_data[\\\"LotFrontage\\\"][idx] = house_data[\\\"LotFrontage\\\"].mean()\";\n",
       "                var nbb_cells = Jupyter.notebook.get_cells();\n",
       "                for (var i = 0; i < nbb_cells.length; ++i) {\n",
       "                    if (nbb_cells[i].input_prompt_number == nbb_cell_id) {\n",
       "                        if (nbb_cells[i].get_text() == nbb_unformatted_code) {\n",
       "                             nbb_cells[i].set_text(nbb_formatted_code);\n",
       "                        }\n",
       "                        break;\n",
       "                    }\n",
       "                }\n",
       "            }, 500);\n",
       "            "
      ],
      "text/plain": [
       "<IPython.core.display.Javascript object>"
      ]
     },
     "metadata": {},
     "output_type": "display_data"
    }
   ],
   "source": [
    "#LotFrontage\n",
    "idx = house_data.loc[ pd.isna(house_data[\"LotFrontage\"]), :].index\n",
    "house_data[\"LotFrontage\"][idx] = house_data[\"LotFrontage\"].mean()\n",
    "\n",
    "#MasVnrArea\n",
    "idx = house_data.loc[ pd.isna(house_data[\"MasVnrArea\"]), :].index\n",
    "house_data[\"MasVnrArea\"][idx] = house_data[\"MasVnrArea\"].mean()"
   ]
  },
  {
   "cell_type": "markdown",
   "metadata": {},
   "source": [
    "## Feature Engineering"
   ]
  },
  {
   "cell_type": "code",
   "execution_count": 51,
   "metadata": {},
   "outputs": [
    {
     "data": {
      "application/javascript": [
       "\n",
       "            setTimeout(function() {\n",
       "                var nbb_cell_id = 51;\n",
       "                var nbb_unformatted_code = \"#Total area of house = Above ground living area + basement living area\\nhouse_data[\\\"TotalSF\\\"] = house_data[\\\"GrLivArea\\\"] + house_data[\\\"TotalBsmtSF\\\"]\\n\\n#Total finished area = Above ground living area + finished basement area\\n#house_data[\\\"TotalFinishSF\\\"] = house_data[\\\"GrLivArea\\\"] + house_data[\\\"BsmtFinSF1\\\"]\\n    #NOTE: BsmtFinSF1 isn't the finished basement area, just SF of Type 1 finish\\n    \\n#Has Second Floor = 0 (no) or 1 (yes)\\nhouse_data['Has2ndFl'] = house_data['2ndFlrSF']\\nhouse_data['Has2ndFl'].loc[ house_data['Has2ndFl'] > 0 ] = 1\\n\\n#Age = Year sold - year built\\nhouse_data[\\\"Age\\\"] = house_data[\\\"YrSold\\\"] + house_data[\\\"YearBuilt\\\"]\\n\\n#AgeRemod = Year sold - year remodeled\\nhouse_data[\\\"Age\\\"] = house_data[\\\"YrSold\\\"] + house_data[\\\"YearRemodAdd\\\"]\\n\\n#Total porch SF = OpenPorchSF + EnclosedSF + 3SsnPorch + ScreenPorch\\nhouse_data[\\\"TotPorchSF\\\"] = house_data[\\\"OpenPorchSF\\\"] + house_data[\\\"EnclosedPorch\\\"] + house_data[\\\"3SsnPorch\\\"] + house_data[\\\"ScreenPorch\\\"]\\n\\n#Has Porch = 0 (no) or 1 (yes)\\nhouse_data['HasPorch'] = house_data['TotPorchSF']\\nhouse_data['HasPorch'].loc[ house_data['HasPorch'] > 0 ] = 1\\n\\n#Has Deck = 0 (no) or 1 (yes)\\nhouse_data['HasDeck'] = house_data['WoodDeckSF']\\nhouse_data['HasDeck'].loc[ house_data['HasDeck'] > 0 ] = 1\\n\\n#Total bathrooms = Full bath + 0.5*Halfbath (for both house and basement)\\nhouse_data['TotBaths'] = house_data['FullBath'] + house_data['BsmtFullBath'] + 0.5*house_data['HalfBath'] + 0.5*house_data['BsmtHalfBath']\\n\\n#Has Pool = 0 (no) or 1 (yes)\\nhouse_data['HasPool'] = house_data['PoolArea']\\nhouse_data['HasPool'].loc[ house_data['HasPool'] > 0 ] = 1\\n\\n#Total number of car garage = 1, 2, 3+ cars\\nhouse_data['TotCarGarage'] = house_data['GarageCars']\\nhouse_data['TotCarGarage'].loc[ house_data['TotCarGarage'] >= 3 ] = 3\\n\\n#HasFirePlace = 0 (no), 1 (yes, not excellent quality), or 2 (excellent quality)\\nhouse_data['HasFirePlace'] = [1] * len(house_data['FireplaceQu'])\\nidx_none = house_data.index[house_data['FireplaceQu'].isna()]  # indexes of 0 fireplaces\\nidx_excel = house_data.index[ house_data['FireplaceQu'] == 'Ex' ]  # indexes of excellent\\nhouse_data['HasFirePlace'].idx_none = 0\\nhouse_data['HasFirePlace'].idx_excel = 2\";\n",
       "                var nbb_formatted_code = \"# Total area of house = Above ground living area + basement living area\\nhouse_data[\\\"TotalSF\\\"] = house_data[\\\"GrLivArea\\\"] + house_data[\\\"TotalBsmtSF\\\"]\\n\\n# Total finished area = Above ground living area + finished basement area\\n# house_data[\\\"TotalFinishSF\\\"] = house_data[\\\"GrLivArea\\\"] + house_data[\\\"BsmtFinSF1\\\"]\\n# NOTE: BsmtFinSF1 isn't the finished basement area, just SF of Type 1 finish\\n\\n# Has Second Floor = 0 (no) or 1 (yes)\\nhouse_data[\\\"Has2ndFl\\\"] = house_data[\\\"2ndFlrSF\\\"]\\nhouse_data[\\\"Has2ndFl\\\"].loc[house_data[\\\"Has2ndFl\\\"] > 0] = 1\\n\\n# Age = Year sold - year built\\nhouse_data[\\\"Age\\\"] = house_data[\\\"YrSold\\\"] + house_data[\\\"YearBuilt\\\"]\\n\\n# AgeRemod = Year sold - year remodeled\\nhouse_data[\\\"Age\\\"] = house_data[\\\"YrSold\\\"] + house_data[\\\"YearRemodAdd\\\"]\\n\\n# Total porch SF = OpenPorchSF + EnclosedSF + 3SsnPorch + ScreenPorch\\nhouse_data[\\\"TotPorchSF\\\"] = (\\n    house_data[\\\"OpenPorchSF\\\"]\\n    + house_data[\\\"EnclosedPorch\\\"]\\n    + house_data[\\\"3SsnPorch\\\"]\\n    + house_data[\\\"ScreenPorch\\\"]\\n)\\n\\n# Has Porch = 0 (no) or 1 (yes)\\nhouse_data[\\\"HasPorch\\\"] = house_data[\\\"TotPorchSF\\\"]\\nhouse_data[\\\"HasPorch\\\"].loc[house_data[\\\"HasPorch\\\"] > 0] = 1\\n\\n# Has Deck = 0 (no) or 1 (yes)\\nhouse_data[\\\"HasDeck\\\"] = house_data[\\\"WoodDeckSF\\\"]\\nhouse_data[\\\"HasDeck\\\"].loc[house_data[\\\"HasDeck\\\"] > 0] = 1\\n\\n# Total bathrooms = Full bath + 0.5*Halfbath (for both house and basement)\\nhouse_data[\\\"TotBaths\\\"] = (\\n    house_data[\\\"FullBath\\\"]\\n    + house_data[\\\"BsmtFullBath\\\"]\\n    + 0.5 * house_data[\\\"HalfBath\\\"]\\n    + 0.5 * house_data[\\\"BsmtHalfBath\\\"]\\n)\\n\\n# Has Pool = 0 (no) or 1 (yes)\\nhouse_data[\\\"HasPool\\\"] = house_data[\\\"PoolArea\\\"]\\nhouse_data[\\\"HasPool\\\"].loc[house_data[\\\"HasPool\\\"] > 0] = 1\\n\\n# Total number of car garage = 1, 2, 3+ cars\\nhouse_data[\\\"TotCarGarage\\\"] = house_data[\\\"GarageCars\\\"]\\nhouse_data[\\\"TotCarGarage\\\"].loc[house_data[\\\"TotCarGarage\\\"] >= 3] = 3\\n\\n# HasFirePlace = 0 (no), 1 (yes, not excellent quality), or 2 (excellent quality)\\nhouse_data[\\\"HasFirePlace\\\"] = [1] * len(house_data[\\\"FireplaceQu\\\"])\\nidx_none = house_data.index[house_data[\\\"FireplaceQu\\\"].isna()]  # indexes of 0 fireplaces\\nidx_excel = house_data.index[house_data[\\\"FireplaceQu\\\"] == \\\"Ex\\\"]  # indexes of excellent\\nhouse_data[\\\"HasFirePlace\\\"].idx_none = 0\\nhouse_data[\\\"HasFirePlace\\\"].idx_excel = 2\";\n",
       "                var nbb_cells = Jupyter.notebook.get_cells();\n",
       "                for (var i = 0; i < nbb_cells.length; ++i) {\n",
       "                    if (nbb_cells[i].input_prompt_number == nbb_cell_id) {\n",
       "                        if (nbb_cells[i].get_text() == nbb_unformatted_code) {\n",
       "                             nbb_cells[i].set_text(nbb_formatted_code);\n",
       "                        }\n",
       "                        break;\n",
       "                    }\n",
       "                }\n",
       "            }, 500);\n",
       "            "
      ],
      "text/plain": [
       "<IPython.core.display.Javascript object>"
      ]
     },
     "metadata": {},
     "output_type": "display_data"
    }
   ],
   "source": [
    "#Total area of house = Above ground living area + basement living area\n",
    "house_data[\"TotalSF\"] = house_data[\"GrLivArea\"] + house_data[\"TotalBsmtSF\"]\n",
    "\n",
    "#Total finished area = Above ground living area + finished basement area\n",
    "#house_data[\"TotalFinishSF\"] = house_data[\"GrLivArea\"] + house_data[\"BsmtFinSF1\"]\n",
    "    #NOTE: BsmtFinSF1 isn't the finished basement area, just SF of Type 1 finish\n",
    "    \n",
    "#Has Second Floor = 0 (no) or 1 (yes)\n",
    "house_data['Has2ndFl'] = house_data['2ndFlrSF']\n",
    "house_data['Has2ndFl'].loc[ house_data['Has2ndFl'] > 0 ] = 1\n",
    "\n",
    "#Age = Year sold - year built\n",
    "house_data[\"Age\"] = house_data[\"YrSold\"] + house_data[\"YearBuilt\"]\n",
    "\n",
    "#AgeRemod = Year sold - year remodeled\n",
    "house_data[\"Age\"] = house_data[\"YrSold\"] + house_data[\"YearRemodAdd\"]\n",
    "\n",
    "#Total porch SF = OpenPorchSF + EnclosedSF + 3SsnPorch + ScreenPorch\n",
    "house_data[\"TotPorchSF\"] = house_data[\"OpenPorchSF\"] + house_data[\"EnclosedPorch\"] + house_data[\"3SsnPorch\"] + house_data[\"ScreenPorch\"]\n",
    "\n",
    "#Has Porch = 0 (no) or 1 (yes)\n",
    "house_data['HasPorch'] = house_data['TotPorchSF']\n",
    "house_data['HasPorch'].loc[ house_data['HasPorch'] > 0 ] = 1\n",
    "\n",
    "#Has Deck = 0 (no) or 1 (yes)\n",
    "house_data['HasDeck'] = house_data['WoodDeckSF']\n",
    "house_data['HasDeck'].loc[ house_data['HasDeck'] > 0 ] = 1\n",
    "\n",
    "#Total bathrooms = Full bath + 0.5*Halfbath (for both house and basement)\n",
    "house_data['TotBaths'] = house_data['FullBath'] + house_data['BsmtFullBath'] + 0.5*house_data['HalfBath'] + 0.5*house_data['BsmtHalfBath']\n",
    "\n",
    "#Has Pool = 0 (no) or 1 (yes)\n",
    "house_data['HasPool'] = house_data['PoolArea']\n",
    "house_data['HasPool'].loc[ house_data['HasPool'] > 0 ] = 1\n",
    "\n",
    "#Total number of car garage = 1, 2, 3+ cars\n",
    "house_data['TotCarGarage'] = house_data['GarageCars']\n",
    "house_data['TotCarGarage'].loc[ house_data['TotCarGarage'] >= 3 ] = 3\n",
    "\n",
    "#HasFirePlace = 0 (no), 1 (yes, not excellent quality), or 2 (excellent quality)\n",
    "house_data['HasFirePlace'] = [1] * len(house_data['FireplaceQu'])\n",
    "idx_none = house_data.index[house_data['FireplaceQu'].isna()]  # indexes of 0 fireplaces\n",
    "idx_excel = house_data.index[ house_data['FireplaceQu'] == 'Ex' ]  # indexes of excellent\n",
    "house_data['HasFirePlace'].idx_none = 0\n",
    "house_data['HasFirePlace'].idx_excel = 2\n",
    "\n"
   ]
  },
  {
   "cell_type": "markdown",
   "metadata": {},
   "source": [
    "## Remove Variables"
   ]
  },
  {
   "cell_type": "code",
   "execution_count": 28,
   "metadata": {},
   "outputs": [
    {
     "data": {
      "application/javascript": [
       "\n",
       "            setTimeout(function() {\n",
       "                var nbb_cell_id = 28;\n",
       "                var nbb_unformatted_code = \"var_toremove = ['MoSold', \\n                'OverallCond', \\n                'BedroomAbvGr', \\n                'KitchenAbvGr', \\n                'Fireplaces', \\n                'PoolArea', \\n                'MoSold', \\n                'YrSold', \\n                'GarageCars', \\n                'Heating', \\n                'Fence', \\n                'MiscFeature', \\n                'SaleType', \\n                'Electrical', \\n                'PoolQC', \\n                'BsmtFinType2', \\n                'Functional',\\n                'BsmtQual',\\n                'BsmtExposure',\\n                'Functional',\\n                'GarageCond',\\n                'SaleCondition',\\n                'Street']\";\n",
       "                var nbb_formatted_code = \"var_toremove = [\\n    \\\"MoSold\\\",\\n    \\\"OverallCond\\\",\\n    \\\"BedroomAbvGr\\\",\\n    \\\"KitchenAbvGr\\\",\\n    \\\"Fireplaces\\\",\\n    \\\"PoolArea\\\",\\n    \\\"MoSold\\\",\\n    \\\"YrSold\\\",\\n    \\\"GarageCars\\\",\\n    \\\"Heating\\\",\\n    \\\"Fence\\\",\\n    \\\"MiscFeature\\\",\\n    \\\"SaleType\\\",\\n    \\\"Electrical\\\",\\n    \\\"PoolQC\\\",\\n    \\\"BsmtFinType2\\\",\\n    \\\"Functional\\\",\\n    \\\"BsmtQual\\\",\\n    \\\"BsmtExposure\\\",\\n    \\\"Functional\\\",\\n    \\\"GarageCond\\\",\\n    \\\"SaleCondition\\\",\\n    \\\"Street\\\",\\n]\";\n",
       "                var nbb_cells = Jupyter.notebook.get_cells();\n",
       "                for (var i = 0; i < nbb_cells.length; ++i) {\n",
       "                    if (nbb_cells[i].input_prompt_number == nbb_cell_id) {\n",
       "                        if (nbb_cells[i].get_text() == nbb_unformatted_code) {\n",
       "                             nbb_cells[i].set_text(nbb_formatted_code);\n",
       "                        }\n",
       "                        break;\n",
       "                    }\n",
       "                }\n",
       "            }, 500);\n",
       "            "
      ],
      "text/plain": [
       "<IPython.core.display.Javascript object>"
      ]
     },
     "metadata": {},
     "output_type": "display_data"
    }
   ],
   "source": [
    "var_toremove = ['MoSold', \n",
    "                'OverallCond', \n",
    "                'BedroomAbvGr', \n",
    "                'KitchenAbvGr', \n",
    "                'Fireplaces', \n",
    "                'PoolArea', \n",
    "                'MoSold', \n",
    "                'YrSold', \n",
    "                'GarageCars', \n",
    "                'Heating', \n",
    "                'Fence', \n",
    "                'MiscFeature', \n",
    "                'SaleType', \n",
    "                'Electrical', \n",
    "                'PoolQC', \n",
    "                'BsmtFinType2', \n",
    "                'Functional',\n",
    "                'BsmtQual',\n",
    "                'BsmtExposure',\n",
    "                'Functional',\n",
    "                'GarageCond',\n",
    "                'SaleCondition',\n",
    "                'Street']\n",
    "\n",
    "\n"
   ]
  },
  {
   "cell_type": "code",
   "execution_count": null,
   "metadata": {},
   "outputs": [],
   "source": []
  }
 ],
 "metadata": {
  "kernelspec": {
   "display_name": "Python 3",
   "language": "python",
   "name": "python3"
  },
  "language_info": {
   "codemirror_mode": {
    "name": "ipython",
    "version": 3
   },
   "file_extension": ".py",
   "mimetype": "text/x-python",
   "name": "python",
   "nbconvert_exporter": "python",
   "pygments_lexer": "ipython3",
   "version": "3.7.4"
  }
 },
 "nbformat": 4,
 "nbformat_minor": 2
}
