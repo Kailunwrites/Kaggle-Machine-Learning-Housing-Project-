{
 "cells": [
  {
   "cell_type": "markdown",
   "metadata": {},
   "source": [
    "## Import Data"
   ]
  },
  {
   "cell_type": "code",
   "execution_count": 31,
   "metadata": {},
   "outputs": [
    {
     "name": "stdout",
     "output_type": "stream",
     "text": [
      "The nb_black extension is already loaded. To reload it, use:\n",
      "  %reload_ext nb_black\n"
     ]
    },
    {
     "data": {
      "application/javascript": [
       "\n",
       "            setTimeout(function() {\n",
       "                var nbb_cell_id = 31;\n",
       "                var nbb_unformatted_code = \"# Setup Packages\\nimport numpy as np\\nimport pandas as pd\\nimport math\\nimport matplotlib.pyplot as plt\\n\\n%matplotlib inline\\n\\n# Used for auto-formatting code\\n# terminal - pip install nb_black\\n%load_ext nb_black\\n\\n# Display all rows and columns\\npd.set_option(\\\"display.max_columns\\\", None)\\npd.set_option(\\\"display.max_rows\\\", None)\";\n",
       "                var nbb_formatted_code = \"# Setup Packages\\nimport numpy as np\\nimport pandas as pd\\nimport math\\nimport matplotlib.pyplot as plt\\n\\n%matplotlib inline\\n\\n# Used for auto-formatting code\\n# terminal - pip install nb_black\\n%load_ext nb_black\\n\\n# Display all rows and columns\\npd.set_option(\\\"display.max_columns\\\", None)\\npd.set_option(\\\"display.max_rows\\\", None)\";\n",
       "                var nbb_cells = Jupyter.notebook.get_cells();\n",
       "                for (var i = 0; i < nbb_cells.length; ++i) {\n",
       "                    if (nbb_cells[i].input_prompt_number == nbb_cell_id) {\n",
       "                        if (nbb_cells[i].get_text() == nbb_unformatted_code) {\n",
       "                             nbb_cells[i].set_text(nbb_formatted_code);\n",
       "                        }\n",
       "                        break;\n",
       "                    }\n",
       "                }\n",
       "            }, 500);\n",
       "            "
      ],
      "text/plain": [
       "<IPython.core.display.Javascript object>"
      ]
     },
     "metadata": {},
     "output_type": "display_data"
    }
   ],
   "source": [
    "# Setup Packages\n",
    "import numpy as np\n",
    "import pandas as pd\n",
    "import math\n",
    "import matplotlib.pyplot as plt\n",
    "\n",
    "%matplotlib inline\n",
    "\n",
    "# Used for auto-formatting code\n",
    "# terminal - pip install nb_black\n",
    "%load_ext nb_black\n",
    "\n",
    "# Display all rows and columns\n",
    "pd.set_option('display.max_columns', None)\n",
    "pd.set_option('display.max_rows', None)"
   ]
  },
  {
   "cell_type": "code",
   "execution_count": 32,
   "metadata": {},
   "outputs": [
    {
     "data": {
      "application/javascript": [
       "\n",
       "            setTimeout(function() {\n",
       "                var nbb_cell_id = 32;\n",
       "                var nbb_unformatted_code = \"house_data = pd.read_csv(\\\"train.csv\\\")\\n# house_data = pd.read_csv(\\\"test.csv\\\")\\n\\nremove_outlier = 1  # change to 0 for test data\";\n",
       "                var nbb_formatted_code = \"house_data = pd.read_csv(\\\"train.csv\\\")\\n# house_data = pd.read_csv(\\\"test.csv\\\")\\n\\nremove_outlier = 1  # change to 0 for test data\";\n",
       "                var nbb_cells = Jupyter.notebook.get_cells();\n",
       "                for (var i = 0; i < nbb_cells.length; ++i) {\n",
       "                    if (nbb_cells[i].input_prompt_number == nbb_cell_id) {\n",
       "                        if (nbb_cells[i].get_text() == nbb_unformatted_code) {\n",
       "                             nbb_cells[i].set_text(nbb_formatted_code);\n",
       "                        }\n",
       "                        break;\n",
       "                    }\n",
       "                }\n",
       "            }, 500);\n",
       "            "
      ],
      "text/plain": [
       "<IPython.core.display.Javascript object>"
      ]
     },
     "metadata": {},
     "output_type": "display_data"
    }
   ],
   "source": [
    "house_data = pd.read_csv('train.csv')\n",
    "# house_data = pd.read_csv('test.csv')\n",
    "\n",
    "remove_outlier = 1  # change to 0 for test data"
   ]
  },
  {
   "cell_type": "markdown",
   "metadata": {},
   "source": [
    "## Data Manipulation"
   ]
  },
  {
   "cell_type": "markdown",
   "metadata": {},
   "source": [
    "### Response Variable - Log Transform\n",
    "- Transformation validated in DataExploration Notebook"
   ]
  },
  {
   "cell_type": "code",
   "execution_count": 33,
   "metadata": {},
   "outputs": [
    {
     "data": {
      "application/javascript": [
       "\n",
       "            setTimeout(function() {\n",
       "                var nbb_cell_id = 33;\n",
       "                var nbb_unformatted_code = \"house_data[\\\"SalePrice_log\\\"] = np.log(house_data[\\\"SalePrice\\\"])\";\n",
       "                var nbb_formatted_code = \"house_data[\\\"SalePrice_log\\\"] = np.log(house_data[\\\"SalePrice\\\"])\";\n",
       "                var nbb_cells = Jupyter.notebook.get_cells();\n",
       "                for (var i = 0; i < nbb_cells.length; ++i) {\n",
       "                    if (nbb_cells[i].input_prompt_number == nbb_cell_id) {\n",
       "                        if (nbb_cells[i].get_text() == nbb_unformatted_code) {\n",
       "                             nbb_cells[i].set_text(nbb_formatted_code);\n",
       "                        }\n",
       "                        break;\n",
       "                    }\n",
       "                }\n",
       "            }, 500);\n",
       "            "
      ],
      "text/plain": [
       "<IPython.core.display.Javascript object>"
      ]
     },
     "metadata": {},
     "output_type": "display_data"
    }
   ],
   "source": [
    "house_data['SalePrice_log'] = np.log(house_data['SalePrice'])"
   ]
  },
  {
   "cell_type": "markdown",
   "metadata": {},
   "source": [
    "### Impute Continuous Variables\n",
    "- Imputation with mean validated in DataExploration Notebook"
   ]
  },
  {
   "cell_type": "code",
   "execution_count": 35,
   "metadata": {},
   "outputs": [
    {
     "data": {
      "text/plain": [
       "70.04995836802642"
      ]
     },
     "execution_count": 35,
     "metadata": {},
     "output_type": "execute_result"
    },
    {
     "data": {
      "application/javascript": [
       "\n",
       "            setTimeout(function() {\n",
       "                var nbb_cell_id = 35;\n",
       "                var nbb_unformatted_code = \"house_data[\\\"LotFrontage\\\"].mean()\";\n",
       "                var nbb_formatted_code = \"house_data[\\\"LotFrontage\\\"].mean()\";\n",
       "                var nbb_cells = Jupyter.notebook.get_cells();\n",
       "                for (var i = 0; i < nbb_cells.length; ++i) {\n",
       "                    if (nbb_cells[i].input_prompt_number == nbb_cell_id) {\n",
       "                        if (nbb_cells[i].get_text() == nbb_unformatted_code) {\n",
       "                             nbb_cells[i].set_text(nbb_formatted_code);\n",
       "                        }\n",
       "                        break;\n",
       "                    }\n",
       "                }\n",
       "            }, 500);\n",
       "            "
      ],
      "text/plain": [
       "<IPython.core.display.Javascript object>"
      ]
     },
     "metadata": {},
     "output_type": "display_data"
    }
   ],
   "source": [
    "house_data[\"LotFrontage\"].mean()"
   ]
  },
  {
   "cell_type": "code",
   "execution_count": 36,
   "metadata": {},
   "outputs": [
    {
     "data": {
      "application/javascript": [
       "\n",
       "            setTimeout(function() {\n",
       "                var nbb_cell_id = 36;\n",
       "                var nbb_unformatted_code = \"# LotFrontage\\navg_LotFrontage = house_data[\\\"LotFrontage\\\"].mean()\\nhouse_data['LotFrontage'].fillna(avg_LotFrontage, inplace=True)\\n\\n# MasVnrArea\\navg_LotFrontage = house_data[\\\"MasVnrArea\\\"].mean()\\nhouse_data['MasVnrArea'].fillna(avg_LotFrontage, inplace=True)\";\n",
       "                var nbb_formatted_code = \"# LotFrontage\\navg_LotFrontage = house_data[\\\"LotFrontage\\\"].mean()\\nhouse_data[\\\"LotFrontage\\\"].fillna(avg_LotFrontage, inplace=True)\\n\\n# MasVnrArea\\navg_LotFrontage = house_data[\\\"MasVnrArea\\\"].mean()\\nhouse_data[\\\"MasVnrArea\\\"].fillna(avg_LotFrontage, inplace=True)\";\n",
       "                var nbb_cells = Jupyter.notebook.get_cells();\n",
       "                for (var i = 0; i < nbb_cells.length; ++i) {\n",
       "                    if (nbb_cells[i].input_prompt_number == nbb_cell_id) {\n",
       "                        if (nbb_cells[i].get_text() == nbb_unformatted_code) {\n",
       "                             nbb_cells[i].set_text(nbb_formatted_code);\n",
       "                        }\n",
       "                        break;\n",
       "                    }\n",
       "                }\n",
       "            }, 500);\n",
       "            "
      ],
      "text/plain": [
       "<IPython.core.display.Javascript object>"
      ]
     },
     "metadata": {},
     "output_type": "display_data"
    }
   ],
   "source": [
    "# LotFrontage\n",
    "avg_LotFrontage = house_data['LotFrontage'].mean()\n",
    "house_data['LotFrontage'].fillna(avg_LotFrontage, inplace=True)\n",
    "\n",
    "# MasVnrArea\n",
    "avg_LotFrontage = house_data['MasVnrArea'].mean()\n",
    "house_data['MasVnrArea'].fillna(avg_LotFrontage, inplace=True)\n"
   ]
  },
  {
   "cell_type": "markdown",
   "metadata": {},
   "source": [
    "### Impute Categorical Variables"
   ]
  },
  {
   "cell_type": "code",
   "execution_count": 5,
   "metadata": {},
   "outputs": [
    {
     "data": {
      "application/javascript": [
       "\n",
       "            setTimeout(function() {\n",
       "                var nbb_cell_id = 5;\n",
       "                var nbb_unformatted_code = \"#Basement Related Variables\\n\\n#Locate NA indices\\nbsmt_null_list=np.array(house_data['BsmtCond'][house_data['BsmtCond'].isnull()].index)\\nbsmt_null_list2=np.array(house_data['BsmtQual'][house_data['BsmtQual'].isnull()].index)\\nbsmt_null_list3=np.array(house_data['BsmtExposure'][house_data['BsmtExposure'].isnull()].index)\\nbsmt_null_list4=np.array(house_data['BsmtFinType1'][house_data['BsmtFinType1'].isnull()].index)\\nbsmt_null_list5=np.array(house_data['BsmtFinType2'][house_data['BsmtFinType2'].isnull()].index)\\n\\n#Impute NA values with 'None'\\nhouse_data['BsmtQual'].fillna(\\\"None\\\", inplace=True)\\nhouse_data['BsmtCond'].fillna(\\\"None\\\", inplace=True)\\nhouse_data['BsmtExposure'].fillna(\\\"None\\\", inplace=True)\\nhouse_data['BsmtFinType1'].fillna(\\\"None\\\", inplace=True)\";\n",
       "                var nbb_formatted_code = \"# Basement Related Variables\\n\\n# Locate NA indices\\nbsmt_null_list = np.array(house_data[\\\"BsmtCond\\\"][house_data[\\\"BsmtCond\\\"].isnull()].index)\\nbsmt_null_list2 = np.array(\\n    house_data[\\\"BsmtQual\\\"][house_data[\\\"BsmtQual\\\"].isnull()].index\\n)\\nbsmt_null_list3 = np.array(\\n    house_data[\\\"BsmtExposure\\\"][house_data[\\\"BsmtExposure\\\"].isnull()].index\\n)\\nbsmt_null_list4 = np.array(\\n    house_data[\\\"BsmtFinType1\\\"][house_data[\\\"BsmtFinType1\\\"].isnull()].index\\n)\\nbsmt_null_list5 = np.array(\\n    house_data[\\\"BsmtFinType2\\\"][house_data[\\\"BsmtFinType2\\\"].isnull()].index\\n)\\n\\n# Impute NA values with 'None'\\nhouse_data[\\\"BsmtQual\\\"].fillna(\\\"None\\\", inplace=True)\\nhouse_data[\\\"BsmtCond\\\"].fillna(\\\"None\\\", inplace=True)\\nhouse_data[\\\"BsmtExposure\\\"].fillna(\\\"None\\\", inplace=True)\\nhouse_data[\\\"BsmtFinType1\\\"].fillna(\\\"None\\\", inplace=True)\";\n",
       "                var nbb_cells = Jupyter.notebook.get_cells();\n",
       "                for (var i = 0; i < nbb_cells.length; ++i) {\n",
       "                    if (nbb_cells[i].input_prompt_number == nbb_cell_id) {\n",
       "                        if (nbb_cells[i].get_text() == nbb_unformatted_code) {\n",
       "                             nbb_cells[i].set_text(nbb_formatted_code);\n",
       "                        }\n",
       "                        break;\n",
       "                    }\n",
       "                }\n",
       "            }, 500);\n",
       "            "
      ],
      "text/plain": [
       "<IPython.core.display.Javascript object>"
      ]
     },
     "metadata": {},
     "output_type": "display_data"
    }
   ],
   "source": [
    "#Basement Related Variables\n",
    "\n",
    "#Locate NA indices\n",
    "bsmt_null_list=np.array(house_data['BsmtCond'][house_data['BsmtCond'].isnull()].index)\n",
    "bsmt_null_list2=np.array(house_data['BsmtQual'][house_data['BsmtQual'].isnull()].index)\n",
    "bsmt_null_list3=np.array(house_data['BsmtExposure'][house_data['BsmtExposure'].isnull()].index)\n",
    "bsmt_null_list4=np.array(house_data['BsmtFinType1'][house_data['BsmtFinType1'].isnull()].index)\n",
    "bsmt_null_list5=np.array(house_data['BsmtFinType2'][house_data['BsmtFinType2'].isnull()].index)\n",
    "\n",
    "#Impute NA values with 'None'\n",
    "house_data['BsmtQual'].fillna('None', inplace=True)\n",
    "house_data['BsmtCond'].fillna('None', inplace=True)\n",
    "house_data['BsmtExposure'].fillna('None', inplace=True)\n",
    "house_data['BsmtFinType1'].fillna('None', inplace=True)\n"
   ]
  },
  {
   "cell_type": "code",
   "execution_count": 6,
   "metadata": {},
   "outputs": [
    {
     "data": {
      "application/javascript": [
       "\n",
       "            setTimeout(function() {\n",
       "                var nbb_cell_id = 6;\n",
       "                var nbb_unformatted_code = \"#Electrical Fill with Mode\\nhouse_data['Electrical'].fillna(house_data['Electrical'].mode()[0], inplace=True)\";\n",
       "                var nbb_formatted_code = \"# Electrical Fill with Mode\\nhouse_data[\\\"Electrical\\\"].fillna(house_data[\\\"Electrical\\\"].mode()[0], inplace=True)\";\n",
       "                var nbb_cells = Jupyter.notebook.get_cells();\n",
       "                for (var i = 0; i < nbb_cells.length; ++i) {\n",
       "                    if (nbb_cells[i].input_prompt_number == nbb_cell_id) {\n",
       "                        if (nbb_cells[i].get_text() == nbb_unformatted_code) {\n",
       "                             nbb_cells[i].set_text(nbb_formatted_code);\n",
       "                        }\n",
       "                        break;\n",
       "                    }\n",
       "                }\n",
       "            }, 500);\n",
       "            "
      ],
      "text/plain": [
       "<IPython.core.display.Javascript object>"
      ]
     },
     "metadata": {},
     "output_type": "display_data"
    }
   ],
   "source": [
    "#Electrical Fill with Mode\n",
    "house_data['Electrical'].fillna(house_data['Electrical'].mode()[0], inplace=True)\n"
   ]
  },
  {
   "cell_type": "code",
   "execution_count": 7,
   "metadata": {},
   "outputs": [
    {
     "data": {
      "application/javascript": [
       "\n",
       "            setTimeout(function() {\n",
       "                var nbb_cell_id = 7;\n",
       "                var nbb_unformatted_code = \"#Fire Place Quality\\nfireplace_null_list=np.array(house_data['FireplaceQu'][house_data['FireplaceQu'].isnull()].index)\\nhouse_data['FireplaceQu'].fillna(\\\"None\\\", inplace=True)\";\n",
       "                var nbb_formatted_code = \"# Fire Place Quality\\nfireplace_null_list = np.array(\\n    house_data[\\\"FireplaceQu\\\"][house_data[\\\"FireplaceQu\\\"].isnull()].index\\n)\\nhouse_data[\\\"FireplaceQu\\\"].fillna(\\\"None\\\", inplace=True)\";\n",
       "                var nbb_cells = Jupyter.notebook.get_cells();\n",
       "                for (var i = 0; i < nbb_cells.length; ++i) {\n",
       "                    if (nbb_cells[i].input_prompt_number == nbb_cell_id) {\n",
       "                        if (nbb_cells[i].get_text() == nbb_unformatted_code) {\n",
       "                             nbb_cells[i].set_text(nbb_formatted_code);\n",
       "                        }\n",
       "                        break;\n",
       "                    }\n",
       "                }\n",
       "            }, 500);\n",
       "            "
      ],
      "text/plain": [
       "<IPython.core.display.Javascript object>"
      ]
     },
     "metadata": {},
     "output_type": "display_data"
    }
   ],
   "source": [
    "#Fire Place Quality\n",
    "fireplace_null_list=np.array(house_data['FireplaceQu'][house_data['FireplaceQu'].isnull()].index)\n",
    "house_data['FireplaceQu'].fillna('None', inplace=True)\n"
   ]
  },
  {
   "cell_type": "code",
   "execution_count": 9,
   "metadata": {},
   "outputs": [
    {
     "data": {
      "application/javascript": [
       "\n",
       "            setTimeout(function() {\n",
       "                var nbb_cell_id = 9;\n",
       "                var nbb_unformatted_code = \"#Garage Related Variables\\nhouse_data['GarageType'].fillna(\\\"None\\\", inplace=True)\\nhouse_data['GarageFinish'].fillna(\\\"None\\\", inplace=True)\\nhouse_data['GarageQual'].fillna(\\\"None\\\", inplace=True)\";\n",
       "                var nbb_formatted_code = \"# Garage Related Variables\\nhouse_data[\\\"GarageType\\\"].fillna(\\\"None\\\", inplace=True)\\nhouse_data[\\\"GarageFinish\\\"].fillna(\\\"None\\\", inplace=True)\\nhouse_data[\\\"GarageQual\\\"].fillna(\\\"None\\\", inplace=True)\";\n",
       "                var nbb_cells = Jupyter.notebook.get_cells();\n",
       "                for (var i = 0; i < nbb_cells.length; ++i) {\n",
       "                    if (nbb_cells[i].input_prompt_number == nbb_cell_id) {\n",
       "                        if (nbb_cells[i].get_text() == nbb_unformatted_code) {\n",
       "                             nbb_cells[i].set_text(nbb_formatted_code);\n",
       "                        }\n",
       "                        break;\n",
       "                    }\n",
       "                }\n",
       "            }, 500);\n",
       "            "
      ],
      "text/plain": [
       "<IPython.core.display.Javascript object>"
      ]
     },
     "metadata": {},
     "output_type": "display_data"
    }
   ],
   "source": [
    "#Garage Related Variables\n",
    "house_data['GarageType'].fillna('None', inplace=True)\n",
    "house_data['GarageFinish'].fillna('None', inplace=True)\n",
    "house_data['GarageQual'].fillna('None', inplace=True)\n"
   ]
  },
  {
   "cell_type": "markdown",
   "metadata": {},
   "source": [
    "## Feature Engineering"
   ]
  },
  {
   "cell_type": "code",
   "execution_count": 10,
   "metadata": {},
   "outputs": [
    {
     "data": {
      "application/javascript": [
       "\n",
       "            setTimeout(function() {\n",
       "                var nbb_cell_id = 10;\n",
       "                var nbb_unformatted_code = \"#Total area of house = Above ground living area + basement living area\\nhouse_data[\\\"TotalSF\\\"] = house_data[\\\"GrLivArea\\\"] + house_data[\\\"TotalBsmtSF\\\"]\";\n",
       "                var nbb_formatted_code = \"# Total area of house = Above ground living area + basement living area\\nhouse_data[\\\"TotalSF\\\"] = house_data[\\\"GrLivArea\\\"] + house_data[\\\"TotalBsmtSF\\\"]\";\n",
       "                var nbb_cells = Jupyter.notebook.get_cells();\n",
       "                for (var i = 0; i < nbb_cells.length; ++i) {\n",
       "                    if (nbb_cells[i].input_prompt_number == nbb_cell_id) {\n",
       "                        if (nbb_cells[i].get_text() == nbb_unformatted_code) {\n",
       "                             nbb_cells[i].set_text(nbb_formatted_code);\n",
       "                        }\n",
       "                        break;\n",
       "                    }\n",
       "                }\n",
       "            }, 500);\n",
       "            "
      ],
      "text/plain": [
       "<IPython.core.display.Javascript object>"
      ]
     },
     "metadata": {},
     "output_type": "display_data"
    }
   ],
   "source": [
    "#Total area of house = Above ground living area + basement living area\n",
    "house_data['TotalSF'] = house_data['GrLivArea'] + house_data['TotalBsmtSF']\n"
   ]
  },
  {
   "cell_type": "code",
   "execution_count": 11,
   "metadata": {},
   "outputs": [
    {
     "data": {
      "application/javascript": [
       "\n",
       "            setTimeout(function() {\n",
       "                var nbb_cell_id = 11;\n",
       "                var nbb_unformatted_code = \"#Age = Year sold - year built\\nhouse_data[\\\"Age\\\"] = house_data[\\\"YrSold\\\"] + house_data[\\\"YearBuilt\\\"]\";\n",
       "                var nbb_formatted_code = \"# Age = Year sold - year built\\nhouse_data[\\\"Age\\\"] = house_data[\\\"YrSold\\\"] + house_data[\\\"YearBuilt\\\"]\";\n",
       "                var nbb_cells = Jupyter.notebook.get_cells();\n",
       "                for (var i = 0; i < nbb_cells.length; ++i) {\n",
       "                    if (nbb_cells[i].input_prompt_number == nbb_cell_id) {\n",
       "                        if (nbb_cells[i].get_text() == nbb_unformatted_code) {\n",
       "                             nbb_cells[i].set_text(nbb_formatted_code);\n",
       "                        }\n",
       "                        break;\n",
       "                    }\n",
       "                }\n",
       "            }, 500);\n",
       "            "
      ],
      "text/plain": [
       "<IPython.core.display.Javascript object>"
      ]
     },
     "metadata": {},
     "output_type": "display_data"
    }
   ],
   "source": [
    "#Age = Year sold - year built\n",
    "house_data['Age'] = house_data['YrSold'] + house_data['YearBuilt']\n"
   ]
  },
  {
   "cell_type": "code",
   "execution_count": 12,
   "metadata": {},
   "outputs": [
    {
     "data": {
      "application/javascript": [
       "\n",
       "            setTimeout(function() {\n",
       "                var nbb_cell_id = 12;\n",
       "                var nbb_unformatted_code = \"#AgeRemod = Year sold - year remodeled\\nhouse_data[\\\"Age\\\"] = house_data[\\\"YrSold\\\"] + house_data[\\\"YearRemodAdd\\\"]\";\n",
       "                var nbb_formatted_code = \"# AgeRemod = Year sold - year remodeled\\nhouse_data[\\\"Age\\\"] = house_data[\\\"YrSold\\\"] + house_data[\\\"YearRemodAdd\\\"]\";\n",
       "                var nbb_cells = Jupyter.notebook.get_cells();\n",
       "                for (var i = 0; i < nbb_cells.length; ++i) {\n",
       "                    if (nbb_cells[i].input_prompt_number == nbb_cell_id) {\n",
       "                        if (nbb_cells[i].get_text() == nbb_unformatted_code) {\n",
       "                             nbb_cells[i].set_text(nbb_formatted_code);\n",
       "                        }\n",
       "                        break;\n",
       "                    }\n",
       "                }\n",
       "            }, 500);\n",
       "            "
      ],
      "text/plain": [
       "<IPython.core.display.Javascript object>"
      ]
     },
     "metadata": {},
     "output_type": "display_data"
    }
   ],
   "source": [
    "#AgeRemod = Year sold - year remodeled\n",
    "house_data['Age'] = house_data['YrSold'] + house_data['YearRemodAdd']\n"
   ]
  },
  {
   "cell_type": "code",
   "execution_count": 13,
   "metadata": {},
   "outputs": [
    {
     "data": {
      "application/javascript": [
       "\n",
       "            setTimeout(function() {\n",
       "                var nbb_cell_id = 13;\n",
       "                var nbb_unformatted_code = \"#Total porch SF = OpenPorchSF + EnclosedSF + 3SsnPorch + ScreenPorch\\nhouse_data[\\\"TotPorchSF\\\"] = house_data[\\\"OpenPorchSF\\\"] + house_data[\\\"EnclosedPorch\\\"] + house_data[\\\"3SsnPorch\\\"] + house_data[\\\"ScreenPorch\\\"]\";\n",
       "                var nbb_formatted_code = \"# Total porch SF = OpenPorchSF + EnclosedSF + 3SsnPorch + ScreenPorch\\nhouse_data[\\\"TotPorchSF\\\"] = (\\n    house_data[\\\"OpenPorchSF\\\"]\\n    + house_data[\\\"EnclosedPorch\\\"]\\n    + house_data[\\\"3SsnPorch\\\"]\\n    + house_data[\\\"ScreenPorch\\\"]\\n)\";\n",
       "                var nbb_cells = Jupyter.notebook.get_cells();\n",
       "                for (var i = 0; i < nbb_cells.length; ++i) {\n",
       "                    if (nbb_cells[i].input_prompt_number == nbb_cell_id) {\n",
       "                        if (nbb_cells[i].get_text() == nbb_unformatted_code) {\n",
       "                             nbb_cells[i].set_text(nbb_formatted_code);\n",
       "                        }\n",
       "                        break;\n",
       "                    }\n",
       "                }\n",
       "            }, 500);\n",
       "            "
      ],
      "text/plain": [
       "<IPython.core.display.Javascript object>"
      ]
     },
     "metadata": {},
     "output_type": "display_data"
    }
   ],
   "source": [
    "#Total porch SF = OpenPorchSF + EnclosedSF + 3SsnPorch + ScreenPorch\n",
    "house_data['TotPorchSF'] = house_data['OpenPorchSF'] + house_data['EnclosedPorch'] + house_data['3SsnPorch'] + house_data['ScreenPorch']\n"
   ]
  },
  {
   "cell_type": "code",
   "execution_count": 14,
   "metadata": {},
   "outputs": [
    {
     "data": {
      "application/javascript": [
       "\n",
       "            setTimeout(function() {\n",
       "                var nbb_cell_id = 14;\n",
       "                var nbb_unformatted_code = \"#Total bathrooms = Full bath + 0.5*Halfbath (for both house and basement)\\nhouse_data['TotBaths'] = house_data['FullBath'] + house_data['BsmtFullBath'] + 0.5*house_data['HalfBath'] + 0.5*house_data['BsmtHalfBath']\";\n",
       "                var nbb_formatted_code = \"# Total bathrooms = Full bath + 0.5*Halfbath (for both house and basement)\\nhouse_data[\\\"TotBaths\\\"] = (\\n    house_data[\\\"FullBath\\\"]\\n    + house_data[\\\"BsmtFullBath\\\"]\\n    + 0.5 * house_data[\\\"HalfBath\\\"]\\n    + 0.5 * house_data[\\\"BsmtHalfBath\\\"]\\n)\";\n",
       "                var nbb_cells = Jupyter.notebook.get_cells();\n",
       "                for (var i = 0; i < nbb_cells.length; ++i) {\n",
       "                    if (nbb_cells[i].input_prompt_number == nbb_cell_id) {\n",
       "                        if (nbb_cells[i].get_text() == nbb_unformatted_code) {\n",
       "                             nbb_cells[i].set_text(nbb_formatted_code);\n",
       "                        }\n",
       "                        break;\n",
       "                    }\n",
       "                }\n",
       "            }, 500);\n",
       "            "
      ],
      "text/plain": [
       "<IPython.core.display.Javascript object>"
      ]
     },
     "metadata": {},
     "output_type": "display_data"
    }
   ],
   "source": [
    "#Total bathrooms = Full bath + 0.5*Halfbath (for both house and basement)\n",
    "house_data['TotBaths'] = house_data['FullBath'] + house_data['BsmtFullBath'] + 0.5*house_data['HalfBath'] + 0.5*house_data['BsmtHalfBath']\n"
   ]
  },
  {
   "cell_type": "code",
   "execution_count": 15,
   "metadata": {},
   "outputs": [
    {
     "name": "stderr",
     "output_type": "stream",
     "text": [
      "/Users/jonathanharris/opt/anaconda3/lib/python3.7/site-packages/pandas/core/indexing.py:205: SettingWithCopyWarning: \n",
      "A value is trying to be set on a copy of a slice from a DataFrame\n",
      "\n",
      "See the caveats in the documentation: http://pandas.pydata.org/pandas-docs/stable/user_guide/indexing.html#returning-a-view-versus-a-copy\n",
      "  self._setitem_with_indexer(indexer, value)\n"
     ]
    },
    {
     "data": {
      "application/javascript": [
       "\n",
       "            setTimeout(function() {\n",
       "                var nbb_cell_id = 15;\n",
       "                var nbb_unformatted_code = \"#Total number of car garage = 1, 2, 3+ cars\\nhouse_data['TotCarGarage'] = house_data['GarageCars']\\nhouse_data['TotCarGarage'].loc[ house_data['TotCarGarage'] >= 3 ] = 3\";\n",
       "                var nbb_formatted_code = \"# Total number of car garage = 1, 2, 3+ cars\\nhouse_data[\\\"TotCarGarage\\\"] = house_data[\\\"GarageCars\\\"]\\nhouse_data[\\\"TotCarGarage\\\"].loc[house_data[\\\"TotCarGarage\\\"] >= 3] = 3\";\n",
       "                var nbb_cells = Jupyter.notebook.get_cells();\n",
       "                for (var i = 0; i < nbb_cells.length; ++i) {\n",
       "                    if (nbb_cells[i].input_prompt_number == nbb_cell_id) {\n",
       "                        if (nbb_cells[i].get_text() == nbb_unformatted_code) {\n",
       "                             nbb_cells[i].set_text(nbb_formatted_code);\n",
       "                        }\n",
       "                        break;\n",
       "                    }\n",
       "                }\n",
       "            }, 500);\n",
       "            "
      ],
      "text/plain": [
       "<IPython.core.display.Javascript object>"
      ]
     },
     "metadata": {},
     "output_type": "display_data"
    }
   ],
   "source": [
    "#Total number of car garage = 1, 2, 3+ cars\n",
    "house_data['TotCarGarage'] = pd.Series(len(house_data['GarageCars']), index=house_data.index)\n",
    "house_data['TotCarGarage'] = 0 \n",
    "house_data.loc[house_data['GarageCars'] >= 3,'TotCarGarage'] = 3"
   ]
  },
  {
   "cell_type": "code",
   "execution_count": 16,
   "metadata": {},
   "outputs": [
    {
     "data": {
      "application/javascript": [
       "\n",
       "            setTimeout(function() {\n",
       "                var nbb_cell_id = 16;\n",
       "                var nbb_unformatted_code = \"#Has Second Floor = 0 (no) or 1 (yes)\\nhouse_data['Has2ndFl'] = house_data['2ndFlrSF']\\nhouse_data['Has2ndFl'].loc[ house_data['Has2ndFl'] > 0 ] = 1\";\n",
       "                var nbb_formatted_code = \"# Has Second Floor = 0 (no) or 1 (yes)\\nhouse_data[\\\"Has2ndFl\\\"] = house_data[\\\"2ndFlrSF\\\"]\\nhouse_data[\\\"Has2ndFl\\\"].loc[house_data[\\\"Has2ndFl\\\"] > 0] = 1\";\n",
       "                var nbb_cells = Jupyter.notebook.get_cells();\n",
       "                for (var i = 0; i < nbb_cells.length; ++i) {\n",
       "                    if (nbb_cells[i].input_prompt_number == nbb_cell_id) {\n",
       "                        if (nbb_cells[i].get_text() == nbb_unformatted_code) {\n",
       "                             nbb_cells[i].set_text(nbb_formatted_code);\n",
       "                        }\n",
       "                        break;\n",
       "                    }\n",
       "                }\n",
       "            }, 500);\n",
       "            "
      ],
      "text/plain": [
       "<IPython.core.display.Javascript object>"
      ]
     },
     "metadata": {},
     "output_type": "display_data"
    }
   ],
   "source": [
    "#Has Second Floor = 0 (no) or 1 (yes)\n",
    "house_data['Has2ndFl'] = pd.Series(len(house_data['2ndFlrSF']), index=house_data.index)\n",
    "house_data['Has2ndFl'] = 0 \n",
    "house_data.loc[house_data['2ndFlrSF'] > 0,'Has2ndFl'] = 1\n"
   ]
  },
  {
   "cell_type": "code",
   "execution_count": 18,
   "metadata": {},
   "outputs": [
    {
     "data": {
      "application/javascript": [
       "\n",
       "            setTimeout(function() {\n",
       "                var nbb_cell_id = 18;\n",
       "                var nbb_unformatted_code = \"#Has Porch = 0 (no) or 1 (yes)\\nhouse_data['HasPorch'] = house_data['TotPorchSF']\\nhouse_data['HasPorch'].loc[ house_data['HasPorch'] > 0 ] = 1\";\n",
       "                var nbb_formatted_code = \"# Has Porch = 0 (no) or 1 (yes)\\nhouse_data[\\\"HasPorch\\\"] = house_data[\\\"TotPorchSF\\\"]\\nhouse_data[\\\"HasPorch\\\"].loc[house_data[\\\"HasPorch\\\"] > 0] = 1\";\n",
       "                var nbb_cells = Jupyter.notebook.get_cells();\n",
       "                for (var i = 0; i < nbb_cells.length; ++i) {\n",
       "                    if (nbb_cells[i].input_prompt_number == nbb_cell_id) {\n",
       "                        if (nbb_cells[i].get_text() == nbb_unformatted_code) {\n",
       "                             nbb_cells[i].set_text(nbb_formatted_code);\n",
       "                        }\n",
       "                        break;\n",
       "                    }\n",
       "                }\n",
       "            }, 500);\n",
       "            "
      ],
      "text/plain": [
       "<IPython.core.display.Javascript object>"
      ]
     },
     "metadata": {},
     "output_type": "display_data"
    }
   ],
   "source": [
    "#Has Porch = 0 (no) or 1 (yes)\n",
    "house_data['HasPorch'] = pd.Series(len(house_data['TotPorchSF']), index=house_data.index)\n",
    "house_data['HasPorch'] = 0 \n",
    "house_data.loc[house_data['TotPorchSF'] > 0,'HasPorch'] = 1\n"
   ]
  },
  {
   "cell_type": "code",
   "execution_count": 19,
   "metadata": {},
   "outputs": [
    {
     "data": {
      "application/javascript": [
       "\n",
       "            setTimeout(function() {\n",
       "                var nbb_cell_id = 19;\n",
       "                var nbb_unformatted_code = \"#Has Deck = 0 (no) or 1 (yes)\\nhouse_data['HasDeck'] = house_data['WoodDeckSF']\\nhouse_data['HasDeck'].loc[ house_data['HasDeck'] > 0 ] = 1\";\n",
       "                var nbb_formatted_code = \"# Has Deck = 0 (no) or 1 (yes)\\nhouse_data[\\\"HasDeck\\\"] = house_data[\\\"WoodDeckSF\\\"]\\nhouse_data[\\\"HasDeck\\\"].loc[house_data[\\\"HasDeck\\\"] > 0] = 1\";\n",
       "                var nbb_cells = Jupyter.notebook.get_cells();\n",
       "                for (var i = 0; i < nbb_cells.length; ++i) {\n",
       "                    if (nbb_cells[i].input_prompt_number == nbb_cell_id) {\n",
       "                        if (nbb_cells[i].get_text() == nbb_unformatted_code) {\n",
       "                             nbb_cells[i].set_text(nbb_formatted_code);\n",
       "                        }\n",
       "                        break;\n",
       "                    }\n",
       "                }\n",
       "            }, 500);\n",
       "            "
      ],
      "text/plain": [
       "<IPython.core.display.Javascript object>"
      ]
     },
     "metadata": {},
     "output_type": "display_data"
    }
   ],
   "source": [
    "#Has Deck = 0 (no) or 1 (yes)\n",
    "house_data['HasDeck'] = pd.Series(len(house_data['WoodDeckSF']), index=house_data.index)\n",
    "house_data['HasDeck'] = 0 \n",
    "house_data.loc[house_data['WoodDeckSF'] > 0,'HasDeck'] = 1\n"
   ]
  },
  {
   "cell_type": "code",
   "execution_count": 20,
   "metadata": {},
   "outputs": [
    {
     "data": {
      "application/javascript": [
       "\n",
       "            setTimeout(function() {\n",
       "                var nbb_cell_id = 20;\n",
       "                var nbb_unformatted_code = \"#Has Pool = 0 (no) or 1 (yes)\\nhouse_data['HasPool'] = house_data['PoolArea']\\nhouse_data['HasPool'].loc[ house_data['HasPool'] > 0 ] = 1\";\n",
       "                var nbb_formatted_code = \"# Has Pool = 0 (no) or 1 (yes)\\nhouse_data[\\\"HasPool\\\"] = house_data[\\\"PoolArea\\\"]\\nhouse_data[\\\"HasPool\\\"].loc[house_data[\\\"HasPool\\\"] > 0] = 1\";\n",
       "                var nbb_cells = Jupyter.notebook.get_cells();\n",
       "                for (var i = 0; i < nbb_cells.length; ++i) {\n",
       "                    if (nbb_cells[i].input_prompt_number == nbb_cell_id) {\n",
       "                        if (nbb_cells[i].get_text() == nbb_unformatted_code) {\n",
       "                             nbb_cells[i].set_text(nbb_formatted_code);\n",
       "                        }\n",
       "                        break;\n",
       "                    }\n",
       "                }\n",
       "            }, 500);\n",
       "            "
      ],
      "text/plain": [
       "<IPython.core.display.Javascript object>"
      ]
     },
     "metadata": {},
     "output_type": "display_data"
    }
   ],
   "source": [
    "#Has Pool = 0 (no) or 1 (yes)\n",
    "house_data['HasPool'] = pd.Series(len(house_data['PoolArea']), index=house_data.index)\n",
    "house_data['HasPool'] = 0 \n",
    "house_data.loc[house_data['PoolArea'] > 0,'HasPool'] = 1\n"
   ]
  },
  {
   "cell_type": "code",
   "execution_count": 21,
   "metadata": {},
   "outputs": [
    {
     "data": {
      "application/javascript": [
       "\n",
       "            setTimeout(function() {\n",
       "                var nbb_cell_id = 21;\n",
       "                var nbb_unformatted_code = \"#Has Fireplace = 0 (no), 1 (yes, not excellent quality), or 2 (excellent quality)\\nhouse_data['HasFirePlace'] = [1] * len(house_data['FireplaceQu'])\\nidx_none = house_data.index[house_data['FireplaceQu'].isna()]  # indexes of 0 fireplaces\\nidx_excel = house_data.index[ house_data['FireplaceQu'] == 'Ex' ]  # indexes of excellent\\nhouse_data['HasFirePlace'].idx_none = 0\\nhouse_data['HasFirePlace'].idx_excel = 2\";\n",
       "                var nbb_formatted_code = \"# Has Fireplace = 0 (no), 1 (yes, not excellent quality), or 2 (excellent quality)\\nhouse_data[\\\"HasFirePlace\\\"] = [1] * len(house_data[\\\"FireplaceQu\\\"])\\nidx_none = house_data.index[house_data[\\\"FireplaceQu\\\"].isna()]  # indexes of 0 fireplaces\\nidx_excel = house_data.index[house_data[\\\"FireplaceQu\\\"] == \\\"Ex\\\"]  # indexes of excellent\\nhouse_data[\\\"HasFirePlace\\\"].idx_none = 0\\nhouse_data[\\\"HasFirePlace\\\"].idx_excel = 2\";\n",
       "                var nbb_cells = Jupyter.notebook.get_cells();\n",
       "                for (var i = 0; i < nbb_cells.length; ++i) {\n",
       "                    if (nbb_cells[i].input_prompt_number == nbb_cell_id) {\n",
       "                        if (nbb_cells[i].get_text() == nbb_unformatted_code) {\n",
       "                             nbb_cells[i].set_text(nbb_formatted_code);\n",
       "                        }\n",
       "                        break;\n",
       "                    }\n",
       "                }\n",
       "            }, 500);\n",
       "            "
      ],
      "text/plain": [
       "<IPython.core.display.Javascript object>"
      ]
     },
     "metadata": {},
     "output_type": "display_data"
    }
   ],
   "source": [
    "#Has Fireplace = 0 (no), 1 (yes, not excellent quality), or 2 (excellent quality)\n",
    "house_data['HasFirePlace'] = pd.Series(len(house_data['FireplaceQu']), index=house_data.index)\n",
    "house_data['HasFirePlace'] = 1 #default all houses have a fireplace \n",
    "house_data.loc[house_data['FireplaceQu'].isna(),'HasFirePlace'] = 0 #replace 1 with 0 for 'No Fireplace'\n",
    "house_data.loc[house_data['FireplaceQu']== 'Ex','HasFirePlace'] = 2 #replace 1 with 2 for 'Excellent Fireplace'\n"
   ]
  },
  {
   "cell_type": "code",
   "execution_count": 22,
   "metadata": {},
   "outputs": [
    {
     "data": {
      "application/javascript": [
       "\n",
       "            setTimeout(function() {\n",
       "                var nbb_cell_id = 22;\n",
       "                var nbb_unformatted_code = \"#Has Gas Heating = 0 (no) or 1 (yes, GasA or GasW)\\nhouse_data['HasGasHeating'] = pd.Series(len(house_data['Heating']), index=house_data.index)\\nhouse_data['HasGasHeating'] = 0 \\nhouse_data.loc[house_data['Heating']== 'GasA','HasGasHeating'] = 1\\nhouse_data.loc[house_data['Heating']== 'GasW','HasGasHeating'] = 1\";\n",
       "                var nbb_formatted_code = \"# Has Gas Heating = 0 (no) or 1 (yes, GasA or GasW)\\nhouse_data[\\\"HasGasHeating\\\"] = pd.Series(\\n    len(house_data[\\\"Heating\\\"]), index=house_data.index\\n)\\nhouse_data[\\\"HasGasHeating\\\"] = 0\\nhouse_data.loc[house_data[\\\"Heating\\\"] == \\\"GasA\\\", \\\"HasGasHeating\\\"] = 1\\nhouse_data.loc[house_data[\\\"Heating\\\"] == \\\"GasW\\\", \\\"HasGasHeating\\\"] = 1\";\n",
       "                var nbb_cells = Jupyter.notebook.get_cells();\n",
       "                for (var i = 0; i < nbb_cells.length; ++i) {\n",
       "                    if (nbb_cells[i].input_prompt_number == nbb_cell_id) {\n",
       "                        if (nbb_cells[i].get_text() == nbb_unformatted_code) {\n",
       "                             nbb_cells[i].set_text(nbb_formatted_code);\n",
       "                        }\n",
       "                        break;\n",
       "                    }\n",
       "                }\n",
       "            }, 500);\n",
       "            "
      ],
      "text/plain": [
       "<IPython.core.display.Javascript object>"
      ]
     },
     "metadata": {},
     "output_type": "display_data"
    }
   ],
   "source": [
    "#Has Gas Heating = 0 (no) or 1 (yes, GasA or GasW)\n",
    "house_data['HasGasHeating'] = pd.Series(len(house_data['Heating']), index=house_data.index)\n",
    "house_data['HasGasHeating'] = 0 \n",
    "house_data.loc[house_data['Heating']== 'GasA','HasGasHeating'] = 1\n",
    "house_data.loc[house_data['Heating']== 'GasW','HasGasHeating'] = 1\n"
   ]
  },
  {
   "cell_type": "code",
   "execution_count": 24,
   "metadata": {},
   "outputs": [
    {
     "data": {
      "application/javascript": [
       "\n",
       "            setTimeout(function() {\n",
       "                var nbb_cell_id = 24;\n",
       "                var nbb_unformatted_code = \"#Has Modern Circuitbreaker = 0 (no) or 1 (yes)\\nhouse_data['HasSBrkr'] = pd.Series(len(house_data['Electrical']), index=house_data.index)\\nhouse_data['HasSBrkr'] = 0 \\nhouse_data.loc[house_data['Electrical']== 'SBrkr','HasSBrkr'] = 1\";\n",
       "                var nbb_formatted_code = \"# Has Modern Circuitbreaker = 0 (no) or 1 (yes)\\nhouse_data[\\\"HasSBrkr\\\"] = pd.Series(\\n    len(house_data[\\\"Electrical\\\"]), index=house_data.index\\n)\\nhouse_data[\\\"HasSBrkr\\\"] = 0\\nhouse_data.loc[house_data[\\\"Electrical\\\"] == \\\"SBrkr\\\", \\\"HasSBrkr\\\"] = 1\";\n",
       "                var nbb_cells = Jupyter.notebook.get_cells();\n",
       "                for (var i = 0; i < nbb_cells.length; ++i) {\n",
       "                    if (nbb_cells[i].input_prompt_number == nbb_cell_id) {\n",
       "                        if (nbb_cells[i].get_text() == nbb_unformatted_code) {\n",
       "                             nbb_cells[i].set_text(nbb_formatted_code);\n",
       "                        }\n",
       "                        break;\n",
       "                    }\n",
       "                }\n",
       "            }, 500);\n",
       "            "
      ],
      "text/plain": [
       "<IPython.core.display.Javascript object>"
      ]
     },
     "metadata": {},
     "output_type": "display_data"
    }
   ],
   "source": [
    "#Has Modern Circuitbreaker = 0 (no) or 1 (yes)\n",
    "house_data['HasSBrkr'] = pd.Series(len(house_data['Electrical']), index=house_data.index)\n",
    "house_data['HasSBrkr'] = 0 \n",
    "house_data.loc[house_data['Electrical']== 'SBrkr','HasSBrkr'] = 1\n"
   ]
  },
  {
   "cell_type": "code",
   "execution_count": 25,
   "metadata": {},
   "outputs": [
    {
     "data": {
      "application/javascript": [
       "\n",
       "            setTimeout(function() {\n",
       "                var nbb_cell_id = 25;\n",
       "                var nbb_unformatted_code = \"#Has excellent basement quality = 0 (no) or 1 (yes)\\nhouse_data['HasExBsmtQual'] = pd.Series(len(house_data['BsmtQual']), index=house_data.index)\\nhouse_data['HasExBsmtQual'] = 0 \\nhouse_data.loc[house_data['BsmtQual']== 'Ex','HasExBsmtQual'] = 1\";\n",
       "                var nbb_formatted_code = \"# Has excellent basement quality = 0 (no) or 1 (yes)\\nhouse_data[\\\"HasExBsmtQual\\\"] = pd.Series(\\n    len(house_data[\\\"BsmtQual\\\"]), index=house_data.index\\n)\\nhouse_data[\\\"HasExBsmtQual\\\"] = 0\\nhouse_data.loc[house_data[\\\"BsmtQual\\\"] == \\\"Ex\\\", \\\"HasExBsmtQual\\\"] = 1\";\n",
       "                var nbb_cells = Jupyter.notebook.get_cells();\n",
       "                for (var i = 0; i < nbb_cells.length; ++i) {\n",
       "                    if (nbb_cells[i].input_prompt_number == nbb_cell_id) {\n",
       "                        if (nbb_cells[i].get_text() == nbb_unformatted_code) {\n",
       "                             nbb_cells[i].set_text(nbb_formatted_code);\n",
       "                        }\n",
       "                        break;\n",
       "                    }\n",
       "                }\n",
       "            }, 500);\n",
       "            "
      ],
      "text/plain": [
       "<IPython.core.display.Javascript object>"
      ]
     },
     "metadata": {},
     "output_type": "display_data"
    }
   ],
   "source": [
    "#Has excellent basement quality = 0 (no) or 1 (yes)\n",
    "house_data['HasExBsmtQual'] = pd.Series(len(house_data['BsmtQual']), index=house_data.index)\n",
    "house_data['HasExBsmtQual'] = 0 \n",
    "house_data.loc[house_data['BsmtQual']== 'Ex','HasExBsmtQual'] = 1\n"
   ]
  },
  {
   "cell_type": "code",
   "execution_count": 26,
   "metadata": {},
   "outputs": [
    {
     "data": {
      "application/javascript": [
       "\n",
       "            setTimeout(function() {\n",
       "                var nbb_cell_id = 26;\n",
       "                var nbb_unformatted_code = \"#Has Basement Exposure = 0 (no) or 1 (yes)\\nhouse_data['HasGd'] = pd.Series(len(house_data['BsmtExposure']), index=house_data.index)\\nhouse_data['HasGd'] = 0 \\nhouse_data.loc[house_data['BsmtExposure']== 'Gd','HasGd'] = 1\";\n",
       "                var nbb_formatted_code = \"# Has Basement Exposure = 0 (no) or 1 (yes)\\nhouse_data[\\\"HasGd\\\"] = pd.Series(len(house_data[\\\"BsmtExposure\\\"]), index=house_data.index)\\nhouse_data[\\\"HasGd\\\"] = 0\\nhouse_data.loc[house_data[\\\"BsmtExposure\\\"] == \\\"Gd\\\", \\\"HasGd\\\"] = 1\";\n",
       "                var nbb_cells = Jupyter.notebook.get_cells();\n",
       "                for (var i = 0; i < nbb_cells.length; ++i) {\n",
       "                    if (nbb_cells[i].input_prompt_number == nbb_cell_id) {\n",
       "                        if (nbb_cells[i].get_text() == nbb_unformatted_code) {\n",
       "                             nbb_cells[i].set_text(nbb_formatted_code);\n",
       "                        }\n",
       "                        break;\n",
       "                    }\n",
       "                }\n",
       "            }, 500);\n",
       "            "
      ],
      "text/plain": [
       "<IPython.core.display.Javascript object>"
      ]
     },
     "metadata": {},
     "output_type": "display_data"
    }
   ],
   "source": [
    "#Has Basement Exposure = 0 (no) or 1 (yes)\n",
    "house_data['HasGd'] = pd.Series(len(house_data['BsmtExposure']), index=house_data.index)\n",
    "house_data['HasGd'] = 0 \n",
    "house_data.loc[house_data['BsmtExposure']== 'Gd','HasGd'] = 1\n"
   ]
  },
  {
   "cell_type": "code",
   "execution_count": 27,
   "metadata": {},
   "outputs": [
    {
     "data": {
      "application/javascript": [
       "\n",
       "            setTimeout(function() {\n",
       "                var nbb_cell_id = 27;\n",
       "                var nbb_unformatted_code = \"#Has Basement with good living quarters = 0 (no) or 1 (yes)\\nhouse_data['HasGLQ'] = pd.Series(len(house_data['BsmtFinType1']), index=house_data.index)\\nhouse_data['HasGLQ'] = 0 \\nhouse_data.loc[house_data['BsmtFinType1']== 'GLQ','HasGLQ'] = 1\";\n",
       "                var nbb_formatted_code = \"# Has Basement with good living quarters = 0 (no) or 1 (yes)\\nhouse_data[\\\"HasGLQ\\\"] = pd.Series(\\n    len(house_data[\\\"BsmtFinType1\\\"]), index=house_data.index\\n)\\nhouse_data[\\\"HasGLQ\\\"] = 0\\nhouse_data.loc[house_data[\\\"BsmtFinType1\\\"] == \\\"GLQ\\\", \\\"HasGLQ\\\"] = 1\";\n",
       "                var nbb_cells = Jupyter.notebook.get_cells();\n",
       "                for (var i = 0; i < nbb_cells.length; ++i) {\n",
       "                    if (nbb_cells[i].input_prompt_number == nbb_cell_id) {\n",
       "                        if (nbb_cells[i].get_text() == nbb_unformatted_code) {\n",
       "                             nbb_cells[i].set_text(nbb_formatted_code);\n",
       "                        }\n",
       "                        break;\n",
       "                    }\n",
       "                }\n",
       "            }, 500);\n",
       "            "
      ],
      "text/plain": [
       "<IPython.core.display.Javascript object>"
      ]
     },
     "metadata": {},
     "output_type": "display_data"
    }
   ],
   "source": [
    "#Has Basement with good living quarters = 0 (no) or 1 (yes)\n",
    "house_data['HasGLQ'] = pd.Series(len(house_data['BsmtFinType1']), index=house_data.index)\n",
    "house_data['HasGLQ'] = 0 \n",
    "house_data.loc[house_data['BsmtFinType1']== 'GLQ','HasGLQ'] = 1\n"
   ]
  },
  {
   "cell_type": "code",
   "execution_count": 28,
   "metadata": {},
   "outputs": [
    {
     "data": {
      "application/javascript": [
       "\n",
       "            setTimeout(function() {\n",
       "                var nbb_cell_id = 28;\n",
       "                var nbb_unformatted_code = \"#Has paved driveway = 0 (no) or 1 (yes)\\nhouse_data['HasPavedDrive'] = pd.Series(len(house_data['PavedDrive']), index=house_data.index)\\nhouse_data['HasPavedDrive'] = 0 \\nhouse_data.loc[house_data['PavedDrive']== 'Y','HasPavedDrive'] = 1\";\n",
       "                var nbb_formatted_code = \"# Has paved driveway = 0 (no) or 1 (yes)\\nhouse_data[\\\"HasPavedDrive\\\"] = pd.Series(\\n    len(house_data[\\\"PavedDrive\\\"]), index=house_data.index\\n)\\nhouse_data[\\\"HasPavedDrive\\\"] = 0\\nhouse_data.loc[house_data[\\\"PavedDrive\\\"] == \\\"Y\\\", \\\"HasPavedDrive\\\"] = 1\";\n",
       "                var nbb_cells = Jupyter.notebook.get_cells();\n",
       "                for (var i = 0; i < nbb_cells.length; ++i) {\n",
       "                    if (nbb_cells[i].input_prompt_number == nbb_cell_id) {\n",
       "                        if (nbb_cells[i].get_text() == nbb_unformatted_code) {\n",
       "                             nbb_cells[i].set_text(nbb_formatted_code);\n",
       "                        }\n",
       "                        break;\n",
       "                    }\n",
       "                }\n",
       "            }, 500);\n",
       "            "
      ],
      "text/plain": [
       "<IPython.core.display.Javascript object>"
      ]
     },
     "metadata": {},
     "output_type": "display_data"
    }
   ],
   "source": [
    "#Has paved driveway = 0 (no) or 1 (yes)\n",
    "house_data['HasPavedDrive'] = pd.Series(len(house_data['PavedDrive']), index=house_data.index)\n",
    "house_data['HasPavedDrive'] = 0 \n",
    "house_data.loc[house_data['PavedDrive']== 'Y','HasPavedDrive'] = 1\n"
   ]
  },
  {
   "cell_type": "markdown",
   "metadata": {},
   "source": [
    "## Remove Outliers"
   ]
  },
  {
   "cell_type": "code",
   "execution_count": 30,
   "metadata": {},
   "outputs": [
    {
     "ename": "NameError",
     "evalue": "name 'plt' is not defined",
     "output_type": "error",
     "traceback": [
      "\u001b[0;31m---------------------------------------------------------------------------\u001b[0m",
      "\u001b[0;31mNameError\u001b[0m                                 Traceback (most recent call last)",
      "\u001b[0;32m<ipython-input-30-3289257107a7>\u001b[0m in \u001b[0;36m<module>\u001b[0;34m\u001b[0m\n\u001b[1;32m     15\u001b[0m \u001b[0;34m\u001b[0m\u001b[0m\n\u001b[1;32m     16\u001b[0m \u001b[0;31m# Plot Outliers\u001b[0m\u001b[0;34m\u001b[0m\u001b[0;34m\u001b[0m\u001b[0;34m\u001b[0m\u001b[0m\n\u001b[0;32m---> 17\u001b[0;31m \u001b[0mplt\u001b[0m\u001b[0;34m.\u001b[0m\u001b[0mfigure\u001b[0m\u001b[0;34m(\u001b[0m\u001b[0mfigsize\u001b[0m\u001b[0;34m=\u001b[0m\u001b[0;34m(\u001b[0m\u001b[0;36m15\u001b[0m\u001b[0;34m,\u001b[0m \u001b[0;36m20\u001b[0m\u001b[0;34m)\u001b[0m\u001b[0;34m)\u001b[0m\u001b[0;34m\u001b[0m\u001b[0;34m\u001b[0m\u001b[0m\n\u001b[0m\u001b[1;32m     18\u001b[0m \u001b[0;32mfor\u001b[0m \u001b[0midx\u001b[0m\u001b[0;34m,\u001b[0m \u001b[0mcol\u001b[0m \u001b[0;32min\u001b[0m \u001b[0menumerate\u001b[0m\u001b[0;34m(\u001b[0m\u001b[0mnum_cont_features\u001b[0m\u001b[0;34m)\u001b[0m\u001b[0;34m:\u001b[0m\u001b[0;34m\u001b[0m\u001b[0;34m\u001b[0m\u001b[0m\n\u001b[1;32m     19\u001b[0m     \u001b[0moutliers\u001b[0m \u001b[0;34m=\u001b[0m \u001b[0moutlier_idx\u001b[0m\u001b[0;34m(\u001b[0m\u001b[0mhouse_data\u001b[0m\u001b[0;34m[\u001b[0m\u001b[0mcol\u001b[0m\u001b[0;34m]\u001b[0m\u001b[0;34m,\u001b[0m \u001b[0;36m6\u001b[0m\u001b[0;34m)\u001b[0m  \u001b[0;31m# outlier indices\u001b[0m\u001b[0;34m\u001b[0m\u001b[0;34m\u001b[0m\u001b[0m\n",
      "\u001b[0;31mNameError\u001b[0m: name 'plt' is not defined"
     ]
    },
    {
     "data": {
      "application/javascript": [
       "\n",
       "            setTimeout(function() {\n",
       "                var nbb_cell_id = 30;\n",
       "                var nbb_unformatted_code = \"# Separate predictors by numerical and categorical features\\nfrom functions_file import categorize\\ncat_features, num_cont_features, num_disc_features = categorize(house_data)\\n\\n# Determine Outliers of Continuous Data\\ndef outlier_idx(data, thresh):\\n\\n    avg = data.mean()  # calc average\\n    stdev = data.std()  # calc standard deviation\\n    z_score = (data - avg) / stdev  # calc z_score\\n    ol = z_score > thresh  # boolean (True=outlier)\\n    outlier_idx = data.index[ol]  # indexes of outliers\\n\\n    return list(outlier_idx)\\n\\n# Plot Outliers\\nplt.figure(figsize=(15, 20))\\nfor idx, col in enumerate(num_cont_features):\\n    outliers = outlier_idx(house_data[col], 6)  # outlier indices\\n    plt.subplot(math.ceil(len(num_cont_features) / ncol), ncol, idx + 1)\\n    plt.scatter(x=house_data[col], y=house_data[\\\"SalePrice_log\\\"], c=\\\"blue\\\")\\n    plt.scatter(\\n        x=house_data[col][outliers], y=house_data[\\\"SalePrice_log\\\"][outliers], c=\\\"red\\\"\\n    )\\n    plt.ylabel(\\\"SalePrice_log\\\")\\n    plt.xlabel(col)\";\n",
       "                var nbb_formatted_code = \"# Separate predictors by numerical and categorical features\\nfrom functions_file import categorize\\n\\ncat_features, num_cont_features, num_disc_features = categorize(house_data)\\n\\n# Determine Outliers of Continuous Data\\ndef outlier_idx(data, thresh):\\n\\n    avg = data.mean()  # calc average\\n    stdev = data.std()  # calc standard deviation\\n    z_score = (data - avg) / stdev  # calc z_score\\n    ol = z_score > thresh  # boolean (True=outlier)\\n    outlier_idx = data.index[ol]  # indexes of outliers\\n\\n    return list(outlier_idx)\\n\\n\\n# Plot Outliers\\nplt.figure(figsize=(15, 20))\\nfor idx, col in enumerate(num_cont_features):\\n    outliers = outlier_idx(house_data[col], 6)  # outlier indices\\n    plt.subplot(math.ceil(len(num_cont_features) / ncol), ncol, idx + 1)\\n    plt.scatter(x=house_data[col], y=house_data[\\\"SalePrice_log\\\"], c=\\\"blue\\\")\\n    plt.scatter(\\n        x=house_data[col][outliers], y=house_data[\\\"SalePrice_log\\\"][outliers], c=\\\"red\\\"\\n    )\\n    plt.ylabel(\\\"SalePrice_log\\\")\\n    plt.xlabel(col)\";\n",
       "                var nbb_cells = Jupyter.notebook.get_cells();\n",
       "                for (var i = 0; i < nbb_cells.length; ++i) {\n",
       "                    if (nbb_cells[i].input_prompt_number == nbb_cell_id) {\n",
       "                        if (nbb_cells[i].get_text() == nbb_unformatted_code) {\n",
       "                             nbb_cells[i].set_text(nbb_formatted_code);\n",
       "                        }\n",
       "                        break;\n",
       "                    }\n",
       "                }\n",
       "            }, 500);\n",
       "            "
      ],
      "text/plain": [
       "<IPython.core.display.Javascript object>"
      ]
     },
     "metadata": {},
     "output_type": "display_data"
    }
   ],
   "source": [
    "# # Separate predictors by numerical and categorical features\n",
    "# from functions_file import categorize\n",
    "\n",
    "# cat_features, num_cont_features, num_disc_features = categorize(house_data)\n",
    "\n",
    "# # Determine Outliers of Continuous Data\n",
    "# def outlier_idx(data, thresh):\n",
    "\n",
    "#     avg = data.mean()  # calc average\n",
    "#     stdev = data.std()  # calc standard deviation\n",
    "#     z_score = (data - avg) / stdev  # calc z_score\n",
    "#     ol = z_score > thresh  # boolean (True=outlier)\n",
    "#     outlier_idx = data.index[ol]  # indexes of outliers\n",
    "\n",
    "#     return list(outlier_idx)\n",
    "\n",
    "\n",
    "# # Plot Outliers\n",
    "# plt.figure(figsize=(15, 20))\n",
    "# for idx, col in enumerate(num_cont_features):\n",
    "#     outliers = outlier_idx(house_data[col], 6)  # outlier indices\n",
    "#     plt.subplot(math.ceil(len(num_cont_features) / ncol), ncol, idx + 1)\n",
    "#     plt.scatter(x=house_data[col], y=house_data[\"SalePrice_log\"], c=\"blue\")\n",
    "#     plt.scatter(\n",
    "#         x=house_data[col][outliers], y=house_data[\"SalePrice_log\"][outliers], c=\"red\"\n",
    "#     )\n",
    "#     plt.ylabel(\"SalePrice_log\")\n",
    "#     plt.xlabel(col)"
   ]
  },
  {
   "cell_type": "code",
   "execution_count": null,
   "metadata": {},
   "outputs": [],
   "source": []
  },
  {
   "cell_type": "code",
   "execution_count": null,
   "metadata": {},
   "outputs": [],
   "source": [
    "# vars_outliers = 'LotFrontage', 'LotArea', 'MasVnrArea', 'TotalBsmtSF', 'GrLivArea'\n",
    "\n",
    "# outlier_store = {}\n",
    "# thresh = 6  # outlier > +6std away from mean\n",
    "\n",
    "# for idx, col in enumerate(num_cont_features):\n",
    "#     outliers = outlier_idx(house_data[col], thresh)  # outlier indices\n",
    "\n",
    "#     if len(outliers) > 0:\n",
    "#         outlier_store[col] = outliers  # only store features with outliers"
   ]
  },
  {
   "cell_type": "markdown",
   "metadata": {},
   "source": [
    "## Remove Variables"
   ]
  },
  {
   "cell_type": "code",
   "execution_count": 28,
   "metadata": {},
   "outputs": [
    {
     "data": {
      "application/javascript": [
       "\n",
       "            setTimeout(function() {\n",
       "                var nbb_cell_id = 28;\n",
       "                var nbb_unformatted_code = \"var_toremove = ['MoSold', \\n                'OverallCond', \\n                'BedroomAbvGr', \\n                'KitchenAbvGr', \\n                'Fireplaces', \\n                'PoolArea', \\n                'MoSold', \\n                'YrSold', \\n                'GarageCars', \\n                'Heating', \\n                'Fence', \\n                'MiscFeature', \\n                'SaleType', \\n                'Electrical', \\n                'PoolQC', \\n                'BsmtFinType2', \\n                'Functional',\\n                'BsmtQual',\\n                'BsmtExposure',\\n                'Functional',\\n                'GarageCond',\\n                'SaleCondition',\\n                'Street']\";\n",
       "                var nbb_formatted_code = \"var_toremove = [\\n    \\\"MoSold\\\",\\n    \\\"OverallCond\\\",\\n    \\\"BedroomAbvGr\\\",\\n    \\\"KitchenAbvGr\\\",\\n    \\\"Fireplaces\\\",\\n    \\\"PoolArea\\\",\\n    \\\"MoSold\\\",\\n    \\\"YrSold\\\",\\n    \\\"GarageCars\\\",\\n    \\\"Heating\\\",\\n    \\\"Fence\\\",\\n    \\\"MiscFeature\\\",\\n    \\\"SaleType\\\",\\n    \\\"Electrical\\\",\\n    \\\"PoolQC\\\",\\n    \\\"BsmtFinType2\\\",\\n    \\\"Functional\\\",\\n    \\\"BsmtQual\\\",\\n    \\\"BsmtExposure\\\",\\n    \\\"Functional\\\",\\n    \\\"GarageCond\\\",\\n    \\\"SaleCondition\\\",\\n    \\\"Street\\\",\\n]\";\n",
       "                var nbb_cells = Jupyter.notebook.get_cells();\n",
       "                for (var i = 0; i < nbb_cells.length; ++i) {\n",
       "                    if (nbb_cells[i].input_prompt_number == nbb_cell_id) {\n",
       "                        if (nbb_cells[i].get_text() == nbb_unformatted_code) {\n",
       "                             nbb_cells[i].set_text(nbb_formatted_code);\n",
       "                        }\n",
       "                        break;\n",
       "                    }\n",
       "                }\n",
       "            }, 500);\n",
       "            "
      ],
      "text/plain": [
       "<IPython.core.display.Javascript object>"
      ]
     },
     "metadata": {},
     "output_type": "display_data"
    }
   ],
   "source": [
    "#MUST ADD RICHARD'S VARIABLES TO LIST\n",
    "var_toremove = ['Id'\n",
    "                'BsmtFinType2',\n",
    "                'LowQualFinSF',\n",
    "                'MiscVal',\n",
    "                'GarageYrBlt',\n",
    "                'MoSold',\n",
    "                'OverallCond',\n",
    "                'KitchenAbvGr',\n",
    "                'Fireplaces',\n",
    "                'PoolArea',\n",
    "                'MoSold', \n",
    "                'YrSold', \n",
    "                'GarageCars', \n",
    "                'Heating', \n",
    "                'Fence', \n",
    "                'MiscFeature', \n",
    "                'SaleType', \n",
    "                'Electrical', \n",
    "                'PoolQC', \n",
    "                'Functional',\n",
    "                'BsmtQual',\n",
    "                'BsmtExposure',\n",
    "                'GarageCond',\n",
    "                'SaleCondition',\n",
    "                'Street']\n",
    "\n",
    "house_data.drop(var_toremove, axis=1, inplace=True)"
   ]
  },
  {
   "cell_type": "code",
   "execution_count": null,
   "metadata": {},
   "outputs": [],
   "source": []
  }
 ],
 "metadata": {
  "kernelspec": {
   "display_name": "Python 3",
   "language": "python",
   "name": "python3"
  },
  "language_info": {
   "codemirror_mode": {
    "name": "ipython",
    "version": 3
   },
   "file_extension": ".py",
   "mimetype": "text/x-python",
   "name": "python",
   "nbconvert_exporter": "python",
   "pygments_lexer": "ipython3",
   "version": "3.7.4"
  }
 },
 "nbformat": 4,
 "nbformat_minor": 2
}
